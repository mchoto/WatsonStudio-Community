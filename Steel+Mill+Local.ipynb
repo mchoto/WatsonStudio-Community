{
 "cells": [
  {
   "cell_type": "markdown",
   "metadata": {},
   "source": [
    "# Building steel coils\n",
    "\n",
    "This tutorial includes everything you need to set up decision optimization engines, and build constraint programming models to optimize the steel mill slab design problem solution. This problem is based on \"prob038: Steel mill slab design problem\" from [CSPLib](http://www.csplib.org). All data and instructions that you need to model and solve this problem are included.\n",
    "\n",
    "\n",
    "When you finish this tutorial, you'll have a foundational knowledge of _Prescriptive Analytics_.\n",
    "\n",
    ">This notebook is part of [Prescriptive Analytics for Python](https://rawgit.com/IBMDecisionOptimization/docplex-doc/master/docs/index.html).\n",
    "\n",
    ">This notebook requires a valid subscription to [Decision Optimization on Cloud](https://developer.ibm.com/docloud) or a local installation of CPLEX Optimizers.\n",
    "\n",
    "Some familiarity with Python is recommended.\n"
   ]
  },
  {
   "cell_type": "markdown",
   "metadata": {},
   "source": [
    " ## Table of contents \n",
    "\n",
    "-  [Describe the business problem](#Describe-the-business-problem)<br>\n",
    "-  [How decision optimization (prescriptive analytics) can help](#How--decision-optimization-can-help)<br>\n",
    "-  [Use decision optimization](#Use-decision-optimization)<br>\n",
    "    1.  [Download the library](#Download-library)<br>\n",
    "    2.  [Set up the engines](#Step-2:-Set-up-the-prescriptive-engine)<br>\n",
    "    3.  [Model the data](#Step-3:-Model-the-data)<br>\n",
    "    4.  [Set up the prescriptive model](#Step-4:-Set-up-the-prescriptive-model)<br>\n",
    "        4.1 [Define the decision variables](#Define-the-decision-variables)<br>\n",
    "        4.2 [Express the business constraints](#Express-the-business-constraints)<br>\n",
    "        4.3 [Express the objective](#Express-objective)<br>\n",
    "        4.4 [Solve with Decision Optimization solve service](#Solve-with-Decision-Optimization-solve-service)<br>\n",
    "    5. [Investigate the solution and run an example analysis](#Step-5:-Investigate-the-solution-and-then-run-an-example-analysis)<br>\n",
    "-  [Summary](#Summary)<br>\n",
    "****\n",
    "   "
   ]
  },
  {
   "cell_type": "markdown",
   "metadata": {},
   "source": [
    "### Describe the business problem\n",
    "\n",
    "* The problem is to build steel coils from slabs that are available in a work-in-process inventory of semi-finished products. There is no limitation in the number of slabs that can be requested, but only a finite number of slab sizes is available (sizes 11, 13, 16, 17, 19, 20, 23, 24, 25, 26, 27, 28, 29, 30, 33, 34, 40, 43, 45). \n",
    "* The problem is to select a number of slabs to build the coil orders, and to satisfy the following constraints:\n",
    "    * A coil order can be built from only one slab.\n",
    "    * Each coil order requires a specific process to build it from a slab. This process is encoded by a color.\n",
    "    * Several coil orders can be built from the same slab. But a slab can be used to produce at most two different \"colors\" of coils.\n",
    "    * The sum of the sizes of each coil order built from a slab must not exceed the slab size.\n",
    "\n",
    "\n",
    "* Finally, the production plan should minimize the unused capacity of the selected slabs."
   ]
  },
  {
   "cell_type": "markdown",
   "metadata": {},
   "source": [
    "## How  decision optimization can help\n",
    "\n",
    "Prescriptive analytics (decision optimization) technology recommends actions that are based on desired outcomes. It considers specific scenarios, resources, and knowledge of past and current events. With this insight, your organization can make better decisions and have greater control over business outcomes.\n",
    "\n",
    "Prescriptive analytics is the next step on the path to insight-based actions. It creates value through synergy with predictive analytics, which analyzes data to predict future outcomes. Prescriptive analytics takes that insight to the next level by suggesting the optimal way to handle a future situation. Organizations that act fast in dynamic conditions and make superior decisions in uncertain environments gain a strong competitive advantage.\n",
    "\n",
    "With prescriptive analytics, you can:\n",
    "\n",
    "* Automate the complex decisions and trade-offs to better manage your limited resources.\n",
    "    \n",
    "* Take advantage of a future opportunity or mitigate a future risk.\n",
    "    \n",
    "* Proactively update recommendations based on changing events.\n",
    "    \n",
    "* Meet operational goals, increase customer loyalty, prevent threats and fraud, and optimize business processes.\n"
   ]
  },
  {
   "cell_type": "markdown",
   "metadata": {},
   "source": [
    "## Use decision optimization"
   ]
  },
  {
   "cell_type": "markdown",
   "metadata": {},
   "source": [
    "<a id=\"Download-library\"></a>\n",
    "## 1. Download the DOcplex library\n",
    "\n",
    "DOcplex is the Decision Optimization CPLEX Modeling library for Python. This library includes two modules, Mathematical Programming Modeling (DOcplex.MP ) and Constraint Programming Modeling (DOcplex.CP).\n",
    "\n",
    "Run the following cell to install the library. The `real.prefix` in the code is used to detect whether the script is running inside a virtual environment, and adjust the install procedure accordingly."
   ]
  },
  {
   "cell_type": "code",
   "execution_count": null,
   "metadata": {
    "collapsed": true,
    "scrolled": true
   },
   "outputs": [],
   "source": [
    "!pip install docplex"
   ]
  },
  {
   "cell_type": "code",
   "execution_count": 1,
   "metadata": {
    "collapsed": true
   },
   "outputs": [],
   "source": [
    "import docplex.cp"
   ]
  },
  {
   "cell_type": "markdown",
   "metadata": {},
   "source": [
    "Note that the more global package <i>docplex</i> contains another subpackage <i>docplex.mp</i> that is dedicated to Mathematical Programming, another branch of optimization."
   ]
  },
  {
   "cell_type": "markdown",
   "metadata": {},
   "source": [
    "<a id=\"Step-2:-Set-up-the-prescriptive-engine\"></a>\n",
    "## 2. Set up the prescriptive engine\n",
    "\n",
    "To access the DOcplexcloud solve service, perform the following steps:\n",
    "\n",
    "* Subscribe to the [Decision Optimization on Cloud](https://developer.ibm.com/docloud) (DOcplexcloud) service.\n",
    "* Get the service base URL and personal API key.\n",
    "* Enter the URL and API key in the cell below, enclosed in quotation marks (\"\"), and run the cell. \n",
    "\n",
    "__Note:__ For a persistent setting, create a Python configuration file *docloud_config.py* in a location that is visible to PYTHONPATH."
   ]
  },
  {
   "cell_type": "code",
   "execution_count": null,
   "metadata": {
    "collapsed": true,
    "render": false
   },
   "outputs": [],
   "source": [
    "# Initialize IBM Decision Optimization credentials\n",
    "SVC_URL = \"ENTER YOUR URL HERE\" \n",
    "SVC_KEY = \"ENTER YOUR CREDENTIAL ID HERE\""
   ]
  },
  {
   "cell_type": "markdown",
   "metadata": {},
   "source": [
    "Import the DOcplex library. "
   ]
  },
  {
   "cell_type": "code",
   "execution_count": 3,
   "metadata": {
    "collapsed": true
   },
   "outputs": [],
   "source": [
    "from docplex.cp.model import *"
   ]
  },
  {
   "cell_type": "markdown",
   "metadata": {},
   "source": [
    "<div class=\"alert alert-block alert-info\"> Note: This notebook requires a full subscription to CPLEX 12.7.1 or above, that is with a valid docplexcloud url and key.</div> "
   ]
  },
  {
   "cell_type": "markdown",
   "metadata": {},
   "source": [
    "<a id=\"Step-3:-Model-the-data\"></a>\n",
    "## 3. Model the data"
   ]
  },
  {
   "cell_type": "markdown",
   "metadata": {},
   "source": [
    "Set the model parameters. The comments in the code provide details about the data."
   ]
  },
  {
   "cell_type": "code",
   "execution_count": 4,
   "metadata": {
    "collapsed": true
   },
   "outputs": [],
   "source": [
    "from collections import namedtuple\n",
    "\n",
    "##############################################################################\n",
    "# Model configuration\n",
    "##############################################################################\n",
    "\n",
    "# The number of coils to produce\n",
    "TUPLE_ORDER = namedtuple(\"TUPLE_ORDER\", [\"index\", \"weight\", \"color\"])\n",
    "orders = [ TUPLE_ORDER(1, 22, 5),\n",
    "           TUPLE_ORDER(2,  9, 3),\n",
    "           TUPLE_ORDER(3,  9, 4),\n",
    "           TUPLE_ORDER(4,  8, 5),\n",
    "           TUPLE_ORDER(5,  8, 7),\n",
    "           TUPLE_ORDER(6,  6, 3),\n",
    "           TUPLE_ORDER(7,  5, 6),\n",
    "           TUPLE_ORDER(8,  3, 0),\n",
    "           TUPLE_ORDER(9,  3, 2),\n",
    "           TUPLE_ORDER(10, 3, 3),\n",
    "           TUPLE_ORDER(11, 2, 1),\n",
    "           TUPLE_ORDER(12, 2, 5)\n",
    "           ]\n",
    "\n",
    "NB_SLABS = 12\n",
    "MAX_COLOR_PER_SLAB = 2\n",
    "\n",
    "# The total number of slabs available.  In theory this can be unlimited,\n",
    "# but we impose a reasonable upper bound in order to produce a practical\n",
    "# optimization model.\n",
    "\n",
    "# The different slab weights available.\n",
    "slab_weights = [ 0, 11, 13, 16, 17, 19, 20, 23, 24, 25,\n",
    "                 26, 27, 28, 29, 30, 33, 34, 40, 43, 45 ]"
   ]
  },
  {
   "cell_type": "code",
   "execution_count": 5,
   "metadata": {
    "collapsed": true
   },
   "outputs": [],
   "source": [
    "nb_orders = len(orders)\n",
    "slabs = range(NB_SLABS)\n",
    "allcolors = set([ o.color for o in orders ])\n",
    "\n",
    "# CPO needs lists for pack constraint\n",
    "order_weights = [ o.weight for o in orders ]\n",
    "\n",
    "# The heaviest slab\n",
    "max_slab_weight = max(slab_weights)\n",
    "\n",
    "# The amount of loss incurred for different amounts of slab use\n",
    "# The loss will depend on how much less steel is used than the slab\n",
    "# just large enough to produce the coils.\n",
    "loss = [ min([sw-use for sw in slab_weights if sw >= use]) for use in range(max_slab_weight+1)]"
   ]
  },
  {
   "cell_type": "markdown",
   "metadata": {},
   "source": [
    "<a id=\"Step-4:-Set-up-the-prescriptive-model\"></a>\n",
    "## 4. Set up the prescriptive model"
   ]
  },
  {
   "cell_type": "markdown",
   "metadata": {},
   "source": [
    "Creates the CPO model."
   ]
  },
  {
   "cell_type": "code",
   "execution_count": 6,
   "metadata": {
    "collapsed": true
   },
   "outputs": [],
   "source": [
    "mdl = CpoModel(name=\"trucks\")"
   ]
  },
  {
   "cell_type": "markdown",
   "metadata": {},
   "source": [
    "<a id=\"Define-the-decision-variables\"></a>\n",
    "### 4.1 Define the decision variables"
   ]
  },
  {
   "cell_type": "code",
   "execution_count": 7,
   "metadata": {
    "collapsed": true
   },
   "outputs": [],
   "source": [
    "# Which slab is used to produce each coil\n",
    "production_slab = integer_var_dict(orders, 0, NB_SLABS-1, \"production_slab\")\n",
    "\n",
    "# How much of each slab is used\n",
    "slab_use = integer_var_list(NB_SLABS, 0, max_slab_weight, \"slab_use\")"
   ]
  },
  {
   "cell_type": "markdown",
   "metadata": {},
   "source": [
    "<a id=\"Express-the-business-constraints\"></a>\n",
    "### 4.2 Express the business constraints"
   ]
  },
  {
   "cell_type": "code",
   "execution_count": 8,
   "metadata": {
    "collapsed": true
   },
   "outputs": [],
   "source": [
    "# The total loss is\n",
    "total_loss = sum([element(slab_use[s], loss) for s in slabs])\n",
    "\n",
    "# The orders are allocated to the slabs with capacity\n",
    "mdl.add(pack(slab_use, [production_slab[o] for o in orders], order_weights))\n",
    "\n",
    "# At most MAX_COLOR_PER_SLAB colors per slab\n",
    "for s in slabs:\n",
    "   su = 0\n",
    "   for c in allcolors:\n",
    "       lo = False\n",
    "       for o in orders:\n",
    "           if o.color==c:\n",
    "               lo = (production_slab[o] == s) | lo\n",
    "       su += lo\n",
    "   mdl.add(su <= MAX_COLOR_PER_SLAB)"
   ]
  },
  {
   "cell_type": "markdown",
   "metadata": {},
   "source": [
    "<a id=\"Express-objective\"></a>\n",
    "### 4.3 Express the objective"
   ]
  },
  {
   "cell_type": "code",
   "execution_count": 9,
   "metadata": {
    "collapsed": true
   },
   "outputs": [],
   "source": [
    "# Add minimization objective\n",
    "mdl.add(minimize(total_loss))"
   ]
  },
  {
   "cell_type": "markdown",
   "metadata": {},
   "source": [
    "<a id=\"Solve-with-Decision-Optimization-solve-service\"></a>\n",
    "### 4.4 Solve with Decision Optimization solve service"
   ]
  },
  {
   "cell_type": "code",
   "execution_count": 10,
   "metadata": {
    "collapsed": false
   },
   "outputs": [
    {
     "name": "stdout",
     "output_type": "stream",
     "text": [
      "\n",
      "Solving model....\n"
     ]
    }
   ],
   "source": [
    "print(\"\\nSolving model....\")\n",
    "# Search strategy\n",
    "mdl.set_search_phases([search_phase([production_slab[o] for o in orders])])\n",
    "\n",
    "msol = mdl.solve(url=SVC_URL, key=SVC_KEY, FailLimit=100000, TimeLimit=10)"
   ]
  },
  {
   "cell_type": "markdown",
   "metadata": {},
   "source": [
    "<a id =\"Step-5:-Investigate-the-solution-and-then-run-an-example-analysis\"></a>\n",
    "## 5. Investigate the solution and then run an example analysis"
   ]
  },
  {
   "cell_type": "markdown",
   "metadata": {},
   "source": [
    "#### Print Solution"
   ]
  },
  {
   "cell_type": "code",
   "execution_count": 11,
   "metadata": {
    "collapsed": false
   },
   "outputs": [
    {
     "name": "stdout",
     "output_type": "stream",
     "text": [
      "Solution: \n",
      "Slab = 1\n",
      "\tLoss = 0\n",
      "\tcolors = set([1, 3])\n",
      "\tOrders = set([2, 11])\n",
      "\n",
      "Slab = 3\n",
      "\tLoss = 0\n",
      "\tcolors = set([2, 5])\n",
      "\tOrders = set([1, 9])\n",
      "\n",
      "Slab = 4\n",
      "\tLoss = 0\n",
      "\tcolors = set([3, 7])\n",
      "\tOrders = set([10, 5])\n",
      "\n",
      "Slab = 6\n",
      "\tLoss = 0\n",
      "\tcolors = set([3, 6])\n",
      "\tOrders = set([6, 7])\n",
      "\n",
      "Slab = 7\n",
      "\tLoss = 0\n",
      "\tcolors = set([4, 5])\n",
      "\tOrders = set([3, 12])\n",
      "\n",
      "Slab = 11\n",
      "\tLoss = 0\n",
      "\tcolors = set([0, 5])\n",
      "\tOrders = set([8, 4])\n",
      "\n"
     ]
    }
   ],
   "source": [
    "if msol:\n",
    "    print(\"Solution: \")\n",
    "    from_slabs = [set([o.index for o in orders if msol[production_slab[o]]== s])for s in slabs]\n",
    "    slab_colors = [set([o.color for o in orders if o.index in from_slabs[s]])for s in slabs]\n",
    "    for s in slabs:\n",
    "        if len(from_slabs[s]) > 0:\n",
    "            print(\"Slab = \" + str(s))\n",
    "            print(\"\\tLoss = \" + str(loss[msol[slab_use[s]]]))\n",
    "            print(\"\\tcolors = \" + str(slab_colors[s]))\n",
    "            print(\"\\tOrders = \" + str(from_slabs[s]) + \"\\n\")\n",
    "else:\n",
    "    print(\"No solution found\")"
   ]
  },
  {
   "cell_type": "markdown",
   "metadata": {},
   "source": [
    "## Summary\n",
    "\n",
    "You learned how to set up and use the IBM Decision Optimization CPLEX Modeling for Python to formulate a Constraint Programming model and solve it with IBM Decision Optimization on the cloud."
   ]
  },
  {
   "cell_type": "markdown",
   "metadata": {},
   "source": [
    "##  References\n",
    "* [CPLEX Modeling for Python documentation](https://rawgit.com/IBMDecisionOptimization/docplex-doc/master/docs/index.html)\n",
    "* [Decision Optimization on Cloud](https://developer.ibm.com/docloud/)\n",
    "* [Decision Optimization documentation](https://dataplatform.cloud.ibm.com/docs/content/DO/DOinDSX.html)\n",
    "* For help with DOcplex, or to report a defect, go [here](https://developer.ibm.com/answers/smartspace/docloud).\n",
    "* Contact us at dofeedback@wwpdl.vnet.ibm.com"
   ]
  },
  {
   "cell_type": "markdown",
   "metadata": {},
   "source": [
    "<div class=\"alert alert-block alert-info\"> Note: To save resources and get the best performance please use the code below to stop the kernel before exiting your notebook.</div>"
   ]
  },
  {
   "cell_type": "code",
   "execution_count": null,
   "metadata": {
    "collapsed": true
   },
   "outputs": [],
   "source": [
    "%%javascript\n",
    "Jupyter.notebook.session.delete();"
   ]
  },
  {
   "cell_type": "markdown",
   "metadata": {},
   "source": [
    "Copyright © 2017 IBM. IPLA licensed Sample Materials."
   ]
  }
 ],
 "metadata": {
  "kernelspec": {
   "display_name": "Python2 with Watson Studio Spark",
   "language": "python",
   "name": "python2"
  },
  "language_info": {
   "codemirror_mode": {
    "name": "ipython",
    "version": 2
   },
   "file_extension": ".py",
   "mimetype": "text/x-python",
   "name": "python",
   "nbconvert_exporter": "python",
   "pygments_lexer": "ipython2",
   "version": "2.7.13"
  }
 },
 "nbformat": 4,
 "nbformat_minor": 1
}
