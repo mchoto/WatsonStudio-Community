{
 "cells": [
  {
   "cell_type": "markdown",
   "metadata": {
    "render": true
   },
   "source": [
    "# Benders decomposition with decision optimization\n",
    "\n",
    "This tutorial includes everything you need to set up decision optimization engines, build a mathematical programming model, and then use the Benders decomposition on it.\n",
    "\n",
    "\n",
    "When you finish this tutorial, you'll have a foundational knowledge of _Prescriptive Analytics_.\n",
    "\n",
    ">This notebook is part of [Prescriptive Analytics for Python](https://rawgit.com/IBMDecisionOptimization/docplex-doc/master/docs/index.html).\n",
    "\n",
    ">This notebook requires a valid subscription to [Decision Optimization on Cloud](https://developer.ibm.com/docloud) or a local installation of CPLEX Optimizers.\n",
    "\n",
    "Some familiarity with Python is recommended. This notebook runs on Python 3."
   ]
  },
  {
   "cell_type": "markdown",
   "metadata": {},
   "source": [
    " ## Table of contents \n",
    "\n",
    "-  [Describe the business problem](#Describe-the-business-problem:--Games-Scheduling-in-the-National-Football-League)<br>\n",
    "-  [How decision optimization (prescriptive analytics) can help](#How--decision-optimization-can-help)<br>\n",
    "-  [Use decision optimization](#Use-decision-optimization)<br>\n",
    "    1.  [Download the library](#Download-library)<br>\n",
    "    2.  [Set up the engines](#Step-2:-Set-up-the-prescriptive-engine)<br>\n",
    "    3.  [Model the data](#Step-3:-Model-the-data)<br>\n",
    "    4.  [Set up the prescriptive model](#Step-4:-Set-up-the-prescriptive-model)\n",
    "    5. [Investigate the solution and run an example analysis](#Step-5:-Investigate-the-solution-and-then-run-an-example-analysis)<br>        \n",
    "        5.1 [Solve the problem with default CPLEX algorithm](#default-CPLEX-solve)<br>\n",
    "        5.2 [Apply a Benders strategy](#Apply-bender)<br>\n",
    "        5.3 [Use the CPLEX annotations](#Use-CPLEX-annotations)<br>\n",
    "-  [Summary](#Summary)<br>\n",
    "****\n",
    "   "
   ]
  },
  {
   "cell_type": "markdown",
   "metadata": {},
   "source": [
    "<a id=\"Describe-the-business-problem:--Games-Scheduling-in-the-National-Football-League\"></a>\n",
    "### Learn more about Benders decomposition\n",
    "\n",
    "Benders decomposition is an approach to solve mathematical programming problems with a decomposable structure.\n",
    "\n",
    "Starting with 12.7, CPLEX can decompose the model into a single master and (possibly multiple) subproblems. \n",
    "\n",
    "To do so, CPLEX can use annotations that you supply for your model or automatically do the decomposition. \n",
    "This approach can be applied to mixed-integer linear programs (MILP). For certain types of problems, this approach can offer significant performance improvements.\n",
    "\n",
    "**Note**:\n",
    "If your problem does not match such decomposition, CPLEX will raise an error at solve time.\n",
    "\n",
    "CPLEX will produce an error `CPXERR_BAD_DECOMPOSITION` if the annotated decomposition does not yield disjoint subproblems"
   ]
  },
  {
   "cell_type": "markdown",
   "metadata": {},
   "source": [
    "#### References\n",
    "\n",
    "The popular acceptance of the original paper that suggested a decomposition or partition of a model to support solution of mixed integer programs gave rise to \"Benders decomposition\" as the algorithm's name.\n",
    "\n",
    "* *J. Benders*. <i>Partitioning procedures for solving mixed-variables programming problems in Numerische Mathematik, volume 4, issue 1, pages 238–252, 1962</i>\n",
    "\n",
    "Other researchers developed the theory of cut-generating linear programs (CGLP) to further this practice.\n",
    "* *M. Fischetti, D. Salvagnin, A. Zanette*. <i>A note on the selection of Benders’ cuts in Mathematical Programming, series B, volume 124, pages 175-182, 2010</i>\n",
    "\n",
    "Still others applied the practice to practical operations research. This technical report describes Benders algorithm in \"modern\" terms and offers implementation hints.\n",
    "* *M. Fischetti, I. Ljubic, M. Sinnl*. <i>Benders decomposition without separability: a computational study for capacitated facility location problems in Technical Report University of Padova, 2016</i>"
   ]
  },
  {
   "cell_type": "markdown",
   "metadata": {
    "render": true
   },
   "source": [
    "## How  decision optimization can help\n",
    "\n",
    "Prescriptive analytics (decision optimization) technology recommends actions that are based on desired outcomes. It considers specific scenarios, resources, and knowledge of past and current events. With this insight, your organization can make better decisions and have greater control over business outcomes.\n",
    "\n",
    "Prescriptive analytics is the next step on the path to insight-based actions. It creates value through synergy with predictive analytics, which analyzes data to predict future outcomes. Prescriptive analytics takes that insight to the next level by suggesting the optimal way to handle a future situation. Organizations that act fast in dynamic conditions and make superior decisions in uncertain environments gain a strong competitive advantage.\n",
    "\n",
    "With prescriptive analytics, you can:\n",
    "\n",
    "* Automate the complex decisions and trade-offs to better manage your limited resources.\n",
    "    \n",
    "* Take advantage of a future opportunity or mitigate a future risk.\n",
    "    \n",
    "* Proactively update recommendations based on changing events.\n",
    "    \n",
    "* Meet operational goals, increase customer loyalty, prevent threats and fraud, and optimize business processes.\n",
    "\n"
   ]
  },
  {
   "cell_type": "markdown",
   "metadata": {},
   "source": [
    "## Use decision optimization"
   ]
  },
  {
   "cell_type": "markdown",
   "metadata": {},
   "source": [
    "<a id=\"Download-library\"></a>\n",
    "## 1. Download the DOcplex library\n",
    "\n",
    "DOcplex is the Decision Optimization CPLEX Modeling library for Python. This library includes two modules, Mathematical Programming Modeling (DOcplex.MP ) and Constraint Programming Modeling (DOcplex.CP)."
   ]
  },
  {
   "cell_type": "code",
   "execution_count": 1,
   "metadata": {
    "collapsed": false
   },
   "outputs": [
    {
     "name": "stdout",
     "output_type": "stream",
     "text": [
      "Requirement already satisfied: docplex in /user-home/1001/.local/lib/python2.7/site-packages\n",
      "Requirement already satisfied: futures in /user-home/1001/.local/lib/python2.7/site-packages (from docplex)\n",
      "Requirement already satisfied: requests in /user-home/1001/.local/lib/python2.7/site-packages (from docplex)\n",
      "Requirement already satisfied: docloud>=1.0.257 in /opt/conda/lib/python2.7/site-packages (from docplex)\n",
      "Requirement already satisfied: six in /opt/conda/lib/python2.7/site-packages (from docplex)\n",
      "Requirement already satisfied: idna<2.7,>=2.5 in /user-home/1001/.local/lib/python2.7/site-packages (from requests->docplex)\n",
      "Requirement already satisfied: urllib3<1.23,>=1.21.1 in /user-home/1001/.local/lib/python2.7/site-packages (from requests->docplex)\n",
      "Requirement already satisfied: certifi>=2017.4.17 in /user-home/1001/.local/lib/python2.7/site-packages (from requests->docplex)\n",
      "Requirement already satisfied: chardet<3.1.0,>=3.0.2 in /user-home/1001/.local/lib/python2.7/site-packages (from requests->docplex)\n",
      "Requirement already satisfied: enum34 in /opt/conda/lib/python2.7/site-packages (from docloud>=1.0.257->docplex)\n"
     ]
    }
   ],
   "source": [
    "!pip install docplex"
   ]
  },
  {
   "cell_type": "code",
   "execution_count": 2,
   "metadata": {
    "collapsed": true
   },
   "outputs": [],
   "source": [
    "import docplex.cp"
   ]
  },
  {
   "cell_type": "markdown",
   "metadata": {
    "render": true
   },
   "source": [
    "<a id=\"Step-2:-Set-up-the-prescriptive-engine\"></a>\n",
    "## 2. Set up the prescriptive engine\n",
    "\n",
    "To access the DOcplexcloud solve service, perform the following steps:\n",
    "\n",
    "* Subscribe to the [Decision Optimization on Cloud](https://developer.ibm.com/docloud) (DOcplexcloud) service.\n",
    "* Get the service base URL and personal API key.\n",
    "* Enter the URL and API key in the cell below, enclosed in quotation marks (\"\"), and run the cell. \n",
    "\n",
    "__Note:__ For a persistent setting, create a Python configuration file *docloud_config.py* in a location that is visible to PYTHONPATH."
   ]
  },
  {
   "cell_type": "code",
   "execution_count": 3,
   "metadata": {
    "collapsed": true,
    "render": false
   },
   "outputs": [],
   "source": [
    "# Initialize IBM Decision Optimization credentials\n",
    "SVC_URL = \"ENTER YOUR URL HERE\" \n",
    "SVC_KEY = \"ENTER YOUR CREDENTIAL ID HERE\""
   ]
  },
  {
   "cell_type": "markdown",
   "metadata": {},
   "source": [
    "Import the DOcplex library."
   ]
  },
  {
   "cell_type": "code",
   "execution_count": 4,
   "metadata": {
    "collapsed": true
   },
   "outputs": [],
   "source": [
    "from docplex.cp.model import *"
   ]
  },
  {
   "cell_type": "markdown",
   "metadata": {},
   "source": [
    "<div class=\"alert alert-block alert-info\"> Note: This notebook requires a full subscription to CPLEX 12.7.1 or above, that is with a valid docplexcloud url and key.</div> "
   ]
  },
  {
   "cell_type": "markdown",
   "metadata": {
    "render": true
   },
   "source": [
    "<a id=\"Step-3:-Model-the-data\"></a>\n",
    "## 3. Model the data"
   ]
  },
  {
   "cell_type": "markdown",
   "metadata": {},
   "source": [
    "We will create a sample model in order to show how to use the annotation api.\n",
    "\n",
    "This model matches a Benders' decomposition, that is CPLEX can apply its new algorithm without any error.\n",
    "\n",
    "The aim of this notebook is to discover and learn how to successfully apply the Benders decomposition to the model, it does not necessarily show performance differences between a standard solve and a Benders based solve."
   ]
  },
  {
   "cell_type": "code",
   "execution_count": 5,
   "metadata": {
    "collapsed": true
   },
   "outputs": [],
   "source": [
    "d1 = 25\n",
    "d2 = 35\n",
    "\n",
    "Costs = [[20,  15,  22,  27,  13,  4,  15,  6,  15,  22,  25,  13,  7,  28,  14,  5,  8,  1,  17,  3,  19,  17,  22,  12,  14],\n",
    "   [2,  15,  16,  16,  10,  13,  4,  2,  6,  29,  10,  8,  20,  11,  8,  11,  28,  17,  10,  29,  3,  24,  12,  11,  11],\n",
    "   [13,  14,  6,  17,  14,  13,  8,  29,  19,  26,  22,  0,  8,  29,  15,  20,  5,  20,  26,  17, 24, 10, 24, 9, 1],\n",
    "   [7, 27, 24, 3, 4, 23, 11, 9, 18, 1, 29, 24, 16, 9, 8, 3, 18, 24, 10, 12, 1, 3, 15, 29, 3],\n",
    "   [25, 26, 29, 6, 24, 8, 2, 10, 17, 0, 4, 7, 2, 17, 2, 27, 24, 20, 18, 5, 5, 2, 21, 26, 20],\n",
    "   [29, 5, 15, 5, 4, 26, 18, 8, 2, 14, 13, 6, 14, 28, 16, 28, 23, 8, 5, 8, 10, 28, 17, 0, 23],\n",
    "   [12, 16, 10, 16, 17, 10, 29, 11, 28, 22, 25, 8, 27, 12, 10, 28, 7, 5, 3, 9, 18, 10, 15, 16, 2],\n",
    "   [12, 9, 14, 23, 26, 4, 3, 3, 22, 12, 11, 9, 19, 5, 6, 16, 1, 1, 9, 20, 23, 23, 27, 4, 11],\n",
    "   [18, 13, 28, 29, 3, 28, 16, 11, 9, 2, 7, 20, 13, 23, 6, 10, 3, 16, 14, 2, 15, 17, 1, 19, 27],\n",
    "   [29, 17, 17, 14, 21, 18, 8, 21, 9, 20, 14, 6, 29, 24, 24, 4, 18, 16, 21, 24, 26, 0, 26, 9, 5],\n",
    "   [27, 24, 21, 28, 17, 18, 10, 10, 26, 25, 13, 18, 2, 9, 16, 26, 10, 22, 5, 17, 15, 0, 9, 0, 16],\n",
    "   [13, 15, 17, 21, 25, 9, 22, 13, 20, 15, 1, 17, 18, 10, 2, 27, 19, 21, 14, 26, 29, 13, 28, 28, 15],\n",
    "   [16, 12, 2, 2, 9, 27, 11, 14, 12, 2, 14, 29, 3, 12, 18, 6, 7, 9, 1, 5, 19, 14, 11, 29, 4],\n",
    "   [1, 15, 27, 29, 16, 17, 10, 10, 17, 19, 6, 10, 20, 20, 19, 10, 19, 26, 15, 7, 20, 19, 13, 3, 22],\n",
    "   [22, 14, 12, 3, 22, 6, 15, 3, 6, 10, 9, 13, 11, 21, 6, 19, 29, 4, 5, 21, 7, 12, 13, 11, 22],\n",
    "   [9, 27, 22, 29, 11, 14, 1, 19, 21, 2, 4, 13, 17, 9, 10, 17, 13, 8, 24, 13, 26, 27, 23, 4, 21],\n",
    "   [3, 14, 26, 18, 17, 3, 1, 11, 13, 8, 22, 3, 18, 26, 17, 15, 22, 10, 19, 23, 13, 14, 17, 18, 27],\n",
    "   [21, 14, 1, 28, 28, 0, 0, 29, 12, 23, 22, 17, 19, 2, 10, 19, 4, 18, 28, 13, 27, 12, 9, 29, 22],\n",
    "   [29, 3, 20, 5, 5, 23, 28, 16, 1, 8, 26, 23, 11, 11, 21, 17, 13, 21, 3, 8, 6, 15, 18, 6, 24],\n",
    "   [14, 20, 26, 10, 17, 20, 5, 9, 25, 20, 14, 22, 5, 12, 0, 18, 7, 0, 8, 15, 21, 12, 26, 7, 21],\n",
    "   [7, 7, 1, 9, 24, 29, 0, 3, 29, 24, 1, 6, 14, 0, 11, 5, 21, 12, 15, 1, 25, 4, 7, 17, 16],\n",
    "   [8, 18, 15, 6, 1, 22, 26, 13, 19, 20, 12, 15, 19, 27, 13, 3, 22, 22, 22, 20, 0, 4, 24, 13, 25],\n",
    "   [14, 6, 29, 23, 8, 5, 4, 18, 21, 29, 18, 2, 2, 3, 7, 13, 12, 9, 2, 18, 26, 3, 18, 7, 7],\n",
    "   [5, 8, 4, 8, 25, 4, 6, 20, 14, 21, 18, 16, 15, 11, 7, 8, 20, 27, 22, 7, 5, 8, 24, 11, 8],\n",
    "   [0, 8, 29, 25, 29, 0, 12, 25, 19, 9, 19, 25, 27, 21, 2, 23, 2, 25, 17, 6, 0, 6, 15, 2, 15],\n",
    "   [23, 24, 10, 26, 7, 5, 5, 26, 1, 16, 22, 8, 24, 9, 16, 17, 1, 26, 20, 23, 18, 20, 23, 2, 19],\n",
    "   [16, 3, 9, 21, 15, 29, 8, 26, 20, 12, 18, 27, 29, 15, 24, 9, 17, 24, 3, 5, 21, 28, 7, 1, 12],\n",
    "   [1, 11, 21, 1, 13, 14, 16, 14, 17, 25, 18, 9, 19, 26, 1, 13, 15, 6, 14, 10, 12, 19, 0, 15, 7],\n",
    "   [20, 14, 7, 5, 8, 16, 12, 0, 5, 14, 18, 16, 24, 27, 20, 7, 11, 3, 16, 8, 2, 2, 4, 0, 3],\n",
    "   [26, 19, 27, 29, 8, 9, 8, 10, 18, 4, 6, 0, 5, 17, 12, 18, 17, 17, 13, 0, 16, 12, 18, 19, 16],\n",
    "   [3, 12, 11, 28, 3, 2, 14, 14, 17, 29, 18, 14, 19, 24, 9, 27, 4, 19, 6, 24, 19, 3, 28, 20, 4],\n",
    "   [2, 0, 21, 14, 21, 12, 27, 6, 20, 29, 13, 21, 23, 0, 20, 4, 11, 27, 3, 11, 21, 11, 21, 4, 17],\n",
    "   [20, 26, 5, 8, 18, 14, 12, 12, 24, 3, 8, 0, 25, 16, 19, 21, 7, 4, 23, 21, 20, 28, 6, 21, 19],\n",
    "   [16, 18, 9, 1, 9, 7, 14, 6, 28, 26, 3, 14, 27, 4, 9, 9, 1, 9, 24, 3, 14, 13, 18, 3, 27],\n",
    "   [1, 19, 7, 20, 26, 27, 0, 7, 4, 0, 13, 8, 10, 17, 14, 19, 21, 21, 14, 15, 22, 14, 5, 27, 0]];"
   ]
  },
  {
   "cell_type": "code",
   "execution_count": 6,
   "metadata": {
    "collapsed": true
   },
   "outputs": [],
   "source": [
    "R1 = range(1,d1)\n",
    "R2 = range(1,d2);\n",
    "\n",
    "dim  = range(1,d1*d2+1)"
   ]
  },
  {
   "cell_type": "markdown",
   "metadata": {},
   "source": [
    "We create one model instance with a name, and set the `log_output` to true such that we can see when CPLEX enables the Benders algorithm."
   ]
  },
  {
   "cell_type": "code",
   "execution_count": 7,
   "metadata": {
    "collapsed": true
   },
   "outputs": [],
   "source": [
    "# first import the Model class from docplex.mp\n",
    "from docplex.mp.model import Model\n",
    "\n",
    "m = Model(name='benders', log_output=True)"
   ]
  },
  {
   "cell_type": "code",
   "execution_count": 8,
   "metadata": {
    "collapsed": true
   },
   "outputs": [],
   "source": [
    "X = m.continuous_var_dict([(i,j) for i in R2 for j in R1])\n",
    "Y = m.integer_var_dict(R1, 0, 1)\n",
    "\n",
    "\n",
    "bendersPartition = {(i,j) : i for i in R2 for j in R1}"
   ]
  },
  {
   "cell_type": "code",
   "execution_count": 9,
   "metadata": {
    "collapsed": true
   },
   "outputs": [],
   "source": [
    "m.minimize( m.sum( Costs[i][j]*X[i,j] for i in R2 for j in R1) + sum(Y[i] for i in R1) )\n",
    "\n",
    "\n",
    "m.add_constraints( m.sum( X[i,j] for j in R1) ==1 for i in R2)\n",
    "    \n",
    "m.add_constraints( X[i,j] - Y[j] <= 0 for i in R2 for j in R1);"
   ]
  },
  {
   "cell_type": "markdown",
   "metadata": {
    "render": true
   },
   "source": [
    "<a id=\"Step-4:-Set-up-the-prescriptive-model\"></a>\n",
    "## 4. Set up the prescriptive model\n",
    "\n",
    "If `url` and `key` are None, the Modeling layer will look for a local runtime. Otherwise it will use the credentials.\n",
    "Look at the documentation for a good understanding of the various solving/generation modes.\n",
    "\n",
    "If you're using a Community Edition of CPLEX runtimes, then depending on the size of the problem, the solve stage may fail and will need a paying subscription or product installation.\n",
    "\n",
    "You will get the best solution found after ***n*** seconds, thanks to a time limit parameter."
   ]
  },
  {
   "cell_type": "code",
   "execution_count": 10,
   "metadata": {
    "collapsed": false
   },
   "outputs": [
    {
     "name": "stdout",
     "output_type": "stream",
     "text": [
      "Model: benders\n",
      " - number of variables: 840\n",
      "   - binary=0, integer=24, continuous=816\n",
      " - number of constraints: 850\n",
      "   - linear=850\n",
      " - parameters: defaults\n"
     ]
    }
   ],
   "source": [
    "m.print_information()"
   ]
  },
  {
   "cell_type": "markdown",
   "metadata": {},
   "source": [
    "<a id =\"Step-5:-Investigate-the-solution-and-then-run-an-example-analysis\"></a>\n",
    "## 5. Investigate the solution and then run an example analysis"
   ]
  },
  {
   "cell_type": "markdown",
   "metadata": {
    "render": true
   },
   "source": [
    "<a id = \"default-CPLEX-solve\"></a>\n",
    "### 5.1 Solve the problem with default CPLEX algorithm"
   ]
  },
  {
   "cell_type": "code",
   "execution_count": 11,
   "metadata": {
    "collapsed": false,
    "scrolled": true
   },
   "outputs": [
    {
     "name": "stdout",
     "output_type": "stream",
     "text": [
      "[2017-08-24T17:21:05Z, INFO] Parameter file:\n",
      "[2017-08-24T17:21:05Z, INFO] # -- This content is generated by DOcplex\n",
      "[2017-08-24T17:21:05Z, INFO] CPLEX Parameter File Version 12.7.0.0\n",
      "[2017-08-24T17:21:05Z, INFO] # --- end of generated prm data ---\n",
      "[2017-08-24T17:21:05Z, WARN] Warning:  CPLEX version found in file python_benders.prm (12.7.0.0) does not match\n",
      "[2017-08-24T17:21:05Z, WARN]           this CPLEX version (12.7.1.0).\n",
      "[2017-08-24T17:21:05Z, WARN] Changed parameter CPX_PARAM_THREADS from 0 to 10\n",
      "[2017-08-24T17:21:05Z, INFO] Param[1,067] = 10\n",
      "[2017-08-24T17:21:05Z, INFO] Param[1,130] = utf-8\n",
      "[2017-08-24T17:21:05Z, INFO] Param[1,132] = -1\n",
      "[2017-08-24T17:21:05Z, INFO] CPXPARAM_WorkDir                                 \"/var/job_processor/work/tmp/java/job2132096183433465418.tmp\"\n",
      "[2017-08-24T17:21:05Z, INFO] CPXPARAM_Threads                                 10\n",
      "[2017-08-24T17:21:05Z, INFO] CPXPARAM_Read_APIEncoding                        \"utf-8\"\n",
      "[2017-08-24T17:21:05Z, INFO] CPXPARAM_Output_CloneLog                         -1\n",
      "[2017-08-24T17:21:05Z, INFO] CPXPARAM_MIP_Strategy_CallbackReducedLP          0\n",
      "[2017-08-24T17:21:05Z, INFO] CPXPARAM_Output_IntSolFilePrefix                 \"/var/job_processor/work/tmp/java/job2132096183433465418.tmp/sol\"\n",
      "[2017-08-24T17:21:05Z, INFO] Found incumbent of value 494.000000 after 0.00 sec. (0.06 ticks)\n",
      "[2017-08-24T17:21:05Z, INFO] Tried aggregator 1 time.\n",
      "[2017-08-24T17:21:05Z, INFO] Reduced MIP has 850 rows, 840 columns, and 2448 nonzeros.\n",
      "[2017-08-24T17:21:05Z, INFO] Reduced MIP has 24 binaries, 0 generals, 0 SOSs, and 0 indicators.\n",
      "[2017-08-24T17:21:05Z, INFO] Presolve time = 0.00 sec. (1.05 ticks)\n",
      "[2017-08-24T17:21:05Z, INFO] Probing time = 0.00 sec. (0.10 ticks)\n",
      "[2017-08-24T17:21:05Z, INFO] Tried aggregator 1 time.\n",
      "[2017-08-24T17:21:05Z, INFO] Reduced MIP has 850 rows, 840 columns, and 2448 nonzeros.\n",
      "[2017-08-24T17:21:05Z, INFO] Reduced MIP has 24 binaries, 0 generals, 0 SOSs, and 0 indicators.\n",
      "[2017-08-24T17:21:05Z, INFO] Presolve time = 0.00 sec. (1.36 ticks)\n",
      "[2017-08-24T17:21:05Z, INFO] Probing time = 0.00 sec. (0.10 ticks)\n",
      "[2017-08-24T17:21:05Z, INFO] MIP emphasis: balance optimality and feasibility.\n",
      "[2017-08-24T17:21:05Z, INFO] MIP search method: dynamic search.\n",
      "[2017-08-24T17:21:05Z, INFO] Parallel mode: deterministic, using up to 10 threads.\n",
      "[2017-08-24T17:21:05Z, INFO] Root relaxation solution time = 0.01 sec. (0.59 ticks)\n",
      "[2017-08-24T17:21:05Z, INFO] \n",
      "[2017-08-24T17:21:05Z, INFO]         Nodes                                         Cuts/\n",
      "[2017-08-24T17:21:05Z, INFO]    Node  Left     Objective  IInf  Best Integer    Best Bound    ItCnt     Gap\n",
      "[2017-08-24T17:21:05Z, INFO] \n",
      "[2017-08-24T17:21:05Z, INFO] *     0+    0                          494.0000        0.0000           100.00%\n",
      "[2017-08-24T17:21:05Z, INFO] *     0     0      integral     0       45.0000       45.0000       36    0.00%\n",
      "[2017-08-24T17:21:05Z, INFO] Elapsed time = 0.03 sec. (4.43 ticks, tree = 0.00 MB, solutions = 2)\n",
      "[2017-08-24T17:21:05Z, INFO] \n",
      "[2017-08-24T17:21:05Z, INFO] Root node processing (before b&c):\n",
      "[2017-08-24T17:21:05Z, INFO]   Real time             =    0.03 sec. (4.47 ticks)\n",
      "[2017-08-24T17:21:05Z, INFO] Parallel b&c, 10 threads:\n",
      "[2017-08-24T17:21:05Z, INFO]   Real time             =    0.00 sec. (0.00 ticks)\n",
      "[2017-08-24T17:21:05Z, INFO]   Sync time (average)   =    0.00 sec.\n",
      "[2017-08-24T17:21:05Z, INFO]   Wait time (average)   =    0.00 sec.\n",
      "[2017-08-24T17:21:05Z, INFO]                           ------------\n",
      "[2017-08-24T17:21:05Z, INFO] Total (root+branch&cut) =    0.03 sec. (4.47 ticks)\n",
      "[2017-08-24T17:21:05Z, INFO] Incumbent solution:\n",
      "[2017-08-24T17:21:05Z, INFO] MILP objective                                 4.5000000000e+01\n",
      "[2017-08-24T17:21:05Z, INFO] MILP solution norm |x| (Total, Max)            4.80000e+01  1.00000e+00\n",
      "[2017-08-24T17:21:05Z, INFO] MILP solution error (Ax=b) (Total, Max)        0.00000e+00  0.00000e+00\n",
      "[2017-08-24T17:21:05Z, INFO] MILP x bound error (Total, Max)                0.00000e+00  0.00000e+00\n",
      "[2017-08-24T17:21:05Z, INFO] MILP x integrality error (Total, Max)          0.00000e+00  0.00000e+00\n",
      "[2017-08-24T17:21:05Z, INFO] MILP slack bound error (Total, Max)            0.00000e+00  0.00000e+00\n",
      "[2017-08-24T17:21:05Z, INFO] integer optimal solution (101)\n",
      "* model benders solved with objective = 45.000\n"
     ]
    }
   ],
   "source": [
    "msol = m.solve(url=SVC_URL, key=SVC_KEY)\n",
    "assert msol is not None, \"model can't solve\"\n",
    "m.report()"
   ]
  },
  {
   "cell_type": "markdown",
   "metadata": {},
   "source": [
    "#### Inspect the CPLEX Log."
   ]
  },
  {
   "cell_type": "markdown",
   "metadata": {},
   "source": [
    "If you inspect the CPLEX, you will see that it is a very standard log.\n",
    "CPLEX needs 63 iterations to solve it."
   ]
  },
  {
   "cell_type": "code",
   "execution_count": 12,
   "metadata": {
    "collapsed": true
   },
   "outputs": [],
   "source": [
    "obj1 = m.objective_value"
   ]
  },
  {
   "cell_type": "markdown",
   "metadata": {},
   "source": [
    "<a id =\"Apply-bender\"></a>\n",
    "### 5.2 Apply a Benders strategy"
   ]
  },
  {
   "cell_type": "markdown",
   "metadata": {},
   "source": [
    "CPLEX implements a default Benders decomposition in certain situations.\n",
    "\n",
    "If you want CPLEX to apply a Benders strategy as it solves your problem, but you do not specify cpxBendersPartition annotations, CPLEX puts all integer variables in master and continuous variables into subproblems. \n",
    "If there are no integer variables in your model, or if there are no continuous variables in your model, CPLEX raises an error stating that it cannot automatically decompose the model to apply a Benders strategy."
   ]
  },
  {
   "cell_type": "markdown",
   "metadata": {},
   "source": [
    "In order to apply a Benders strategy, you just need to set the Benders strategy parameter."
   ]
  },
  {
   "cell_type": "markdown",
   "metadata": {},
   "source": [
    "CPLEX supports 4 values for this parameter, from -1 to 3, excluding 0:\n",
    "* OFF (default value) will ignore Benders.\n",
    "* AUTO, USER, WORKERS, FULL will enable Benders.\n",
    "\n",
    "Refer to the CPLEX documentation to understand the differences between the 4 values that trigger it."
   ]
  },
  {
   "cell_type": "code",
   "execution_count": 13,
   "metadata": {
    "collapsed": true
   },
   "outputs": [],
   "source": [
    "m.parameters.benders.strategy = 3"
   ]
  },
  {
   "cell_type": "code",
   "execution_count": 14,
   "metadata": {
    "collapsed": false
   },
   "outputs": [
    {
     "name": "stdout",
     "output_type": "stream",
     "text": [
      "Model: benders\n",
      " - number of variables: 840\n",
      "   - binary=0, integer=24, continuous=816\n",
      " - number of constraints: 850\n",
      "   - linear=850\n",
      " - parameters:\n",
      "     parameters.benders.strategy = 3\n"
     ]
    }
   ],
   "source": [
    "m.print_information()"
   ]
  },
  {
   "cell_type": "markdown",
   "metadata": {},
   "source": [
    "We call cplex solve, but with the `clean_before_solve` flag set to true because we want the algorithm to forget everything about previous solve and solution."
   ]
  },
  {
   "cell_type": "code",
   "execution_count": 15,
   "metadata": {
    "collapsed": false
   },
   "outputs": [
    {
     "name": "stdout",
     "output_type": "stream",
     "text": [
      "[2017-08-24T17:21:10Z, INFO] Parameter file:\n",
      "[2017-08-24T17:21:10Z, INFO] # -- This content is generated by DOcplex\n",
      "[2017-08-24T17:21:10Z, INFO] CPLEX Parameter File Version 12.7.0.0\n",
      "[2017-08-24T17:21:10Z, INFO] CPX_PARAM_BENDERSSTRATEGY        3\n",
      "[2017-08-24T17:21:10Z, INFO] # --- end of generated prm data ---\n",
      "[2017-08-24T17:21:10Z, WARN] Warning:  CPLEX version found in file python_benders.prm (12.7.0.0) does not match\n",
      "[2017-08-24T17:21:10Z, WARN]           this CPLEX version (12.7.1.0).\n",
      "[2017-08-24T17:21:10Z, WARN] Changed parameter CPX_PARAM_THREADS from 0 to 10\n",
      "[2017-08-24T17:21:10Z, INFO] Param[1,067] = 10\n",
      "[2017-08-24T17:21:10Z, INFO] Param[1,130] = utf-8\n",
      "[2017-08-24T17:21:10Z, INFO] Param[1,132] = -1\n",
      "[2017-08-24T17:21:10Z, INFO] Param[1,501] = 3\n",
      "[2017-08-24T17:21:10Z, INFO] CPXPARAM_WorkDir                                 \"/var/job_processor/work/tmp/java/job6285203499258123372.tmp\"\n",
      "[2017-08-24T17:21:10Z, INFO] CPXPARAM_Threads                                 10\n",
      "[2017-08-24T17:21:10Z, INFO] CPXPARAM_Read_APIEncoding                        \"utf-8\"\n",
      "[2017-08-24T17:21:10Z, INFO] CPXPARAM_Output_CloneLog                         -1\n",
      "[2017-08-24T17:21:10Z, INFO] CPXPARAM_Benders_Strategy                        3\n",
      "[2017-08-24T17:21:10Z, INFO] CPXPARAM_MIP_Strategy_CallbackReducedLP          0\n",
      "[2017-08-24T17:21:10Z, INFO] CPXPARAM_Output_IntSolFilePrefix                 \"/var/job_processor/work/tmp/java/job6285203499258123372.tmp/sol\"\n",
      "[2017-08-24T17:21:10Z, INFO] Found incumbent of value 494.000000 after 0.00 sec. (0.06 ticks)\n",
      "[2017-08-24T17:21:10Z, INFO] Tried aggregator 1 time.\n",
      "[2017-08-24T17:21:10Z, INFO] Reduced MIP has 850 rows, 840 columns, and 2448 nonzeros.\n",
      "[2017-08-24T17:21:10Z, INFO] Reduced MIP has 24 binaries, 0 generals, 0 SOSs, and 0 indicators.\n",
      "[2017-08-24T17:21:10Z, INFO] Presolve time = 0.00 sec. (0.76 ticks)\n",
      "[2017-08-24T17:21:10Z, INFO] Tried aggregator 1 time.\n",
      "[2017-08-24T17:21:10Z, INFO] Reduced MIP has 850 rows, 840 columns, and 2448 nonzeros.\n",
      "[2017-08-24T17:21:10Z, INFO] Reduced MIP has 24 binaries, 0 generals, 0 SOSs, and 0 indicators.\n",
      "[2017-08-24T17:21:10Z, INFO] Presolve time = 0.00 sec. (0.71 ticks)\n",
      "[2017-08-24T17:21:10Z, INFO] \n",
      "[2017-08-24T17:21:10Z, INFO]         Nodes                                         Cuts/\n",
      "[2017-08-24T17:21:10Z, INFO]    Node  Left     Objective  IInf  Best Integer    Best Bound    ItCnt     Gap\n",
      "[2017-08-24T17:21:10Z, INFO] \n",
      "[2017-08-24T17:21:10Z, INFO]       0     0        0.0000                        Benders: 2        0\n",
      "[2017-08-24T17:21:10Z, INFO]       0     0        4.0000                        Benders: 7        2\n",
      "[2017-08-24T17:21:10Z, INFO]       0     0       12.8125                        Benders: 3       11\n",
      "[2017-08-24T17:21:10Z, INFO]       0     0       15.8333                       Benders: 13       15\n",
      "[2017-08-24T17:21:10Z, INFO]       0     0       29.8241                        Benders: 5       31\n",
      "[2017-08-24T17:21:10Z, INFO]       0     0       35.2262                        Benders: 1       43\n",
      "[2017-08-24T17:21:10Z, INFO]       0     0       35.3929                        Benders: 7       44\n",
      "[2017-08-24T17:21:10Z, INFO]       0     0       39.1667                        Benders: 2       53\n",
      "[2017-08-24T17:21:10Z, INFO]       0     0       40.5000                        Benders: 5       55\n",
      "[2017-08-24T17:21:10Z, INFO]       0     0       45.0000                           45.0000       61\n",
      "[2017-08-24T17:21:10Z, INFO] Tried aggregator 1 time.\n",
      "[2017-08-24T17:21:10Z, INFO] MIP Presolve eliminated 8 rows and 0 columns.\n",
      "[2017-08-24T17:21:10Z, INFO] Reduced MIP has 37 rows, 58 columns, and 134 nonzeros.\n",
      "[2017-08-24T17:21:10Z, INFO] Reduced MIP has 24 binaries, 0 generals, 0 SOSs, and 0 indicators.\n",
      "[2017-08-24T17:21:10Z, INFO] Presolve time = 0.00 sec. (0.04 ticks)\n",
      "[2017-08-24T17:21:10Z, INFO] Probing time = 0.00 sec. (0.01 ticks)\n",
      "[2017-08-24T17:21:10Z, INFO] Tried aggregator 1 time.\n",
      "[2017-08-24T17:21:10Z, INFO] Reduced MIP has 37 rows, 58 columns, and 134 nonzeros.\n",
      "[2017-08-24T17:21:10Z, INFO] Reduced MIP has 24 binaries, 0 generals, 0 SOSs, and 0 indicators.\n",
      "[2017-08-24T17:21:10Z, INFO] Presolve time = 0.00 sec. (0.03 ticks)\n",
      "[2017-08-24T17:21:10Z, INFO] Probing time = 0.00 sec. (0.01 ticks)\n",
      "[2017-08-24T17:21:10Z, INFO] MIP emphasis: balance optimality and feasibility.\n",
      "[2017-08-24T17:21:10Z, INFO] MIP search method: dynamic search.\n",
      "[2017-08-24T17:21:10Z, INFO] Parallel mode: deterministic, using up to 10 threads.\n",
      "[2017-08-24T17:21:10Z, INFO] Root relaxation solution time = 0.00 sec. (0.06 ticks)\n",
      "[2017-08-24T17:21:10Z, INFO] *     0+    0                           45.0000       45.0000             0.00%\n",
      "[2017-08-24T17:21:10Z, INFO]       0     0        cutoff             45.0000                     86    0.00%\n",
      "[2017-08-24T17:21:10Z, INFO] \n",
      "[2017-08-24T17:21:10Z, INFO] Root node processing (before b&c):\n",
      "[2017-08-24T17:21:10Z, INFO]   Real time             =    0.06 sec. (7.52 ticks)\n",
      "[2017-08-24T17:21:10Z, INFO] Parallel b&c, 10 threads:\n",
      "[2017-08-24T17:21:10Z, INFO]   Real time             =    0.00 sec. (0.00 ticks)\n",
      "[2017-08-24T17:21:10Z, INFO]   Sync time (average)   =    0.00 sec.\n",
      "[2017-08-24T17:21:10Z, INFO]   Wait time (average)   =    0.00 sec.\n",
      "[2017-08-24T17:21:10Z, INFO]                           ------------\n",
      "[2017-08-24T17:21:10Z, INFO] Total (root+branch&cut) =    0.06 sec. (7.52 ticks)\n",
      "[2017-08-24T17:21:11Z, INFO] Incumbent solution:\n",
      "[2017-08-24T17:21:11Z, INFO] MILP objective                                 4.5000000000e+01\n",
      "[2017-08-24T17:21:11Z, INFO] MILP solution norm |x| (Total, Max)            5.00000e+01  1.00000e+00\n",
      "[2017-08-24T17:21:11Z, INFO] MILP solution error (Ax=b) (Total, Max)        0.00000e+00  0.00000e+00\n",
      "[2017-08-24T17:21:11Z, INFO] MILP x bound error (Total, Max)                0.00000e+00  0.00000e+00\n",
      "[2017-08-24T17:21:11Z, INFO] MILP x integrality error (Total, Max)          0.00000e+00  0.00000e+00\n",
      "[2017-08-24T17:21:11Z, INFO] MILP slack bound error (Total, Max)            0.00000e+00  0.00000e+00\n",
      "[2017-08-24T17:21:11Z, INFO] integer optimal solution (101)\n",
      "* model benders solved with objective = 45.000\n"
     ]
    }
   ],
   "source": [
    "msol = m.solve(url=SVC_URL, key=SVC_KEY, clean_before_solve=True)\n",
    "assert msol is not None, \"model can't solve\"\n",
    "m.report()"
   ]
  },
  {
   "cell_type": "markdown",
   "metadata": {},
   "source": [
    "#### Inspect the CPLEX Log."
   ]
  },
  {
   "cell_type": "markdown",
   "metadata": {},
   "source": [
    "Inspect the CPLEX log; you can now see that the log are different and you should see the message:\n",
    "\n",
    "<code>\n",
    "Benders cuts applied:  3\n",
    "</code>\n",
    "\n",
    "\n",
    "which proves CPLEX applied successfully.\n",
    "\n",
    "You can see that CPLEX needs only 61 cumulative iterations, while it needs 63 previously."
   ]
  },
  {
   "cell_type": "code",
   "execution_count": 16,
   "metadata": {
    "collapsed": true
   },
   "outputs": [],
   "source": [
    "obj2 = m.objective_value"
   ]
  },
  {
   "cell_type": "markdown",
   "metadata": {},
   "source": [
    "<a id = \"Use-CPLEX-annotations\"></a>\n",
    "### 5.3 Use the CPLEX annotations to guide CPLEX in your Benders decomposition"
   ]
  },
  {
   "cell_type": "code",
   "execution_count": 17,
   "metadata": {
    "collapsed": true
   },
   "outputs": [],
   "source": [
    "m.parameters.benders.strategy = 1"
   ]
  },
  {
   "cell_type": "markdown",
   "metadata": {},
   "source": [
    "Settings benders annotation in docplex is very simple.\n",
    "You just need to use the `benders_annotation` property available on variables and constraints to state which worker they belong to."
   ]
  },
  {
   "cell_type": "code",
   "execution_count": 18,
   "metadata": {
    "collapsed": true
   },
   "outputs": [],
   "source": [
    "for i in R2:\n",
    "    for j in R1:\n",
    "        X[i,j].benders_annotation =  i%2"
   ]
  },
  {
   "cell_type": "code",
   "execution_count": 19,
   "metadata": {
    "collapsed": false
   },
   "outputs": [
    {
     "name": "stdout",
     "output_type": "stream",
     "text": [
      "Model: benders\n",
      " - number of variables: 840\n",
      "   - binary=0, integer=24, continuous=816\n",
      " - number of constraints: 850\n",
      "   - linear=850\n",
      " - parameters:\n",
      "     parameters.benders.strategy = 1\n"
     ]
    }
   ],
   "source": [
    "m.print_information()"
   ]
  },
  {
   "cell_type": "code",
   "execution_count": 20,
   "metadata": {
    "collapsed": false,
    "scrolled": false
   },
   "outputs": [
    {
     "name": "stdout",
     "output_type": "stream",
     "text": [
      "[2017-08-24T17:21:16Z, INFO] Parameter file:\n",
      "[2017-08-24T17:21:16Z, INFO] # -- This content is generated by DOcplex\n",
      "[2017-08-24T17:21:16Z, INFO] CPLEX Parameter File Version 12.7.0.0\n",
      "[2017-08-24T17:21:16Z, INFO] CPX_PARAM_BENDERSSTRATEGY        1\n",
      "[2017-08-24T17:21:16Z, INFO] # --- end of generated prm data ---\n",
      "[2017-08-24T17:21:16Z, WARN] Warning:  CPLEX version found in file python_benders.prm (12.7.0.0) does not match\n",
      "[2017-08-24T17:21:16Z, WARN]           this CPLEX version (12.7.1.0).\n",
      "[2017-08-24T17:21:16Z, WARN] Changed parameter CPX_PARAM_THREADS from 0 to 10\n",
      "[2017-08-24T17:21:16Z, INFO] Param[1,067] = 10\n",
      "[2017-08-24T17:21:16Z, INFO] Param[1,130] = utf-8\n",
      "[2017-08-24T17:21:16Z, INFO] Param[1,132] = -1\n",
      "[2017-08-24T17:21:16Z, INFO] Param[1,501] = 1\n",
      "[2017-08-24T17:21:16Z, INFO] CPXPARAM_WorkDir                                 \"/var/job_processor/work/tmp/java/job1968496800864014287.tmp\"\n",
      "[2017-08-24T17:21:16Z, INFO] CPXPARAM_Threads                                 10\n",
      "[2017-08-24T17:21:16Z, INFO] CPXPARAM_Read_APIEncoding                        \"utf-8\"\n",
      "[2017-08-24T17:21:16Z, INFO] CPXPARAM_Output_CloneLog                         -1\n",
      "[2017-08-24T17:21:16Z, INFO] CPXPARAM_Benders_Strategy                        1\n",
      "[2017-08-24T17:21:16Z, INFO] CPXPARAM_MIP_Strategy_CallbackReducedLP          0\n",
      "[2017-08-24T17:21:16Z, INFO] CPXPARAM_Output_IntSolFilePrefix                 \"/var/job_processor/work/tmp/java/job1968496800864014287.tmp/sol\"\n",
      "[2017-08-24T17:21:16Z, INFO] Found incumbent of value 494.000000 after 0.00 sec. (0.06 ticks)\n",
      "[2017-08-24T17:21:16Z, INFO] Tried aggregator 1 time.\n",
      "[2017-08-24T17:21:16Z, INFO] Reduced MIP has 850 rows, 840 columns, and 2448 nonzeros.\n",
      "[2017-08-24T17:21:16Z, INFO] Reduced MIP has 24 binaries, 0 generals, 0 SOSs, and 0 indicators.\n",
      "[2017-08-24T17:21:16Z, INFO] Presolve time = 0.00 sec. (0.76 ticks)\n",
      "[2017-08-24T17:21:16Z, INFO] Tried aggregator 1 time.\n",
      "[2017-08-24T17:21:16Z, INFO] Reduced MIP has 850 rows, 840 columns, and 2448 nonzeros.\n",
      "[2017-08-24T17:21:16Z, INFO] Reduced MIP has 24 binaries, 0 generals, 0 SOSs, and 0 indicators.\n",
      "[2017-08-24T17:21:16Z, INFO] Presolve time = 0.00 sec. (0.71 ticks)\n",
      "[2017-08-24T17:21:16Z, INFO] \n",
      "[2017-08-24T17:21:16Z, INFO]         Nodes                                         Cuts/\n",
      "[2017-08-24T17:21:16Z, INFO]    Node  Left     Objective  IInf  Best Integer    Best Bound    ItCnt     Gap\n",
      "[2017-08-24T17:21:16Z, INFO] \n",
      "[2017-08-24T17:21:16Z, INFO]       0     0        1.0000                        Benders: 1        0\n",
      "[2017-08-24T17:21:16Z, INFO]       0     0       15.5600                        Benders: 1       18\n",
      "[2017-08-24T17:21:16Z, INFO]       0     0       18.5556                        Benders: 1       27\n",
      "[2017-08-24T17:21:16Z, INFO]       0     0       18.8109                        Benders: 1       30\n",
      "[2017-08-24T17:21:16Z, INFO]       0     0       19.5617                        Benders: 1       31\n",
      "[2017-08-24T17:21:16Z, INFO]       0     0       21.6085                        Benders: 1       50\n",
      "[2017-08-24T17:21:16Z, INFO]       0     0       21.7879                        Benders: 1       54\n",
      "[2017-08-24T17:21:16Z, INFO]       0     0       22.5000                        Benders: 1       60\n",
      "[2017-08-24T17:21:16Z, INFO]       0     0       22.6856                        Benders: 1       65\n",
      "[2017-08-24T17:21:16Z, INFO]       0     0       23.2000                        Benders: 1       72\n",
      "[2017-08-24T17:21:16Z, INFO]       0     0       23.3493                        Benders: 1       78\n",
      "[2017-08-24T17:21:16Z, INFO]       0     0       24.4667                        Benders: 1       87\n",
      "[2017-08-24T17:21:16Z, INFO]       0     0       24.7273                        Benders: 1       93\n",
      "[2017-08-24T17:21:16Z, INFO]       0     0       25.0000                        Benders: 1       97\n",
      "[2017-08-24T17:21:16Z, INFO]       0     0       26.0000                        Benders: 1      100\n",
      "[2017-08-24T17:21:16Z, INFO]       0     0       32.6024                        Benders: 1      123\n",
      "[2017-08-24T17:21:16Z, INFO]       0     0       33.3500                        Benders: 1      129\n",
      "[2017-08-24T17:21:16Z, INFO]       0     0       35.5833                        Benders: 1      148\n",
      "[2017-08-24T17:21:16Z, INFO]       0     0       38.2500                        Benders: 1      165\n",
      "[2017-08-24T17:21:16Z, INFO]       0     0       38.7647                        Benders: 1      175\n",
      "[2017-08-24T17:21:16Z, INFO]       0     0       39.2873                        Benders: 1      185\n",
      "[2017-08-24T17:21:16Z, INFO]       0     0       39.5175                        Benders: 1      195\n",
      "[2017-08-24T17:21:16Z, INFO]       0     0       40.3026                        Benders: 1      208\n",
      "[2017-08-24T17:21:16Z, INFO]       0     0       40.4818                        Benders: 1      221\n",
      "[2017-08-24T17:21:16Z, INFO]       0     0       40.5349                        Benders: 1      230\n",
      "[2017-08-24T17:21:16Z, INFO]       0     0       40.6300                        Benders: 1      234\n",
      "[2017-08-24T17:21:16Z, INFO]       0     0       40.6746                        Benders: 1      246\n",
      "[2017-08-24T17:21:16Z, INFO]       0     0       40.7031                        Benders: 1      247\n",
      "[2017-08-24T17:21:16Z, INFO]       0     0       40.8393                        Benders: 1      255\n",
      "[2017-08-24T17:21:16Z, INFO]       0     0       40.9231                        Benders: 1      260\n",
      "[2017-08-24T17:21:16Z, INFO]       0     0       40.9592                        Benders: 1      266\n",
      "[2017-08-24T17:21:16Z, INFO]       0     0       41.0218                        Benders: 1      272\n",
      "[2017-08-24T17:21:16Z, INFO]       0     0       41.0399                        Benders: 1      277\n",
      "[2017-08-24T17:21:16Z, INFO]       0     0       41.0421                        Benders: 1      281\n",
      "[2017-08-24T17:21:16Z, INFO]       0     0       41.0661                        Benders: 1      291\n",
      "[2017-08-24T17:21:16Z, INFO]       0     0       41.1597                        Benders: 1      293\n",
      "[2017-08-24T17:21:16Z, INFO]       0     0       41.1739                        Benders: 1      295\n",
      "[2017-08-24T17:21:16Z, INFO]       0     0       42.1429                        Benders: 1      310\n",
      "[2017-08-24T17:21:16Z, INFO]       0     0       43.5833                        Benders: 1      332\n",
      "[2017-08-24T17:21:16Z, INFO]       0     0       43.8750                        Benders: 1      335\n",
      "[2017-08-24T17:21:16Z, INFO]       0     0       43.9252                        Benders: 1      349\n",
      "[2017-08-24T17:21:16Z, INFO]       0     0       43.9265                        Benders: 1      352\n",
      "[2017-08-24T17:21:16Z, INFO]       0     0       44.2023                        Benders: 1      377\n",
      "[2017-08-24T17:21:16Z, INFO]       0     0       44.2225                        Benders: 1      389\n",
      "[2017-08-24T17:21:16Z, INFO]       0     0       44.2361                        Benders: 1      392\n",
      "[2017-08-24T17:21:16Z, INFO]       0     0       44.4833                        Benders: 1      412\n",
      "[2017-08-24T17:21:16Z, INFO]       0     0       44.5436                        Benders: 1      426\n",
      "[2017-08-24T17:21:16Z, INFO]       0     0       44.6227                        Benders: 1      438\n",
      "[2017-08-24T17:21:16Z, INFO]       0     0       44.6519                        Benders: 1      448\n",
      "[2017-08-24T17:21:16Z, INFO]       0     0       44.6803                        Benders: 1      457\n",
      "[2017-08-24T17:21:16Z, INFO]       0     0       44.7060                        Benders: 1      462\n",
      "[2017-08-24T17:21:16Z, INFO]       0     0       44.7667                        Benders: 1      470\n",
      "[2017-08-24T17:21:16Z, INFO]       0     0       44.8333                        Benders: 1      477\n",
      "[2017-08-24T17:21:16Z, INFO]       0     0       44.8542                        Benders: 1      481\n",
      "[2017-08-24T17:21:16Z, INFO]       0     0       44.9797                        Benders: 1      503\n",
      "[2017-08-24T17:21:16Z, INFO]       0     0       45.0000                           45.0000      507\n",
      "[2017-08-24T17:21:16Z, INFO] Tried aggregator 1 time.\n",
      "[2017-08-24T17:21:16Z, INFO] Reduced MIP has 465 rows, 434 columns, and 11385 nonzeros.\n",
      "[2017-08-24T17:21:16Z, INFO] Reduced MIP has 24 binaries, 0 generals, 0 SOSs, and 0 indicators.\n",
      "[2017-08-24T17:21:16Z, INFO] Presolve time = 0.00 sec. (2.08 ticks)\n",
      "[2017-08-24T17:21:16Z, INFO] Probing time = 0.03 sec. (0.13 ticks)\n",
      "[2017-08-24T17:21:16Z, INFO] Tried aggregator 1 time.\n",
      "[2017-08-24T17:21:16Z, INFO] Reduced MIP has 465 rows, 434 columns, and 11385 nonzeros.\n",
      "[2017-08-24T17:21:16Z, INFO] Reduced MIP has 24 binaries, 0 generals, 0 SOSs, and 0 indicators.\n",
      "[2017-08-24T17:21:16Z, INFO] Presolve time = 0.00 sec. (2.08 ticks)\n",
      "[2017-08-24T17:21:16Z, INFO] Probing time = 0.01 sec. (0.13 ticks)\n",
      "[2017-08-24T17:21:16Z, INFO] MIP emphasis: balance optimality and feasibility.\n",
      "[2017-08-24T17:21:16Z, INFO] MIP search method: dynamic search.\n",
      "[2017-08-24T17:21:16Z, INFO] Parallel mode: deterministic, using up to 10 threads.\n",
      "[2017-08-24T17:21:16Z, INFO] Root relaxation solution time = 0.00 sec. (2.68 ticks)\n",
      "[2017-08-24T17:21:16Z, INFO] *     0+    0                           45.0000       45.0000             0.00%\n",
      "[2017-08-24T17:21:16Z, INFO]       0     0        cutoff             45.0000                    574    0.00%\n",
      "[2017-08-24T17:21:16Z, INFO] \n",
      "[2017-08-24T17:21:16Z, INFO] Root node processing (before b&c):\n",
      "[2017-08-24T17:21:16Z, INFO]   Real time             =    0.11 sec. (50.72 ticks)\n",
      "[2017-08-24T17:21:16Z, INFO] Parallel b&c, 10 threads:\n",
      "[2017-08-24T17:21:16Z, INFO]   Real time             =    0.00 sec. (0.00 ticks)\n",
      "[2017-08-24T17:21:16Z, INFO]   Sync time (average)   =    0.00 sec.\n",
      "[2017-08-24T17:21:16Z, INFO]   Wait time (average)   =    0.00 sec.\n",
      "[2017-08-24T17:21:16Z, INFO]                           ------------\n",
      "[2017-08-24T17:21:16Z, INFO] Total (root+branch&cut) =    0.11 sec. (50.72 ticks)\n",
      "[2017-08-24T17:21:16Z, INFO] Incumbent solution:\n",
      "[2017-08-24T17:21:16Z, INFO] MILP objective                                 4.5000000000e+01\n",
      "[2017-08-24T17:21:16Z, INFO] MILP solution norm |x| (Total, Max)            5.00000e+01  1.00000e+00\n",
      "[2017-08-24T17:21:16Z, INFO] MILP solution error (Ax=b) (Total, Max)        0.00000e+00  0.00000e+00\n",
      "[2017-08-24T17:21:16Z, INFO] MILP x bound error (Total, Max)                0.00000e+00  0.00000e+00\n",
      "[2017-08-24T17:21:16Z, INFO] MILP x integrality error (Total, Max)          0.00000e+00  0.00000e+00\n",
      "[2017-08-24T17:21:16Z, INFO] MILP slack bound error (Total, Max)            0.00000e+00  0.00000e+00\n",
      "[2017-08-24T17:21:16Z, INFO] integer optimal solution (101)\n",
      "* model benders solved with objective = 45.000\n"
     ]
    }
   ],
   "source": [
    "msol = m.solve(url=SVC_URL, key=SVC_KEY, clean_before_solve=True)\n",
    "assert msol is not None, \"model can't solve\"\n",
    "m.report()"
   ]
  },
  {
   "cell_type": "markdown",
   "metadata": {},
   "source": [
    "#### Inspect the CPLEX Log."
   ]
  },
  {
   "cell_type": "markdown",
   "metadata": {},
   "source": [
    "Inspect the CPLEX log: you can see that you now need only 57 cumulative iterations instead of 61 with default Benders and 63 with no Benders.\n",
    "If you look at the <i>Best Bound</i> column, you will also see that the listed sub problems are not the same as CPLEX applied the decomposition provided by the annotations."
   ]
  },
  {
   "cell_type": "code",
   "execution_count": 21,
   "metadata": {
    "collapsed": true
   },
   "outputs": [],
   "source": [
    "obj3 = m.objective_value"
   ]
  },
  {
   "cell_type": "code",
   "execution_count": 22,
   "metadata": {
    "collapsed": true
   },
   "outputs": [],
   "source": [
    "assert (obj1 == obj2) and (obj2 == obj3)"
   ]
  },
  {
   "cell_type": "markdown",
   "metadata": {},
   "source": [
    "## Summary\n",
    "\n",
    "\n",
    "You learned how to set up and use the IBM Decision Optimization CPLEX Modeling for Python to formulate a Mathematical Programming model and apply a Benders decomposition."
   ]
  },
  {
   "cell_type": "markdown",
   "metadata": {
    "render": true
   },
   "source": [
    "##  References\n",
    "* [CPLEX Modeling for Python documentation](https://rawgit.com/IBMDecisionOptimization/docplex-doc/master/docs/index.html)\n",
    "* [Decision Optimization on Cloud](https://developer.ibm.com/docloud/)\n",
    "* [Decision Optimization documentation](https://dataplatform.cloud.ibm.com/docs/content/DO/DOinDSX.html)\n",
    "* For help with DOcplex, or to report a defect, go [here](https://developer.ibm.com/answers/smartspace/docloud).\n",
    "* Contact us at dofeedback@wwpdl.vnet.ibm.com\n"
   ]
  },
  {
   "cell_type": "markdown",
   "metadata": {},
   "source": [
    "<div class=\"alert alert-block alert-info\"> Note: To save resources and get the best performance please use the code below to stop the kernel before exiting your notebook.</div>"
   ]
  },
  {
   "cell_type": "code",
   "execution_count": null,
   "metadata": {
    "collapsed": true
   },
   "outputs": [],
   "source": [
    "%%javascript\n",
    "Jupyter.notebook.session.delete();"
   ]
  },
  {
   "cell_type": "markdown",
   "metadata": {},
   "source": [
    "Copyright © 2017 IBM. Sample Materials."
   ]
  }
 ],
 "metadata": {
  "gist_id": "6011986",
  "kernelspec": {
   "display_name": "Python2 with Watson Studio Spark",
   "language": "python",
   "name": "python2"
  },
  "language_info": {
   "codemirror_mode": {
    "name": "ipython",
    "version": 2
   },
   "file_extension": ".py",
   "mimetype": "text/x-python",
   "name": "python",
   "nbconvert_exporter": "python",
   "pygments_lexer": "ipython2",
   "version": "2.7.13"
  }
 },
 "nbformat": 4,
 "nbformat_minor": 1
}
