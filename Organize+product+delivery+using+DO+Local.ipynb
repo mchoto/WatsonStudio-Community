{
 "cells": [
  {
   "cell_type": "markdown",
   "metadata": {},
   "source": [
    "# Organize product delivery to customers using Decision Optimization\n",
    "\n",
    "This tutorial shows how to set up Decision Optimization engines and build a constraint programming model to efficiently organize product delivery to customers using a single truck. All data and instructions that you need to model and solve this problem are included. \n",
    "\n",
    ">This notebook is part of **[Prescriptive Analytics for Python](https://rawgit.com/IBMDecisionOptimization/docplex-doc/master/docs/index.html)**.\n",
    "\n",
    "> When you finish this tutorial, you'll have a foundational knowledge of Prescriptive Analytics.\n",
    "\n",
    ">This notebook requires a valid subscription to [Decision Optimization on Cloud](https://developer.ibm.com/docloud).\n",
    "\n",
    "Some familiarity with Python is recommended. This notebook runs on Python 2.\n",
    " "
   ]
  },
  {
   "cell_type": "markdown",
   "metadata": {},
   "source": [
    "## Table of contents\n",
    "* [Describe the business problem](#describe-problem)\n",
    "* [How Decision Optimization can help](#do-help) \n",
    "* [Use Decision Optimization to create and solve the model](#do-model-create-solve)\n",
    "   1. [Download the DOcplex library](#Download-the-library)<br>\n",
    "   2. [Set up the prescriptive engine](#Set-up-the-prescriptive-engine)<br>\n",
    "   3. [Model the data](#Model-the-data)<br>\n",
    "   4. [Set up the prescriptive model](#Set-up-the-prescriptive-model)<br>\n",
    "      4.1 [Prepare data for modeling](#Prepare-data-for-modeling)<br>\n",
    "      4.2 [Create the model](#Create-model)<br>\n",
    "      4.3 [Define the decision variables](#Define-the-decision-variables)<br>\n",
    "      4.4 [Define the business constraints](#Express-the-business-constraints)<br>\n",
    "      4.5 [Specify the objective](#Express-the-objective)<br>\n",
    "      4.6 [Solve the model](#Solve-with-solve-service)<br>\n",
    "   5. [Investigate the solution and run an example analysis](#Investigate-the-solution)<br>\n",
    "* [Summary](#summary)<br> "
   ]
  },
  {
   "cell_type": "markdown",
   "metadata": {},
   "source": [
    "<a id=\"describe-problem\"></a>\n",
    "## The business problem: Deliver products to customers quickly and efficiently \n",
    "\n",
    "You need to deliver a number of product orders to several customers using a single truck. Each order consists of a given quantity of a  certain type of the product. The truck can be configured to handle one, two, or three different types of the product. Loading the truck with at least one product of a given type requires some specific configuration. The configuration determines the truck capacity and its loading cost.\n",
    "\n",
    "The following conditions must be met when planning the delivery:\n",
    "\n",
    "* The product type is an integer in {0, 1, 2}.\n",
    "* You can have 7 different truck configurations that correspond to the 7 possible combinations of product types:\n",
    " - Configuration 0: all products are of type 0.\n",
    " - Configuration 1: all products are of type 1.\n",
    " - Configuration 2: all products are of type 2.\n",
    " - Configuration 3: products are of type 0 or 1.\n",
    " - Configuration 4: products are of type 0 or 2.\n",
    " - Configuration 5: products are of type 1 or 2.\n",
    " - Configuration 6: products are of type 0 or 1 or 2.\n",
    "* The cost of reconfiguring the truck from configuration A to configuration B depends on A and B.\n",
    "* A delivery consists of loading the truck with one or several orders for the same customer.\n",
    "\n",
    "Your goal is to minimize the cost of configuring and loading the truck and the number of deliveries needed to deliver all the orders, the cost being the most important criterion."
   ]
  },
  {
   "cell_type": "markdown",
   "metadata": {},
   "source": [
    "<a id=\"do-help\"></a>\n",
    "## How  decision optimization can help\n",
    "\n",
    "Prescriptive analytics (decision optimization) technology recommends actions that are based on desired outcomes. It considers specific scenarios, resources, and knowledge of past and current events. With this insight, your organization can make better decisions and have greater control over business outcomes.\n",
    "\n",
    "Prescriptive analytics is the next step on the path to insight-based actions. It creates value through synergy with predictive analytics, which analyzes data to predict future outcomes. Prescriptive analytics takes that insight to the next level by suggesting the optimal way to handle a future situation. Organizations that act fast in dynamic conditions and make superior decisions in uncertain environments gain a strong competitive advantage.\n",
    "\n",
    "With prescriptive analytics, you can:\n",
    "\n",
    "* Automate the complex decisions and trade-offs to better manage your limited resources.\n",
    "    \n",
    "* Take advantage of a future opportunity or mitigate a future risk.\n",
    "    \n",
    "* Proactively update recommendations based on changing events.\n",
    "    \n",
    "* Meet operational goals, increase customer loyalty, prevent threats and fraud, and optimize business processes."
   ]
  },
  {
   "cell_type": "markdown",
   "metadata": {},
   "source": [
    "<a id=\"do-model-create-solve\"></a>\n",
    "## Use Decision Optimization\n",
    "Perform the following steps to create and solve the model."
   ]
  },
  {
   "cell_type": "markdown",
   "metadata": {},
   "source": [
    "<a id=\"Download-the-library\"></a>\n",
    "### 1. Download the DOcplex library\n",
    "\n",
    "DOcplex is the Decision Optimization CPLEX Modeling library for Python. This library includes two modules, Mathematical Programming Modeling (DOcplex.MP ) and Constraint Programming Modeling (DOcplex.CP).\n",
    "\n",
    "Run the following cell to install  the library. The `real.prefix` in the code is used to ensure that the script is not running inside a virtual environment."
   ]
  },
  {
   "cell_type": "code",
   "execution_count": 1,
   "metadata": {
    "collapsed": true
   },
   "outputs": [],
   "source": [
    "from sys import stdout\n",
    "try:\n",
    "    import docplex.cp\n",
    "except:\n",
    "    if hasattr(sys, 'real_prefix'):\n",
    "        !pip install docplex\n",
    "    else:\n",
    "        !pip install --user docplex"
   ]
  },
  {
   "cell_type": "markdown",
   "metadata": {},
   "source": [
    "<a id=\"Set-up-the-prescriptive-engine\"></a>\n",
    "### 2. Set up the prescriptive engine\n",
    "\n",
    "To solve DOcplex models, you need access to the DOcplexcloud solve service.\n",
    "\n",
    "* Subscribe to the [Decision Optimization on Cloud](https://developer.ibm.com/docloud) (DOcplexcloud) service.\n",
    "* Get the service base URL and personal API key.\n",
    "* Enter the URL and API key in the cell below, enclosed in quotation marks (\"\"), and run the cell. \n",
    "\n",
    "__Note:__ For a persistent setting, create a Python configuration file *docloud_config.py* in a location that is visible to PYTHONPATH.\n"
   ]
  },
  {
   "cell_type": "code",
   "execution_count": 2,
   "metadata": {
    "collapsed": true
   },
   "outputs": [],
   "source": [
    "SVC_URL = \"URL\"\n",
    "SVC_KEY = \"KEY\""
   ]
  },
  {
   "cell_type": "markdown",
   "metadata": {},
   "source": [
    "Import the DOcplex library."
   ]
  },
  {
   "cell_type": "code",
   "execution_count": 3,
   "metadata": {
    "collapsed": true
   },
   "outputs": [],
   "source": [
    "from docplex.cp.model import *"
   ]
  },
  {
   "cell_type": "markdown",
   "metadata": {},
   "source": [
    "<a id=\"Model-the-data\"></a>\n",
    "### 3. Model the data"
   ]
  },
  {
   "cell_type": "markdown",
   "metadata": {},
   "source": [
    "Define the data. The comments in the code provide details about the data."
   ]
  },
  {
   "cell_type": "code",
   "execution_count": 4,
   "metadata": {
    "collapsed": false
   },
   "outputs": [],
   "source": [
    "# Possible truck configurations. Each tuple is (load, cost), where: \n",
    "# load: max truck load for this configuration\n",
    "# cost: cost of loading the truck in this configuration\n",
    "TRUCK_CONFIGURATIONS = ((11, 2), (11, 2), (11, 2), (11, 3), (10, 3), (10, 3), (10, 4))\n",
    "\n",
    "# List of customer orders.\n",
    "# Each tuple is (customer index, volume, product type)\n",
    "CUSTOMER_ORDERS = ((0, 3, 1), (0, 4, 2), (0, 3, 0), (0, 2, 1), (0, 5, 1), (0, 4, 1), (0, 11, 0),\n",
    "                   (1, 4, 0), (1, 5, 0), (1, 2, 0), (1, 4, 2), (1, 7, 2), (1, 3, 2), (1, 5, 0), (1, 2, 2),\n",
    "                   (2, 5, 1), (2, 6, 0), (2, 11, 2), (2, 1, 0), (2, 6, 0), (2, 3, 0))\n",
    "\n",
    "# Transition costs between configurations.\n",
    "# Tuple (A, B, TCost) where TCost is the cost of modifying the truck from configuration A to configuration B\n",
    "CONFIGURATION_TRANSITION_COST = tuple_set(((0, 0,  0), (0, 1,  0), (0, 2,  0), (0, 3, 10), (0, 4, 10),\n",
    "                                           (0, 5, 10), (0, 6, 15), (1, 0,  0), (1, 1,  0), (1, 2,  0),\n",
    "                                           (1, 3, 10), (1, 4, 10), (1, 5, 10), (1, 6, 15), (2, 0,  0),\n",
    "                                           (2, 1,  0), (2, 2,  0), (2, 3, 10), (2, 4, 10), (2, 5, 10),\n",
    "                                           (2, 6, 15), (3, 0,  3), (3, 1,  3), (3, 2,  3), (3, 3,  0),\n",
    "                                           (3, 4, 10), (3, 5, 10), (3, 6, 15), (4, 0,  3), (4, 1,  3),\n",
    "                                           (4, 2,  3), (4, 3, 10), (4, 4,  0), (4, 5, 10), (4, 6, 15),\n",
    "                                           (5, 0,  3), (5, 1,  3), (5, 2,  3), (5, 3, 10), (5, 4, 10),\n",
    "                                           (5, 5,  0), (5, 6, 15), (6, 0,  3), (6, 1,  3), (6, 2,  3),\n",
    "                                           (6, 3, 10), (6, 4, 10), (6, 5, 10), (6, 6,  0)\n",
    "                                           ))\n",
    "\n",
    "# Dependency between the product types and the configuration of the truck\n",
    "# allowedContainerConfigs[i]: the array of all the configurations that accept products of type i\n",
    "ALLOWED_CONTAINER_CONFIGS = ((0, 3, 4, 6),\n",
    "                             (1, 3, 5, 6),\n",
    "                             (2, 4, 5, 6))"
   ]
  },
  {
   "cell_type": "markdown",
   "metadata": {},
   "source": [
    "<a id=\"Set-up-the-prescriptive-model\"></a>\n",
    "### 4. Set up the prescriptive model"
   ]
  },
  {
   "cell_type": "markdown",
   "metadata": {},
   "source": [
    "<a id=\"Prepare-data-for-modeling\"></a>\n",
    "####  4.1. Prepare data for modeling\n",
    "\n",
    "Extract data that is frequently used when modeling."
   ]
  },
  {
   "cell_type": "code",
   "execution_count": 5,
   "metadata": {
    "collapsed": true
   },
   "outputs": [],
   "source": [
    "nbTruckConfigs = len(TRUCK_CONFIGURATIONS)\n",
    "maxTruckConfigLoad = [tc[0] for tc in TRUCK_CONFIGURATIONS]\n",
    "truckCost = [tc[1] for tc in TRUCK_CONFIGURATIONS]\n",
    "maxLoad = max(maxTruckConfigLoad)\n",
    "\n",
    "nbOrders = len(CUSTOMER_ORDERS)\n",
    "nbCustomers = 1 + max(co[0] for co in CUSTOMER_ORDERS)\n",
    "volumes = [co[1] for co in CUSTOMER_ORDERS]\n",
    "productType = [co[2] for co in CUSTOMER_ORDERS]\n",
    "\n",
    "# Maximum number of truck deliveries (estimated upper bound to be increased if there is no solution)\n",
    "maxDeliveries = 15"
   ]
  },
  {
   "cell_type": "markdown",
   "metadata": {},
   "source": [
    "<a id=\"Create-model\"></a>\n",
    "####  4.2  Create the model"
   ]
  },
  {
   "cell_type": "code",
   "execution_count": 6,
   "metadata": {
    "collapsed": true
   },
   "outputs": [],
   "source": [
    "mdl = CpoModel(name=\"trucks\")"
   ]
  },
  {
   "cell_type": "markdown",
   "metadata": {},
   "source": [
    "<a id=\"Define-the-decision-variables\"></a>\n",
    "####  4.3 Define the decision variables\n",
    "\n",
    "The comments in the code provide details about the variables. "
   ]
  },
  {
   "cell_type": "code",
   "execution_count": 7,
   "metadata": {
    "collapsed": true
   },
   "outputs": [],
   "source": [
    "# Configuration of the truck for each delivery\n",
    "truckConfigs = integer_var_list(maxDeliveries, 0, nbTruckConfigs - 1, \"truckConfigs\")\n",
    "# Association between delivery and order\n",
    "where = integer_var_list(nbOrders, 0, maxDeliveries - 1, \"where\")\n",
    "# Truck load\n",
    "load = integer_var_list(maxDeliveries, 0, maxLoad, \"load\")\n",
    "# Number of required deliveries\n",
    "nbDeliveries = integer_var(0, maxDeliveries)\n",
    "# Association between a customer and a delivery\n",
    "customerOfDelivery = integer_var_list(maxDeliveries, 0, nbCustomers, \"customerOfTruck\")\n",
    "# Transition cost for each delivery\n",
    "transitionCost = integer_var_list(maxDeliveries - 1, 0, 1000, \"transitionCost\")"
   ]
  },
  {
   "cell_type": "markdown",
   "metadata": {},
   "source": [
    "<a id=\"Express-the-business-constraints\"></a>\n",
    "####  4.4 Specify the business constraints\n",
    "\n",
    "The comments in the code provide details about the constraints."
   ]
  },
  {
   "cell_type": "code",
   "execution_count": 8,
   "metadata": {
    "collapsed": true
   },
   "outputs": [],
   "source": [
    "# transitionCost[i] = transition cost between configurations i and i+1\n",
    "for i in range(1, maxDeliveries):\n",
    "    auxVars = (truckConfigs[i - 1], truckConfigs[i], transitionCost[i - 1])\n",
    "    mdl.add(allowed_assignments(auxVars, CONFIGURATION_TRANSITION_COST))\n",
    "\n",
    "# Constrain the volume of orders in each truck\n",
    "mdl.add(pack(load, where, volumes, nbDeliveries))\n",
    "for i in range(0, maxDeliveries):\n",
    "    mdl.add(load[i] <= element(truckConfigs[i], maxTruckConfigLoad))\n",
    "\n",
    "# Relationship between the product type of an order and the configuration of its truck\n",
    "for j in range(0, nbOrders):\n",
    "    configOfContainer = integer_var(ALLOWED_CONTAINER_CONFIGS[productType[j]])\n",
    "    mdl.add(configOfContainer == element(truckConfigs, where[j]))\n",
    "\n",
    "# Assign only one customer per delivery\n",
    "for j in range(0, nbOrders):\n",
    "    mdl.add(element(customerOfDelivery, where[j]) == CUSTOMER_ORDERS[j][0])\n",
    "\n",
    "# Unused deliveries are at the end\n",
    "for j in range(1, maxDeliveries):\n",
    "    mdl.add((load[j - 1] > 0) | (load[j] == 0))\n",
    "\n",
    "# Dominance: the unused deliveries keep the last used configuration\n",
    "mdl.add(load[0] > 0)\n",
    "for i in range(1, maxDeliveries):\n",
    "    mdl.add((load[i] > 0) | (truckConfigs[i] == truckConfigs[i - 1]))\n",
    "\n",
    "# Dominance: regroup deliveries with the same configuration\n",
    "for i in range(maxDeliveries - 2, 0, -1):\n",
    "    ct = true()\n",
    "    for p in range(i + 1, maxDeliveries):\n",
    "        ct = (truckConfigs[p] != truckConfigs[i - 1]) & ct\n",
    "    mdl.add((truckConfigs[i] == truckConfigs[i - 1]) | ct)"
   ]
  },
  {
   "cell_type": "markdown",
   "metadata": {},
   "source": [
    "<a id=\"Express-the-objective\"></a>\n",
    "####  4.5 Specify the objective\n",
    "\n",
    "The objectives are:\n",
    "* Minimize the cost of configuring and loading trucks. \n",
    "* Minimize the number of deliveries. "
   ]
  },
  {
   "cell_type": "code",
   "execution_count": 9,
   "metadata": {
    "collapsed": true
   },
   "outputs": [],
   "source": [
    "cost = sum(transitionCost) + sum(element(truckConfigs[i], truckCost) * (load[i] != 0) for i in range(maxDeliveries))\n",
    "mdl.add(minimize_static_lex([cost, nbDeliveries]))"
   ]
  },
  {
   "cell_type": "markdown",
   "metadata": {},
   "source": [
    "<a id=\"Solve-with-solve-service\"></a>\n",
    "#### 4.6 Solve the model\n",
    "\n",
    "Use the Decision Optimization on Cloud solve service to solve the model."
   ]
  },
  {
   "cell_type": "code",
   "execution_count": 10,
   "metadata": {
    "collapsed": false
   },
   "outputs": [
    {
     "name": "stdout",
     "output_type": "stream",
     "text": [
      "\n",
      "Solving model....\n"
     ]
    }
   ],
   "source": [
    "# Search strategy: assign an order to a truck\n",
    "mdl.set_search_phases([search_phase(where)])\n",
    "\n",
    "print(\"\\nSolving model....\")\n",
    "msol = mdl.solve(url=SVC_URL, key=SVC_KEY, TimeLimit=20, LogPeriod=3000)"
   ]
  },
  {
   "cell_type": "markdown",
   "metadata": {},
   "source": [
    "<a id=\"Investigate-the-solution\"></a>\n",
    "### 5. Investigate the solution and run an example analysis\n",
    "\n",
    "Run the following cell. You might need to wait a few seconds for the solution."
   ]
  },
  {
   "cell_type": "code",
   "execution_count": 11,
   "metadata": {
    "collapsed": false
   },
   "outputs": [
    {
     "name": "stdout",
     "output_type": "stream",
     "text": [
      "Solution: \n",
      "   Configuration cost: 26.0, number of deliveries: 13.0\n",
      "   Delivery  0: config=1, items= <4, 1, 5>\n",
      "   Delivery  1: config=1, items= <0, 1, 3> <3, 1, 2> <5, 1, 4>\n",
      "   Delivery  2: config=1, items= <15, 1, 5>\n",
      "   Delivery  3: config=0, items= <7, 0, 4> <8, 0, 5>\n",
      "   Delivery  4: config=0, items= <18, 0, 1> <19, 0, 6>\n",
      "   Delivery  5: config=0, items= <2, 0, 3>\n",
      "   Delivery  6: config=0, items= <6, 0, 11>\n",
      "   Delivery  7: config=0, items= <9, 0, 2> <13, 0, 5>\n",
      "   Delivery  8: config=0, items= <16, 0, 6> <20, 0, 3>\n",
      "   Delivery  9: config=2, items= <17, 2, 11>\n",
      "   Delivery 10: config=2, items= <10, 2, 4> <12, 2, 3>\n",
      "   Delivery 11: config=2, items= <1, 2, 4>\n",
      "   Delivery 12: config=2, items= <11, 2, 7> <14, 2, 2>\n"
     ]
    }
   ],
   "source": [
    "if msol.is_solution():\n",
    "    print(\"Solution: \")\n",
    "    ovals = msol.get_objective_values()\n",
    "    print(\"   Configuration cost: {}, number of deliveries: {}\".format(ovals[0], ovals[1]))\n",
    "    for i in range(maxDeliveries):\n",
    "        ld = msol.get_value(load[i])\n",
    "        if ld > 0:\n",
    "            stdout.write(\"   Delivery {:2d}: config={}\".format(i,msol.get_value(truckConfigs[i])))\n",
    "            stdout.write(\", items=\")\n",
    "            for j in range(nbOrders):\n",
    "                if (msol.get_value(where[j]) == i):\n",
    "                    stdout.write(\" <{}, {}, {}>\".format(j, productType[j], volumes[j]))\n",
    "            stdout.write('\\n')\n",
    "else:\n",
    "    stdout.write(\"Solve status: {}\\n\".format(msol.get_solve_status()))"
   ]
  },
  {
   "cell_type": "markdown",
   "metadata": {},
   "source": [
    "The proposed solution specifies 26 as the minimal cost of configuring and loading trucks, and 13 as the number of deliveries. The solution suggests 12 deliveries, and a configuration for each delivery. "
   ]
  },
  {
   "cell_type": "markdown",
   "metadata": {},
   "source": [
    "<a id=\"summary\"></a>\n",
    "## Summary\n",
    "\n",
    "You learned how to set up and use the IBM Decision Optimization CPLEX Modeling for Python to build a Constraint Programming model and solve it with IBM Decision Optimization on Cloud."
   ]
  },
  {
   "cell_type": "markdown",
   "metadata": {},
   "source": [
    "#### References\n",
    "* [CPLEX Modeling for Python documentation](https://rawgit.com/IBMDecisionOptimization/docplex-doc/master/docs/index.html)\n",
    "* [Decision Optimization on Cloud](https://developer.ibm.com/docloud/)\n",
    "* [Decision Optimization documentation](https://dataplatform.cloud.ibm.com/docs/content/DO/DOinDSX.html)\n",
    "* For help with DOcplex, or to report a defect, go [here](https://developer.ibm.com/answers/smartspace/docloud).\n",
    "* Contact us at dofeedback@wwpdl.vnet.ibm.com"
   ]
  },
  {
   "cell_type": "markdown",
   "metadata": {},
   "source": [
    "<div class=\"alert alert-block alert-info\"> Note: To save resources and get the best performance please use the code below to stop the kernel before exiting your notebook.</div>"
   ]
  },
  {
   "cell_type": "code",
   "execution_count": null,
   "metadata": {
    "collapsed": true
   },
   "outputs": [],
   "source": [
    "%%javascript\n",
    "Jupyter.notebook.session.delete();"
   ]
  },
  {
   "cell_type": "markdown",
   "metadata": {},
   "source": [
    "<hr>\n",
    "Copyright &copy; IBM Corp. 2017. Released as licensed Sample Materials."
   ]
  }
 ],
 "metadata": {
  "kernelspec": {
   "display_name": "Python 2",
   "language": "python",
   "name": "python2"
  },
  "language_info": {
   "codemirror_mode": {
    "name": "ipython",
    "version": 2
   },
   "file_extension": ".py",
   "mimetype": "text/x-python",
   "name": "python",
   "nbconvert_exporter": "python",
   "pygments_lexer": "ipython2",
   "version": "2.7.12"
  }
 },
 "nbformat": 4,
 "nbformat_minor": 0
}
