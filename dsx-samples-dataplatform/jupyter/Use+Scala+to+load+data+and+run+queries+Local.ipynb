{
 "cells": [
  {
   "cell_type": "markdown",
   "metadata": {},
   "source": [
    "# Use Spark for Scala to load data and run SQL queries\n",
    "This notebook introduces basic Spark concepts and helps you to start using Spark for Scala.\n",
    "\n",
    "Some familiarity with Scala is recommended.\n",
    "\n",
    "In this notebook, you'll use the publicly available **mtcars** data set from *Motor Trend* magazine to learn some basic Scala. You'll learn how to load data, create a Spark DataFrame, aggregate data, run mathematical formulas, and run SQL queries against the data.\n"
   ]
  },
  {
   "cell_type": "markdown",
   "metadata": {},
   "source": [
    "## Table of contents\n",
    "This notebook contains these main sections:\n",
    "\n",
    "1. [Load a DataFrame](#Load_a_DataFrame)\n",
    "2. [Initialize an SQLContext](#Initialize_an_SQLContext)\n",
    "3. [Create a Spark DataFrame](#Create_a_Spark_DataFrame)\n",
    "4. [Aggregate data after grouping by columns](#Aggregate_data_after_grouping_by_columns)\n",
    "5. [Operate on columns](#Operate_on_columns)\n",
    "6. [Run SQL queries from the Spark DataFrame](#Run_SQL_queries_from_the_Spark_DataFrame)"
   ]
  },
  {
   "cell_type": "markdown",
   "metadata": {},
   "source": [
    "<a id='Load_a_DataFrame'></a>\n",
    "## 1. Load a DataFrame\n",
    "A DataFrame is a distributed collection of data that is organized into named columns. The local Scala DataFrame called **mtcars** includes observations on the following 11 variables:\n",
    "\n",
    "`[, 1]\tmpg     Miles / (US) gallon`  \n",
    "`[, 2]\tcyl     Number of cylinders`  \n",
    "`[, 3]\tdisp\tDisplacement (cu. in.)`  \n",
    "`[, 4]\thp      Gross horsepower`  \n",
    "`[, 5]\tdrat    Rear axle ratio`  \n",
    "`[, 6]\twt      Weight (1000 lbs)`  \n",
    "`[, 7]\tqsec    1/4 mile time (seconds)`  \n",
    "`[, 8]\tvs      0 = V-engine, 1 = straight engine`  \n",
    "`[, 9]\tam      Transmission (0 = automatic, 1 = manual)`  \n",
    "`[,10]\tgear    Number of forward gears`  \n",
    "`[,11]\tcarb    Number of carburetors`"
   ]
  },
  {
   "cell_type": "code",
   "execution_count": 1,
   "metadata": {
    "collapsed": false
   },
   "outputs": [],
   "source": [
    "// Define the schema using a case class.\n",
    "case class Cars(car: String, mpg: Double, cyl: Int, disp: Double, hp: Int, drat: Double, wt: Double, qsec: Double, \n",
    "                vs: Int, am: Int, gear: Int, carb: Int)\n",
    "\n",
    "// Create some Cars data\n",
    "val CarList: List[Cars] = List(\n",
    "    Cars(\"Car Brand1\", 18, 4, 1000, 110, 3.9, 3.1, 16.46, 1, 4, 4, 4),\n",
    "    Cars(\"Car Brand2\", 24, 6, 2000, 120, 3.8, 3.5, 16.46, 0, 55, 4, 4),\n",
    "    Cars(\"Car Brand3\", 30, 8, 3000, 130, 3.7, 4.0, 16.46, 1, 4, 4, 4),\n",
    "    Cars(\"Car Brand4\", 14, 4, 4000, 140, 3.6, 3.2, 16.46, 0, 55, 3, 4),\n",
    "    Cars(\"Car Brand5\", 12, 4, 5000, 150, 3.5, 3.3, 16.46, 1, 4, 4, 4),\n",
    "    Cars(\"Car Brand6\", 20, 6, 6000, 160, 3.4, 3.6, 16.46, 0, 55, 3, 4),\n",
    "    Cars(\"Car Brand7\", 15.5, 4, 700, 170, 3.3, 3.4, 16.46, 0, 1, 4, 4),\n",
    "    Cars(\"Car Brand8\", 10, 4, 800, 180, 3.2, 3.3, 16.46, 0, 0, 3, 4),\n",
    "    Cars(\"Car Brand9\", 5, 4, 900, 190, 3.1, 3.2, 16.46, 0, 1, 5, 4),\n",
    "    Cars(\"Car Brand10\", 7, 4, 2000, 110, 3.0, 3.1, 16.46, 0, 55, 3, 4),\n",
    "    Cars(\"Car Brand11\", 22, 6, 3000, 111, 2.9, 3.7, 16.46, 1, 4, 4, 4),\n",
    "    Cars(\"Car Brand12\", 33, 8, 4000, 112, 2.8, 4.2, 16.46, 0, 55, 4, 4),\n",
    "    Cars(\"Car Brand13\", 46, 8, 5000, 113, 2.7, 4.3, 16.46, 1, 4, 5, 4),\n",
    "    Cars(\"Car Brand14\", 8, 4, 6000, 114, 2.5, 3.2, 16.46, 0, 55, 4, 4),\n",
    "    Cars(\"Car Brand15\", 60, 8, 7000, 115, 2.4, 4.4, 16.46, 1, 4, 5, 4)\n",
    ")"
   ]
  },
  {
   "cell_type": "markdown",
   "metadata": {},
   "source": [
    "<a id='Initialize_an_SQLContext'></a>\n",
    "## 2. Initialize an SQLContext\n",
    "To work with a DataFrame, you need an SQLContext. You create this SQLContext by using `SQLContext(sc)`. A SparkContext named sc, which has been created for you, is used to initialize the SQLContext:"
   ]
  },
  {
   "cell_type": "code",
   "execution_count": 2,
   "metadata": {
    "collapsed": false
   },
   "outputs": [],
   "source": [
    "import au.com.bytecode.opencsv.CSVParser\n",
    "val sqlContext = new org.apache.spark.sql.SQLContext(sc)\n",
    "import sqlContext.implicits._"
   ]
  },
  {
   "cell_type": "markdown",
   "metadata": {},
   "source": [
    "<a id='Create_a_Spark_DataFrame'></a>\n",
    "## 3. Create a Spark DataFrame\n",
    "Using the SQLContext and the loaded local DataFrame, create a Spark DataFrame and print the schema, or structure, of the DataFrame:"
   ]
  },
  {
   "cell_type": "code",
   "execution_count": 3,
   "metadata": {
    "collapsed": false
   },
   "outputs": [
    {
     "name": "stdout",
     "output_type": "stream",
     "text": [
      "root\n",
      " |-- car: string (nullable = true)\n",
      " |-- mpg: double (nullable = false)\n",
      " |-- cyl: integer (nullable = false)\n",
      " |-- disp: double (nullable = false)\n",
      " |-- hp: integer (nullable = false)\n",
      " |-- drat: double (nullable = false)\n",
      " |-- wt: double (nullable = false)\n",
      " |-- qsec: double (nullable = false)\n",
      " |-- vs: integer (nullable = false)\n",
      " |-- am: integer (nullable = false)\n",
      " |-- gear: integer (nullable = false)\n",
      " |-- carb: integer (nullable = false)\n",
      "\n"
     ]
    }
   ],
   "source": [
    "val mtcars = sqlContext.createDataFrame(CarList)\n",
    "mtcars.printSchema"
   ]
  },
  {
   "cell_type": "markdown",
   "metadata": {},
   "source": [
    "Display the content of the Spark DataFrame:"
   ]
  },
  {
   "cell_type": "code",
   "execution_count": 4,
   "metadata": {
    "collapsed": false,
    "scrolled": true
   },
   "outputs": [
    {
     "name": "stdout",
     "output_type": "stream",
     "text": [
      "+-----------+----+---+------+---+----+---+-----+---+---+----+----+\n",
      "|        car| mpg|cyl|  disp| hp|drat| wt| qsec| vs| am|gear|carb|\n",
      "+-----------+----+---+------+---+----+---+-----+---+---+----+----+\n",
      "| Car Brand1|18.0|  4|1000.0|110| 3.9|3.1|16.46|  1|  4|   4|   4|\n",
      "| Car Brand2|24.0|  6|2000.0|120| 3.8|3.5|16.46|  0| 55|   4|   4|\n",
      "| Car Brand3|30.0|  8|3000.0|130| 3.7|4.0|16.46|  1|  4|   4|   4|\n",
      "| Car Brand4|14.0|  4|4000.0|140| 3.6|3.2|16.46|  0| 55|   3|   4|\n",
      "| Car Brand5|12.0|  4|5000.0|150| 3.5|3.3|16.46|  1|  4|   4|   4|\n",
      "| Car Brand6|20.0|  6|6000.0|160| 3.4|3.6|16.46|  0| 55|   3|   4|\n",
      "| Car Brand7|15.5|  4| 700.0|170| 3.3|3.4|16.46|  0|  1|   4|   4|\n",
      "| Car Brand8|10.0|  4| 800.0|180| 3.2|3.3|16.46|  0|  0|   3|   4|\n",
      "| Car Brand9| 5.0|  4| 900.0|190| 3.1|3.2|16.46|  0|  1|   5|   4|\n",
      "|Car Brand10| 7.0|  4|2000.0|110| 3.0|3.1|16.46|  0| 55|   3|   4|\n",
      "|Car Brand11|22.0|  6|3000.0|111| 2.9|3.7|16.46|  1|  4|   4|   4|\n",
      "|Car Brand12|33.0|  8|4000.0|112| 2.8|4.2|16.46|  0| 55|   4|   4|\n",
      "|Car Brand13|46.0|  8|5000.0|113| 2.7|4.3|16.46|  1|  4|   5|   4|\n",
      "|Car Brand14| 8.0|  4|6000.0|114| 2.5|3.2|16.46|  0| 55|   4|   4|\n",
      "|Car Brand15|60.0|  8|7000.0|115| 2.4|4.4|16.46|  1|  4|   5|   4|\n",
      "+-----------+----+---+------+---+----+---+-----+---+---+----+----+\n",
      "\n"
     ]
    }
   ],
   "source": [
    "mtcars.show(32)"
   ]
  },
  {
   "cell_type": "markdown",
   "metadata": {},
   "source": [
    "Try different ways of retrieving subsets of the data. For example, get the first 5 values in the **mpg** column:"
   ]
  },
  {
   "cell_type": "code",
   "execution_count": 5,
   "metadata": {
    "collapsed": false,
    "scrolled": true
   },
   "outputs": [
    {
     "name": "stdout",
     "output_type": "stream",
     "text": [
      "+----+\n",
      "| mpg|\n",
      "+----+\n",
      "|18.0|\n",
      "|24.0|\n",
      "|30.0|\n",
      "|14.0|\n",
      "|12.0|\n",
      "+----+\n",
      "only showing top 5 rows\n",
      "\n"
     ]
    }
   ],
   "source": [
    "mtcars.select(\"mpg\").show(5)"
   ]
  },
  {
   "cell_type": "markdown",
   "metadata": {},
   "source": [
    "Filter the DataFrame to retain only rows with **mpg** values that are less than 18:"
   ]
  },
  {
   "cell_type": "code",
   "execution_count": 6,
   "metadata": {
    "collapsed": false
   },
   "outputs": [
    {
     "name": "stdout",
     "output_type": "stream",
     "text": [
      "+-----------+----+---+------+---+----+---+-----+---+---+----+----+\n",
      "|        car| mpg|cyl|  disp| hp|drat| wt| qsec| vs| am|gear|carb|\n",
      "+-----------+----+---+------+---+----+---+-----+---+---+----+----+\n",
      "| Car Brand4|14.0|  4|4000.0|140| 3.6|3.2|16.46|  0| 55|   3|   4|\n",
      "| Car Brand5|12.0|  4|5000.0|150| 3.5|3.3|16.46|  1|  4|   4|   4|\n",
      "| Car Brand7|15.5|  4| 700.0|170| 3.3|3.4|16.46|  0|  1|   4|   4|\n",
      "| Car Brand8|10.0|  4| 800.0|180| 3.2|3.3|16.46|  0|  0|   3|   4|\n",
      "| Car Brand9| 5.0|  4| 900.0|190| 3.1|3.2|16.46|  0|  1|   5|   4|\n",
      "|Car Brand10| 7.0|  4|2000.0|110| 3.0|3.1|16.46|  0| 55|   3|   4|\n",
      "|Car Brand14| 8.0|  4|6000.0|114| 2.5|3.2|16.46|  0| 55|   4|   4|\n",
      "+-----------+----+---+------+---+----+---+-----+---+---+----+----+\n",
      "\n"
     ]
    }
   ],
   "source": [
    "mtcars.filter(mtcars(\"mpg\") < 18).show()"
   ]
  },
  {
   "cell_type": "markdown",
   "metadata": {},
   "source": [
    "<a id='Aggregate_data_after_grouping_by_columns'></a>\n",
    "## 4. Aggregate data after grouping by columns\n",
    "Spark DataFrames support a number of common functions to aggregate data after grouping. For example, you can compute the average weight of cars as a function of the number of cylinders:"
   ]
  },
  {
   "cell_type": "code",
   "execution_count": 7,
   "metadata": {
    "collapsed": false
   },
   "outputs": [
    {
     "name": "stdout",
     "output_type": "stream",
     "text": [
      "+---+-------+\n",
      "|cyl|avg(wt)|\n",
      "+---+-------+\n",
      "|  6|    3.6|\n",
      "|  4|  3.225|\n",
      "|  8|  4.225|\n",
      "+---+-------+\n",
      "\n"
     ]
    }
   ],
   "source": [
    "import org.apache.spark.sql.functions._\n",
    "mtcars.groupBy(\"cyl\").agg(avg(\"wt\")).show()"
   ]
  },
  {
   "cell_type": "markdown",
   "metadata": {},
   "source": [
    "<p>You can also sort the output from the aggregation to determine the most popular cylinder configuration in the DataFrame:</p>"
   ]
  },
  {
   "cell_type": "code",
   "execution_count": 8,
   "metadata": {
    "collapsed": false
   },
   "outputs": [
    {
     "name": "stdout",
     "output_type": "stream",
     "text": [
      "+---+---------+\n",
      "|cyl|count(wt)|\n",
      "+---+---------+\n",
      "|  4|        8|\n",
      "|  8|        4|\n",
      "|  6|        3|\n",
      "+---+---------+\n",
      "\n"
     ]
    }
   ],
   "source": [
    "mtcars.groupBy(\"cyl\").agg(count(\"wt\")).sort($\"count(wt)\".desc).show()"
   ]
  },
  {
   "cell_type": "markdown",
   "metadata": {},
   "source": [
    "<a id='Operate_on_columns'></a>\n",
    "## 5. Operate on columns\n",
    "Scala provides a number of functions that you can apply directly to columns for data processing. In the following example, a basic arithmetic function converts lbs to metric tons:"
   ]
  },
  {
   "cell_type": "code",
   "execution_count": 9,
   "metadata": {
    "collapsed": false
   },
   "outputs": [
    {
     "name": "stdout",
     "output_type": "stream",
     "text": [
      "+----------+---+------------------+\n",
      "|       car| wt|             wtTon|\n",
      "+----------+---+------------------+\n",
      "|Car Brand1|3.1|             1.395|\n",
      "|Car Brand2|3.5|             1.575|\n",
      "|Car Brand3|4.0|               1.8|\n",
      "|Car Brand4|3.2|1.4400000000000002|\n",
      "|Car Brand5|3.3|1.4849999999999999|\n",
      "|Car Brand6|3.6|              1.62|\n",
      "+----------+---+------------------+\n",
      "only showing top 6 rows\n",
      "\n"
     ]
    }
   ],
   "source": [
    "mtcars.withColumn(\"wtTon\", mtcars(\"wt\") * 0.45).select((\"car\"),(\"wt\"),(\"wtTon\")).show(6)"
   ]
  },
  {
   "cell_type": "markdown",
   "metadata": {},
   "source": [
    "<a id='Run_SQL_queries_from_the_Spark_DataFrame'></a>\n",
    "## 6. Run SQL queries from the Spark DataFrame\n",
    "You can register a Spark DataFrame as a temporary table and then run SQL queries over the data. The `sql` function enables an application to run SQL queries programmatically and returns the result as a DataFrame:"
   ]
  },
  {
   "cell_type": "code",
   "execution_count": 10,
   "metadata": {
    "collapsed": false
   },
   "outputs": [
    {
     "name": "stdout",
     "output_type": "stream",
     "text": [
      "+-----------+----+\n",
      "|        car|gear|\n",
      "+-----------+----+\n",
      "| Car Brand1|   4|\n",
      "| Car Brand2|   4|\n",
      "| Car Brand3|   4|\n",
      "| Car Brand4|   3|\n",
      "| Car Brand5|   4|\n",
      "| Car Brand6|   3|\n",
      "| Car Brand7|   4|\n",
      "| Car Brand8|   3|\n",
      "| Car Brand9|   5|\n",
      "|Car Brand10|   3|\n",
      "|Car Brand11|   4|\n",
      "|Car Brand12|   4|\n",
      "|Car Brand13|   5|\n",
      "|Car Brand14|   4|\n",
      "|Car Brand15|   5|\n",
      "+-----------+----+\n",
      "\n"
     ]
    }
   ],
   "source": [
    "mtcars.registerTempTable(\"cars\")\n",
    "\n",
    "val highgearcars = sqlContext.sql(\"SELECT car, gear FROM cars WHERE gear <= 5\")\n",
    "highgearcars.show()"
   ]
  },
  {
   "cell_type": "markdown",
   "metadata": {
    "collapsed": true
   },
   "source": [
    "## That's it!\n",
    "You successfully completed this notebook! You learned how to load a DataFrame, view and filter the data, aggregate the data, perform operations on the data in specific columns, and run SQL queries against the data. For more information about Spark, see the [Spark Quick Start Guide](http://spark.apache.org/docs/latest/quick-start.html)."
   ]
  },
  {
   "cell_type": "markdown",
   "metadata": {
    "collapsed": true
   },
   "source": [
    "<div class=\"alert alert-block alert-info\"> Note: To save resources and get the best performance please use the code below to stop the kernel before exiting your notebook.</div>"
   ]
  },
  {
   "cell_type": "code",
   "execution_count": null,
   "metadata": {
    "collapsed": true
   },
   "outputs": [],
   "source": [
    "%%javascript\n",
    "Jupyter.notebook.session.delete();"
   ]
  },
  {
   "cell_type": "markdown",
   "metadata": {},
   "source": [
    "<hr>\n",
    "Copyright &copy; IBM Corp. 2017. Released as licensed Sample Materials."
   ]
  }
 ],
 "metadata": {
  "kernelspec": {
   "display_name": "Apache Toree - Scala",
   "language": "scala",
   "name": "apache_toree_scala"
  },
  "language_info": {
   "file_extension": ".scala",
   "name": "scala",
   "version": "2.11.8"
  }
 },
 "nbformat": 4,
 "nbformat_minor": 0
}
