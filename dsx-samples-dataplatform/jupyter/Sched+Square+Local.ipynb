{
 "cells": [
  {
   "cell_type": "markdown",
   "metadata": {},
   "source": [
    "# Sched Square\n",
    "\n",
    "This tutorial includes everything you need to set up decision optimization engines, and build constraint programming models to optimize the Sched Square solution. All data and instructions that you need to model and solve this problem are included.\n",
    "\n",
    "\n",
    "When you finish this tutorial, you'll have a foundational knowledge of _Prescriptive Analytics_.\n",
    "\n",
    ">This notebook is part of [Prescriptive Analytics for Python](https://rawgit.com/IBMDecisionOptimization/docplex-doc/master/docs/index.html).\n",
    "\n",
    ">This notebook requires a valid subscription to [Decision Optimization on Cloud](https://developer.ibm.com/docloud) or a local installation of CPLEX Optimizers.\n",
    "\n",
    "Some familiarity with Python is recommended.\n"
   ]
  },
  {
   "cell_type": "markdown",
   "metadata": {},
   "source": [
    " ## Table of contents \n",
    "\n",
    "-  [Describe the business problem](#Describe-the-business-problem)<br>\n",
    "-  [How decision optimization (prescriptive analytics) can help](#How--decision-optimization-can-help)<br>\n",
    "-  [Use decision optimization](#Use-decision-optimization)<br>\n",
    "    1.  [Download the library](#Download-library)<br>\n",
    "    2.  [Set up the engines](#Step-2:-Set-up-the-prescriptive-engine)<br>\n",
    "    3.  [Model the data](#Step-3:-Model-the-data)<br>\n",
    "    4.  [Set up the prescriptive model](#Step-4:-Set-up-the-prescriptive-model)<br>\n",
    "        4.1 [Define the decision variables](#Define-the-decision-variables)<br>\n",
    "        4.2 [Express the business constraints](#Express-the-business-constraints)<br>\n",
    "        4.3 [Express the search phase](#Express-the-search-phase)<br>\n",
    "        4.4 [Solve with Decision Optimization solve service](#Solve-with-Decision-Optimization-solve-service)<br>\n",
    "    5. [Investigate the solution and run an example analysis](#Step-5:-Investigate-the-solution-and-then-run-an-example-analysis)<br>\n",
    "-  [Summary](#Summary)<br>\n",
    "****\n",
    "   "
   ]
  },
  {
   "cell_type": "markdown",
   "metadata": {},
   "source": [
    "## Describe the business problem\n",
    "\n",
    "* The aim of this problem is to place a set of small sub-squares into a large englobing square.\n",
    "* No two sub-squares must be the same.\n",
    "* All the sub-squares must tile the large square perfectly.\n",
    "\n",
    "#### References\n",
    "\n",
    "* See https://en.wikipedia.org/wiki/Squaring_the_square for more details."
   ]
  },
  {
   "cell_type": "markdown",
   "metadata": {},
   "source": [
    "## How  decision optimization can help\n",
    "\n",
    "Prescriptive analytics (decision optimization) technology recommends actions that are based on desired outcomes. It considers specific scenarios, resources, and knowledge of past and current events. With this insight, your organization can make better decisions and have greater control over business outcomes.\n",
    "\n",
    "Prescriptive analytics is the next step on the path to insight-based actions. It creates value through synergy with predictive analytics, which analyzes data to predict future outcomes. Prescriptive analytics takes that insight to the next level by suggesting the optimal way to handle a future situation. Organizations that act fast in dynamic conditions and make superior decisions in uncertain environments gain a strong competitive advantage.\n",
    "\n",
    "With prescriptive analytics, you can:\n",
    "\n",
    "* Automate the complex decisions and trade-offs to better manage your limited resources.\n",
    "    \n",
    "* Take advantage of a future opportunity or mitigate a future risk.\n",
    "    \n",
    "* Proactively update recommendations based on changing events.\n",
    "    \n",
    "* Meet operational goals, increase customer loyalty, prevent threats and fraud, and optimize business processes.\n"
   ]
  },
  {
   "cell_type": "markdown",
   "metadata": {},
   "source": [
    "## Use decision optimization"
   ]
  },
  {
   "cell_type": "markdown",
   "metadata": {},
   "source": [
    "<a id=\"Download-library\"></a>\n",
    "## 1. Download the DOcplex library\n",
    "\n",
    "DOcplex is the Decision Optimization CPLEX Modeling library for Python. This library includes two modules, Mathematical Programming Modeling (DOcplex.MP ) and Constraint Programming Modeling (DOcplex.CP).\n",
    "\n",
    "Run the following cell to install the library. The `real.prefix` in the code is used to detect whether the script is running inside a virtual environment, and adjust the install procedure accordingly."
   ]
  },
  {
   "cell_type": "code",
   "execution_count": null,
   "metadata": {
    "collapsed": true,
    "scrolled": true
   },
   "outputs": [],
   "source": [
    "!pip install docplex"
   ]
  },
  {
   "cell_type": "code",
   "execution_count": 1,
   "metadata": {
    "collapsed": true
   },
   "outputs": [],
   "source": [
    "import docplex.cp"
   ]
  },
  {
   "cell_type": "markdown",
   "metadata": {},
   "source": [
    "Note that the more global package <i>docplex</i> contains another subpackage <i>docplex.mp</i> that is dedicated to Mathematical Programming, another branch of optimization."
   ]
  },
  {
   "cell_type": "markdown",
   "metadata": {},
   "source": [
    "<a id=\"Step-2:-Set-up-the-prescriptive-engine\"></a>\n",
    "## 2. Set up the prescriptive engine\n",
    "\n",
    "To access the DOcplexcloud solve service, perform the following steps:\n",
    "\n",
    "* Subscribe to the [Decision Optimization on Cloud](https://developer.ibm.com/docloud) (DOcplexcloud) service.\n",
    "* Get the service base URL and personal API key.\n",
    "* Enter the URL and API key in the cell below, enclosed in quotation marks (\"\"), and run the cell. \n",
    "\n",
    "__Note:__ For a persistent setting, create a Python configuration file *docloud_config.py* in a location that is visible to PYTHONPATH."
   ]
  },
  {
   "cell_type": "code",
   "execution_count": 1,
   "metadata": {
    "collapsed": true,
    "render": false
   },
   "outputs": [],
   "source": [
    "# Initialize IBM Decision Optimization credentials\n",
    "SVC_URL = \"ENTER YOUR URL HERE\" \n",
    "SVC_KEY = \"ENTER YOUR CREDENTIAL ID HERE\""
   ]
  },
  {
   "cell_type": "markdown",
   "metadata": {},
   "source": [
    "Import the DOcplex library."
   ]
  },
  {
   "cell_type": "code",
   "execution_count": 17,
   "metadata": {
    "collapsed": true
   },
   "outputs": [],
   "source": [
    "from docplex.cp.model import *"
   ]
  },
  {
   "cell_type": "markdown",
   "metadata": {},
   "source": [
    "<div class=\"alert alert-block alert-info\"> Note: This notebook requires a full subscription to CPLEX 12.7.1 or above, that is with a valid docplexcloud url and key.</div> "
   ]
  },
  {
   "cell_type": "markdown",
   "metadata": {},
   "source": [
    "<a id=\"Step-3:-Model-the-data\"></a>\n",
    "## 3. Model the data"
   ]
  },
  {
   "cell_type": "markdown",
   "metadata": {},
   "source": [
    "#### Size of the englobing square"
   ]
  },
  {
   "cell_type": "code",
   "execution_count": 18,
   "metadata": {
    "collapsed": true
   },
   "outputs": [],
   "source": [
    "SIZE_SQUARE = 112"
   ]
  },
  {
   "cell_type": "markdown",
   "metadata": {},
   "source": [
    "#### Sizes of the sub-squares"
   ]
  },
  {
   "cell_type": "code",
   "execution_count": 5,
   "metadata": {
    "collapsed": true
   },
   "outputs": [],
   "source": [
    "SIZE_SUBSQUARE = [50, 42, 37, 35, 33, 29, 27, 25, 24, 19, 18, 17, 16, 15, 11, 9, 8, 7, 6, 4, 2]"
   ]
  },
  {
   "cell_type": "markdown",
   "metadata": {},
   "source": [
    "<a id=\"Step-4:-Set-up-the-prescriptive-model\"></a>\n",
    "## 4. Set up the prescriptive model"
   ]
  },
  {
   "cell_type": "code",
   "execution_count": 6,
   "metadata": {
    "collapsed": true
   },
   "outputs": [],
   "source": [
    "mdl = CpoModel(name=\"SchedSquare\")"
   ]
  },
  {
   "cell_type": "markdown",
   "metadata": {},
   "source": [
    "<a id=\"Define-the-decision-variables\"></a>\n",
    "### 4.1 Define the decision variables\n",
    "##### Create array of variables for sub-squares"
   ]
  },
  {
   "cell_type": "code",
   "execution_count": 7,
   "metadata": {
    "collapsed": true
   },
   "outputs": [],
   "source": [
    "x = []\n",
    "y = []\n",
    "rx = pulse((0, 0), 0)\n",
    "ry = pulse((0, 0), 0)\n",
    "\n",
    "for i in range(len(SIZE_SUBSQUARE)):\n",
    "    sq = SIZE_SUBSQUARE[i]\n",
    "    vx = interval_var(size=sq, name=\"X\" + str(i))\n",
    "    vx.set_end((0, SIZE_SQUARE))\n",
    "    x.append(vx)\n",
    "    rx += pulse(vx, sq)\n",
    "\n",
    "    vy = interval_var(size=sq, name=\"Y\" + str(i))\n",
    "    vy.set_end((0, SIZE_SQUARE))\n",
    "    y.append(vy)\n",
    "    ry += pulse(vy, sq)"
   ]
  },
  {
   "cell_type": "markdown",
   "metadata": {},
   "source": [
    "<a id=\"Express-the-business-constraints\"></a>\n",
    "### 4.2 Express the business constraints\n",
    "##### Create dependencies between variables"
   ]
  },
  {
   "cell_type": "code",
   "execution_count": 8,
   "metadata": {
    "collapsed": true
   },
   "outputs": [],
   "source": [
    "for i in range(len(SIZE_SUBSQUARE)):\n",
    "    for j in range(i):\n",
    "        mdl.add((end_of(x[i]) <= start_of(x[j]))\n",
    "                | (end_of(x[j]) <= start_of(x[i]))\n",
    "                | (end_of(y[i]) <= start_of(y[j]))\n",
    "                | (end_of(y[j]) <= start_of(y[i])))"
   ]
  },
  {
   "cell_type": "markdown",
   "metadata": {},
   "source": [
    "##### Set other constraints"
   ]
  },
  {
   "cell_type": "code",
   "execution_count": 9,
   "metadata": {
    "collapsed": true
   },
   "outputs": [],
   "source": [
    "mdl.add(always_in(rx, (0, SIZE_SQUARE), SIZE_SQUARE, SIZE_SQUARE))\n",
    "mdl.add(always_in(ry, (0, SIZE_SQUARE), SIZE_SQUARE, SIZE_SQUARE))"
   ]
  },
  {
   "cell_type": "markdown",
   "metadata": {},
   "source": [
    "<a id=\"Express-the-search-phase\"></a>\n",
    "### 4.3 Express the search phase"
   ]
  },
  {
   "cell_type": "code",
   "execution_count": 10,
   "metadata": {
    "collapsed": true
   },
   "outputs": [],
   "source": [
    "mdl.set_search_phases([search_phase(x), search_phase(y)])"
   ]
  },
  {
   "cell_type": "markdown",
   "metadata": {},
   "source": [
    "<a id=\"Solve-with-Decision-Optimization-solve-service\"></a>\n",
    "### 4.4 Solve with Decision Optimization solve service"
   ]
  },
  {
   "cell_type": "code",
   "execution_count": 11,
   "metadata": {
    "collapsed": true
   },
   "outputs": [],
   "source": [
    "msol = mdl.solve(url=SVC_URL, \n",
    "                 key=SVC_KEY,\n",
    "                 TimeLimit=20,\n",
    "                 LogPeriod=50000)"
   ]
  },
  {
   "cell_type": "markdown",
   "metadata": {},
   "source": [
    "<a id =\"Step-5:-Investigate-the-solution-and-then-run-an-example-analysis\"></a>\n",
    "## 5. Investigate the solution and then run an example analysis"
   ]
  },
  {
   "cell_type": "markdown",
   "metadata": {},
   "source": [
    "#### Print Solution"
   ]
  },
  {
   "cell_type": "code",
   "execution_count": 12,
   "metadata": {
    "collapsed": false
   },
   "outputs": [
    {
     "name": "stdout",
     "output_type": "stream",
     "text": [
      "Solution: \n",
      "-------------------------------------------------------------------------------\n",
      "Model constraints: 212, variables: integer: 0, interval: 42, sequence: 0\n",
      "Solve status: Feasible\n",
      "Solve time: 2.47 sec\n",
      "-------------------------------------------------------------------------------\n",
      "X0: (start=0, end=50, size=50, length=50)\n",
      "X1: (start=70, end=112, size=42, length=42)\n",
      "X10: (start=52, end=70, size=18, length=18)\n",
      "X11: (start=35, end=52, size=17, length=17)\n",
      "X12: (start=59, end=75, size=16, length=16)\n",
      "X13: (start=35, end=50, size=15, length=15)\n",
      "X14: (start=35, end=46, size=11, length=11)\n",
      "X15: (start=50, end=59, size=9, length=9)\n",
      "X16: (start=27, end=35, size=8, length=8)\n",
      "X17: (start=52, end=59, size=7, length=7)\n",
      "X18: (start=46, end=52, size=6, length=6)\n",
      "X19: (start=75, end=79, size=4, length=4)\n",
      "X2: (start=75, end=112, size=37, length=37)\n",
      "X20: (start=50, end=52, size=2, length=2)\n",
      "X3: (start=0, end=35, size=35, length=35)\n",
      "X4: (start=79, end=112, size=33, length=33)\n",
      "X5: (start=50, end=79, size=29, length=29)\n",
      "X6: (start=0, end=27, size=27, length=27)\n",
      "X7: (start=50, end=75, size=25, length=25)\n",
      "X8: (start=46, end=70, size=24, length=24)\n",
      "X9: (start=27, end=46, size=19, length=19)\n",
      "Y0: (start=0, end=50, size=50, length=50)\n",
      "Y1: (start=70, end=112, size=42, length=42)\n",
      "Y10: (start=70, end=88, size=18, length=18)\n",
      "Y11: (start=65, end=82, size=17, length=17)\n",
      "Y12: (start=54, end=70, size=16, length=16)\n",
      "Y13: (start=50, end=65, size=15, length=15)\n",
      "Y14: (start=82, end=93, size=11, length=11)\n",
      "Y15: (start=54, end=63, size=9, length=9)\n",
      "Y16: (start=85, end=93, size=8, length=8)\n",
      "Y17: (start=63, end=70, size=7, length=7)\n",
      "Y18: (start=82, end=88, size=6, length=6)\n",
      "Y19: (start=29, end=33, size=4, length=4)\n",
      "Y2: (start=33, end=70, size=37, length=37)\n",
      "Y20: (start=63, end=65, size=2, length=2)\n",
      "Y3: (start=50, end=85, size=35, length=35)\n",
      "Y4: (start=0, end=33, size=33, length=33)\n",
      "Y5: (start=0, end=29, size=29, length=29)\n",
      "Y6: (start=85, end=112, size=27, length=27)\n",
      "Y7: (start=29, end=54, size=25, length=25)\n",
      "Y8: (start=88, end=112, size=24, length=24)\n",
      "Y9: (start=93, end=112, size=19, length=19)\n"
     ]
    }
   ],
   "source": [
    "print(\"Solution: \")\n",
    "msol.print_solution()"
   ]
  },
  {
   "cell_type": "markdown",
   "metadata": {},
   "source": [
    "#### Import graphical tools"
   ]
  },
  {
   "cell_type": "code",
   "execution_count": 13,
   "metadata": {
    "collapsed": true
   },
   "outputs": [],
   "source": [
    "import docplex.cp.utils_visu as visu\n",
    "import matplotlib.pyplot as plt"
   ]
  },
  {
   "cell_type": "markdown",
   "metadata": {},
   "source": [
    "__Note__: *You can set __POP\\_UP\\_GRAPHIC=True__ if you prefer a pop up graphic window instead of an inline one.*"
   ]
  },
  {
   "cell_type": "code",
   "execution_count": 14,
   "metadata": {
    "collapsed": true
   },
   "outputs": [],
   "source": [
    "POP_UP_GRAPHIC=False"
   ]
  },
  {
   "cell_type": "code",
   "execution_count": 15,
   "metadata": {
    "collapsed": false
   },
   "outputs": [
    {
     "name": "stdout",
     "output_type": "stream",
     "text": [
      "Plotting squares....\n"
     ]
    },
    {
     "data": {
      "image/png": "[encoded data removed]",
      "text/plain": [
       "<matplotlib.figure.Figure at 0x7fd8ffac6090>"
      ]
     },
     "metadata": {},
     "output_type": "display_data"
    }
   ],
   "source": [
    "if msol and visu.is_visu_enabled():\n",
    "    import matplotlib.cm as cm\n",
    "    from matplotlib.patches import Polygon\n",
    "    \n",
    "    if not POP_UP_GRAPHIC:\n",
    "        %matplotlib inline\n",
    "    \n",
    "    # Plot external square\n",
    "    print(\"Plotting squares....\")\n",
    "    fig, ax = plt.subplots()\n",
    "    plt.plot((0, 0), (0, SIZE_SQUARE), (SIZE_SQUARE, SIZE_SQUARE), (SIZE_SQUARE, 0))\n",
    "    for i in range(len(SIZE_SUBSQUARE)):\n",
    "        # Display square i\n",
    "        (sx, sy) = (msol.get_var_solution(x[i]), msol.get_var_solution(y[i]))\n",
    "        (sx1, sx2, sy1, sy2) = (sx.get_start(), sx.get_end(), sy.get_start(), sy.get_end())\n",
    "        poly = Polygon([(sx1, sy1), (sx1, sy2), (sx2, sy2), (sx2, sy1)], fc=cm.Set2(float(i) / len(SIZE_SUBSQUARE)))\n",
    "        ax.add_patch(poly)\n",
    "        # Display identifier of square i at its center\n",
    "        ax.text(float(sx1 + sx2) / 2, float(sy1 + sy2) / 2, str(SIZE_SUBSQUARE[i]), ha='center', va='center')\n",
    "    plt.margins(0)\n",
    "    plt.show()"
   ]
  },
  {
   "cell_type": "markdown",
   "metadata": {},
   "source": [
    "## Summary\n",
    "\n",
    "You learned how to set up and use the IBM Decision Optimization CPLEX Modeling for Python to formulate a Constraint Programming model and solve it with IBM Decision Optimization on the cloud."
   ]
  },
  {
   "cell_type": "markdown",
   "metadata": {},
   "source": [
    "##  References\n",
    "* [CPLEX Modeling for Python documentation](https://rawgit.com/IBMDecisionOptimization/docplex-doc/master/docs/index.html)\n",
    "* [Decision Optimization on Cloud](https://developer.ibm.com/docloud/)\n",
    "* [Decision Optimization documentation](https://dataplatform.cloud.ibm.com/docs/content/DO/DOinDSX.html)\n",
    "* For help with DOcplex, or to report a defect, go [here](https://developer.ibm.com/answers/smartspace/docloud).\n",
    "* Contact us at dofeedback@wwpdl.vnet.ibm.com"
   ]
  },
  {
   "cell_type": "markdown",
   "metadata": {},
   "source": [
    "<div class=\"alert alert-block alert-info\"> Note: To save resources and get the best performance please use the code below to stop the kernel before exiting your notebook.</div>"
   ]
  },
  {
   "cell_type": "code",
   "execution_count": null,
   "metadata": {
    "collapsed": true
   },
   "outputs": [],
   "source": [
    "%%javascript\n",
    "Jupyter.notebook.session.delete();"
   ]
  },
  {
   "cell_type": "markdown",
   "metadata": {},
   "source": [
    "Copyright © 2017 IBM. IPLA licensed Sample Materials."
   ]
  }
 ],
 "metadata": {
  "celltoolbar": "Raw Cell Format",
  "kernelspec": {
   "display_name": "Python2 with Watson Studio Spark",
   "language": "python",
   "name": "python2"
  },
  "language_info": {
   "codemirror_mode": {
    "name": "ipython",
    "version": 2
   },
   "file_extension": ".py",
   "mimetype": "text/x-python",
   "name": "python",
   "nbconvert_exporter": "python",
   "pygments_lexer": "ipython2",
   "version": "2.7.13"
  }
 },
 "nbformat": 4,
 "nbformat_minor": 1
}
