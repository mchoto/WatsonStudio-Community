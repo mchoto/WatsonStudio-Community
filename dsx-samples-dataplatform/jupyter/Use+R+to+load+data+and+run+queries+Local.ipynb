{
 "cells": [
  {
   "cell_type": "markdown",
   "metadata": {
    "deletable": true,
    "editable": true
   },
   "source": [
    "# Use Spark for R to load data and run SQL queries\n",
    "This notebook introduces basic Spark concepts and helps you to start using Spark for R.\n",
    "\n",
    "Some familiarity with R is recommended.\n",
    "\n",
    "In this notebook, you'll use the publicly available **mtcars** data set from *Motor Trend* magazine to learn some basic R. You'll learn how to load data, create a Spark DataFrame, aggregate data, run mathematical formulas, and run SQL queries against the data."
   ]
  },
  {
   "cell_type": "markdown",
   "metadata": {
    "deletable": true,
    "editable": true
   },
   "source": [
    "## Table of contents\n",
    "This notebook contains these main sections:\n",
    "\n",
    "1. [Load a DataFrame](#Load_a_DataFrame)\n",
    "2. [Create a Spark DataFrame](#Create_a_Spark_DataFrame)\n",
    "3. [Aggregate data after grouping by columns](#Aggregate_data_after_grouping_by_columns)\n",
    "4. [Operate on columns](#Operate_on_columns)\n",
    "5. [Run SQL queries from the Spark DataFrame](#Run_SQL_queries_from_the_Spark_DataFrame)"
   ]
  },
  {
   "cell_type": "markdown",
   "metadata": {
    "deletable": true,
    "editable": true
   },
   "source": [
    "<a id='Load_a_DataFrame'></a>\n",
    "## 1. Load a DataFrame\n",
    "A DataFrame is a distributed collection of data that is organized into named columns. The built-in R DataFrame called **mtcars** includes observations on the following 11 variables:\n",
    "\n",
    "`[, 1]\tmpg     Miles / (US) gallon`  \n",
    "`[, 2]\tcyl     Number of cylinders`  \n",
    "`[, 3]\tdisp\tDisplacement (cu. in.)`  \n",
    "`[, 4]\thp      Gross horsepower`  \n",
    "`[, 5]\tdrat    Rear axle ratio`  \n",
    "`[, 6]\twt      Weight (1000 lbs)`  \n",
    "`[, 7]\tqsec    1/4 mile time (seconds)`  \n",
    "`[, 8]\tvs      0 = V-engine, 1 = straight engine`  \n",
    "`[, 9]\tam      Transmission (0 = automatic, 1 = manual)`  \n",
    "`[,10]\tgear    Number of forward gears`  \n",
    "`[,11]\tcarb    Number of carburetors`"
   ]
  },
  {
   "cell_type": "markdown",
   "metadata": {
    "deletable": true,
    "editable": true
   },
   "source": [
    "Preview the first 3 rows of the DataFrame by using the head() function:"
   ]
  },
  {
   "cell_type": "code",
   "execution_count": 1,
   "metadata": {
    "collapsed": false,
    "deletable": true,
    "editable": true
   },
   "outputs": [
    {
     "data": {
      "text/html": [
       "<table>\n",
       "<thead><tr><th></th><th scope=col>mpg</th><th scope=col>cyl</th><th scope=col>disp</th><th scope=col>hp</th><th scope=col>drat</th><th scope=col>wt</th><th scope=col>qsec</th><th scope=col>vs</th><th scope=col>am</th><th scope=col>gear</th><th scope=col>carb</th></tr></thead>\n",
       "<tbody>\n",
       "\t<tr><th scope=row>Mazda RX4</th><td>21.0 </td><td>6    </td><td>160  </td><td>110  </td><td>3.90 </td><td>2.620</td><td>16.46</td><td>0    </td><td>1    </td><td>4    </td><td>4    </td></tr>\n",
       "\t<tr><th scope=row>Mazda RX4 Wag</th><td>21.0 </td><td>6    </td><td>160  </td><td>110  </td><td>3.90 </td><td>2.875</td><td>17.02</td><td>0    </td><td>1    </td><td>4    </td><td>4    </td></tr>\n",
       "\t<tr><th scope=row>Datsun 710</th><td>22.8 </td><td>4    </td><td>108  </td><td> 93  </td><td>3.85 </td><td>2.320</td><td>18.61</td><td>1    </td><td>1    </td><td>4    </td><td>1    </td></tr>\n",
       "</tbody>\n",
       "</table>\n"
      ],
      "text/latex": [
       "\\begin{tabular}{r|lllllllllll}\n",
       "  & mpg & cyl & disp & hp & drat & wt & qsec & vs & am & gear & carb\\\\\n",
       "\\hline\n",
       "\tMazda RX4 & 21.0  & 6     & 160   & 110   & 3.90  & 2.620 & 16.46 & 0     & 1     & 4     & 4    \\\\\n",
       "\tMazda RX4 Wag & 21.0  & 6     & 160   & 110   & 3.90  & 2.875 & 17.02 & 0     & 1     & 4     & 4    \\\\\n",
       "\tDatsun 710 & 22.8  & 4     & 108   &  93   & 3.85  & 2.320 & 18.61 & 1     & 1     & 4     & 1    \\\\\n",
       "\\end{tabular}\n"
      ],
      "text/markdown": [
       "\n",
       "| <!--/--> | mpg | cyl | disp | hp | drat | wt | qsec | vs | am | gear | carb | \n",
       "|---|---|---|\n",
       "| Mazda RX4 | 21.0  | 6     | 160   | 110   | 3.90  | 2.620 | 16.46 | 0     | 1     | 4     | 4     | \n",
       "| Mazda RX4 Wag | 21.0  | 6     | 160   | 110   | 3.90  | 2.875 | 17.02 | 0     | 1     | 4     | 4     | \n",
       "| Datsun 710 | 22.8  | 4     | 108   |  93   | 3.85  | 2.320 | 18.61 | 1     | 1     | 4     | 1     | \n",
       "\n",
       "\n"
      ],
      "text/plain": [
       "              mpg  cyl disp hp  drat wt    qsec  vs am gear carb\n",
       "Mazda RX4     21.0 6   160  110 3.90 2.620 16.46 0  1  4    4   \n",
       "Mazda RX4 Wag 21.0 6   160  110 3.90 2.875 17.02 0  1  4    4   \n",
       "Datsun 710    22.8 4   108   93 3.85 2.320 18.61 1  1  4    1   "
      ]
     },
     "metadata": {},
     "output_type": "display_data"
    }
   ],
   "source": [
    "head(mtcars, 3)"
   ]
  },
  {
   "cell_type": "markdown",
   "metadata": {
    "deletable": true,
    "editable": true
   },
   "source": [
    "Convert the car name data, which appears in the row names, into an actual column so that Spark can read it as a column:"
   ]
  },
  {
   "cell_type": "code",
   "execution_count": 2,
   "metadata": {
    "collapsed": false,
    "deletable": true,
    "editable": true
   },
   "outputs": [
    {
     "data": {
      "text/html": [
       "<table>\n",
       "<thead><tr><th scope=col>car</th><th scope=col>mpg</th><th scope=col>cyl</th><th scope=col>disp</th><th scope=col>hp</th><th scope=col>drat</th><th scope=col>wt</th><th scope=col>qsec</th><th scope=col>vs</th><th scope=col>am</th><th scope=col>gear</th><th scope=col>carb</th></tr></thead>\n",
       "<tbody>\n",
       "\t<tr><td>Mazda RX4        </td><td>21.0             </td><td>6                </td><td>160              </td><td>110              </td><td>3.90             </td><td>2.620            </td><td>16.46            </td><td>0                </td><td>1                </td><td>4                </td><td>4                </td></tr>\n",
       "\t<tr><td>Mazda RX4 Wag    </td><td>21.0             </td><td>6                </td><td>160              </td><td>110              </td><td>3.90             </td><td>2.875            </td><td>17.02            </td><td>0                </td><td>1                </td><td>4                </td><td>4                </td></tr>\n",
       "\t<tr><td>Datsun 710       </td><td>22.8             </td><td>4                </td><td>108              </td><td> 93              </td><td>3.85             </td><td>2.320            </td><td>18.61            </td><td>1                </td><td>1                </td><td>4                </td><td>1                </td></tr>\n",
       "\t<tr><td>Hornet 4 Drive   </td><td>21.4             </td><td>6                </td><td>258              </td><td>110              </td><td>3.08             </td><td>3.215            </td><td>19.44            </td><td>1                </td><td>0                </td><td>3                </td><td>1                </td></tr>\n",
       "\t<tr><td>Hornet Sportabout</td><td>18.7             </td><td>8                </td><td>360              </td><td>175              </td><td>3.15             </td><td>3.440            </td><td>17.02            </td><td>0                </td><td>0                </td><td>3                </td><td>2                </td></tr>\n",
       "\t<tr><td>Valiant          </td><td>18.1             </td><td>6                </td><td>225              </td><td>105              </td><td>2.76             </td><td>3.460            </td><td>20.22            </td><td>1                </td><td>0                </td><td>3                </td><td>1                </td></tr>\n",
       "</tbody>\n",
       "</table>\n"
      ],
      "text/latex": [
       "\\begin{tabular}{r|llllllllllll}\n",
       " car & mpg & cyl & disp & hp & drat & wt & qsec & vs & am & gear & carb\\\\\n",
       "\\hline\n",
       "\t Mazda RX4         & 21.0              & 6                 & 160               & 110               & 3.90              & 2.620             & 16.46             & 0                 & 1                 & 4                 & 4                \\\\\n",
       "\t Mazda RX4 Wag     & 21.0              & 6                 & 160               & 110               & 3.90              & 2.875             & 17.02             & 0                 & 1                 & 4                 & 4                \\\\\n",
       "\t Datsun 710        & 22.8              & 4                 & 108               &  93               & 3.85              & 2.320             & 18.61             & 1                 & 1                 & 4                 & 1                \\\\\n",
       "\t Hornet 4 Drive    & 21.4              & 6                 & 258               & 110               & 3.08              & 3.215             & 19.44             & 1                 & 0                 & 3                 & 1                \\\\\n",
       "\t Hornet Sportabout & 18.7              & 8                 & 360               & 175               & 3.15              & 3.440             & 17.02             & 0                 & 0                 & 3                 & 2                \\\\\n",
       "\t Valiant           & 18.1              & 6                 & 225               & 105               & 2.76              & 3.460             & 20.22             & 1                 & 0                 & 3                 & 1                \\\\\n",
       "\\end{tabular}\n"
      ],
      "text/markdown": [
       "\n",
       "car | mpg | cyl | disp | hp | drat | wt | qsec | vs | am | gear | carb | \n",
       "|---|---|---|---|---|---|\n",
       "| Mazda RX4         | 21.0              | 6                 | 160               | 110               | 3.90              | 2.620             | 16.46             | 0                 | 1                 | 4                 | 4                 | \n",
       "| Mazda RX4 Wag     | 21.0              | 6                 | 160               | 110               | 3.90              | 2.875             | 17.02             | 0                 | 1                 | 4                 | 4                 | \n",
       "| Datsun 710        | 22.8              | 4                 | 108               |  93               | 3.85              | 2.320             | 18.61             | 1                 | 1                 | 4                 | 1                 | \n",
       "| Hornet 4 Drive    | 21.4              | 6                 | 258               | 110               | 3.08              | 3.215             | 19.44             | 1                 | 0                 | 3                 | 1                 | \n",
       "| Hornet Sportabout | 18.7              | 8                 | 360               | 175               | 3.15              | 3.440             | 17.02             | 0                 | 0                 | 3                 | 2                 | \n",
       "| Valiant           | 18.1              | 6                 | 225               | 105               | 2.76              | 3.460             | 20.22             | 1                 | 0                 | 3                 | 1                 | \n",
       "\n",
       "\n"
      ],
      "text/plain": [
       "  car               mpg  cyl disp hp  drat wt    qsec  vs am gear carb\n",
       "1 Mazda RX4         21.0 6   160  110 3.90 2.620 16.46 0  1  4    4   \n",
       "2 Mazda RX4 Wag     21.0 6   160  110 3.90 2.875 17.02 0  1  4    4   \n",
       "3 Datsun 710        22.8 4   108   93 3.85 2.320 18.61 1  1  4    1   \n",
       "4 Hornet 4 Drive    21.4 6   258  110 3.08 3.215 19.44 1  0  3    1   \n",
       "5 Hornet Sportabout 18.7 8   360  175 3.15 3.440 17.02 0  0  3    2   \n",
       "6 Valiant           18.1 6   225  105 2.76 3.460 20.22 1  0  3    1   "
      ]
     },
     "metadata": {},
     "output_type": "display_data"
    }
   ],
   "source": [
    "mtcars$car <- rownames(mtcars)\n",
    "mtcars <- mtcars[,c(12,1:11)]\n",
    "rownames(mtcars) <- 1:nrow(mtcars)\n",
    "head(mtcars)"
   ]
  },
  {
   "cell_type": "markdown",
   "metadata": {
    "deletable": true,
    "editable": true
   },
   "source": [
    "<a id='Create_a_Spark_DataFrame'></a>\n",
    "## 2. Create a Spark DataFrame\n",
    "Using the loaded local DataFrame, create a Spark DataFrame and print the schema, or structure, of the DataFrame:"
   ]
  },
  {
   "cell_type": "code",
   "execution_count": 3,
   "metadata": {
    "collapsed": false
   },
   "outputs": [],
   "source": [
    "library(sparklyr)\n",
    "sc <- spark_connect(master = \"spark://spark-master-svc:7077\")"
   ]
  },
  {
   "cell_type": "code",
   "execution_count": 4,
   "metadata": {
    "collapsed": false
   },
   "outputs": [],
   "source": [
    "sdf <- sdf_copy_to(sc, mtcars, \"cars\", overwrite = T)"
   ]
  },
  {
   "cell_type": "code",
   "execution_count": 6,
   "metadata": {
    "collapsed": false
   },
   "outputs": [
    {
     "data": {
      "text/html": [
       "<table>\n",
       "<thead><tr><th scope=col>name</th><th scope=col>type</th></tr></thead>\n",
       "<tbody>\n",
       "\t<tr><td>car       </td><td>StringType</td></tr>\n",
       "\t<tr><td>mpg       </td><td>DoubleType</td></tr>\n",
       "\t<tr><td>cyl       </td><td>DoubleType</td></tr>\n",
       "\t<tr><td>disp      </td><td>DoubleType</td></tr>\n",
       "\t<tr><td>hp        </td><td>DoubleType</td></tr>\n",
       "\t<tr><td>drat      </td><td>DoubleType</td></tr>\n",
       "\t<tr><td>wt        </td><td>DoubleType</td></tr>\n",
       "\t<tr><td>qsec      </td><td>DoubleType</td></tr>\n",
       "\t<tr><td>vs        </td><td>DoubleType</td></tr>\n",
       "\t<tr><td>am        </td><td>DoubleType</td></tr>\n",
       "\t<tr><td>gear      </td><td>DoubleType</td></tr>\n",
       "\t<tr><td>carb      </td><td>DoubleType</td></tr>\n",
       "</tbody>\n",
       "</table>\n"
      ],
      "text/latex": [
       "\\begin{tabular}{r|ll}\n",
       " name & type\\\\\n",
       "\\hline\n",
       "\t car        & StringType\\\\\n",
       "\t mpg        & DoubleType\\\\\n",
       "\t cyl        & DoubleType\\\\\n",
       "\t disp       & DoubleType\\\\\n",
       "\t hp         & DoubleType\\\\\n",
       "\t drat       & DoubleType\\\\\n",
       "\t wt         & DoubleType\\\\\n",
       "\t qsec       & DoubleType\\\\\n",
       "\t vs         & DoubleType\\\\\n",
       "\t am         & DoubleType\\\\\n",
       "\t gear       & DoubleType\\\\\n",
       "\t carb       & DoubleType\\\\\n",
       "\\end{tabular}\n"
      ],
      "text/markdown": [
       "\n",
       "name | type | \n",
       "|---|---|---|---|---|---|---|---|---|---|---|---|\n",
       "| car        | StringType | \n",
       "| mpg        | DoubleType | \n",
       "| cyl        | DoubleType | \n",
       "| disp       | DoubleType | \n",
       "| hp         | DoubleType | \n",
       "| drat       | DoubleType | \n",
       "| wt         | DoubleType | \n",
       "| qsec       | DoubleType | \n",
       "| vs         | DoubleType | \n",
       "| am         | DoubleType | \n",
       "| gear       | DoubleType | \n",
       "| carb       | DoubleType | \n",
       "\n",
       "\n"
      ],
      "text/plain": [
       "   name type      \n",
       "1  car  StringType\n",
       "2  mpg  DoubleType\n",
       "3  cyl  DoubleType\n",
       "4  disp DoubleType\n",
       "5  hp   DoubleType\n",
       "6  drat DoubleType\n",
       "7  wt   DoubleType\n",
       "8  qsec DoubleType\n",
       "9  vs   DoubleType\n",
       "10 am   DoubleType\n",
       "11 gear DoubleType\n",
       "12 carb DoubleType"
      ]
     },
     "metadata": {},
     "output_type": "display_data"
    }
   ],
   "source": [
    "library(data.table)\n",
    "library(dplyr)\n",
    "\n",
    "rbindlist(sdf_schema(sdf))"
   ]
  },
  {
   "cell_type": "markdown",
   "metadata": {
    "deletable": true,
    "editable": true
   },
   "source": [
    "Display the content of the Spark DataFrame:"
   ]
  },
  {
   "cell_type": "code",
   "execution_count": 7,
   "metadata": {
    "collapsed": false,
    "deletable": true,
    "editable": true,
    "scrolled": true
   },
   "outputs": [
    {
     "data": {
      "text/plain": [
       "# Source:   lazy query [?? x 12]\n",
       "# Database: spark_connection\n",
       "  car           mpg   cyl  disp    hp  drat    wt  qsec    vs    am  gear  carb\n",
       "  <chr>       <dbl> <dbl> <dbl> <dbl> <dbl> <dbl> <dbl> <dbl> <dbl> <dbl> <dbl>\n",
       "1 Mazda RX4    21.0    6.  160.  110.  3.90  2.62  16.5    0.    1.    4.    4.\n",
       "2 Mazda RX4 …  21.0    6.  160.  110.  3.90  2.88  17.0    0.    1.    4.    4.\n",
       "3 Datsun 710   22.8    4.  108.   93.  3.85  2.32  18.6    1.    1.    4.    1.\n",
       "4 Hornet 4 D…  21.4    6.  258.  110.  3.08  3.22  19.4    1.    0.    3.    1.\n",
       "5 Hornet Spo…  18.7    8.  360.  175.  3.15  3.44  17.0    0.    0.    3.    2.\n",
       "6 Valiant      18.1    6.  225.  105.  2.76  3.46  20.2    1.    0.    3.    1."
      ]
     },
     "metadata": {},
     "output_type": "display_data"
    }
   ],
   "source": [
    "head(sdf)"
   ]
  },
  {
   "cell_type": "markdown",
   "metadata": {
    "deletable": true,
    "editable": true
   },
   "source": [
    "Try different ways of retrieving subsets of the data. For example, get the first 5 values in the **mpg** column:"
   ]
  },
  {
   "cell_type": "code",
   "execution_count": 8,
   "metadata": {
    "collapsed": false,
    "deletable": true,
    "editable": true,
    "scrolled": true
   },
   "outputs": [
    {
     "data": {
      "text/plain": [
       "# Source:   lazy query [?? x 1]\n",
       "# Database: spark_connection\n",
       "    mpg\n",
       "  <dbl>\n",
       "1  21.0\n",
       "2  21.0\n",
       "3  22.8\n",
       "4  21.4\n",
       "5  18.7"
      ]
     },
     "metadata": {},
     "output_type": "display_data"
    }
   ],
   "source": [
    "head(select(sdf, mpg),5)"
   ]
  },
  {
   "cell_type": "markdown",
   "metadata": {
    "deletable": true,
    "editable": true
   },
   "source": [
    "Filter the DataFrame to retain only rows with **mpg** values that are less than 18:"
   ]
  },
  {
   "cell_type": "code",
   "execution_count": 9,
   "metadata": {
    "collapsed": false,
    "deletable": true,
    "editable": true
   },
   "outputs": [
    {
     "data": {
      "text/plain": [
       "# Source:   lazy query [?? x 12]\n",
       "# Database: spark_connection\n",
       "  car           mpg   cyl  disp    hp  drat    wt  qsec    vs    am  gear  carb\n",
       "  <chr>       <dbl> <dbl> <dbl> <dbl> <dbl> <dbl> <dbl> <dbl> <dbl> <dbl> <dbl>\n",
       "1 Duster 360   14.3    8.  360.  245.  3.21  3.57  15.8    0.    0.    3.    4.\n",
       "2 Merc 280C    17.8    6.  168.  123.  3.92  3.44  18.9    1.    0.    4.    4.\n",
       "3 Merc 450SE   16.4    8.  276.  180.  3.07  4.07  17.4    0.    0.    3.    3.\n",
       "4 Merc 450SL   17.3    8.  276.  180.  3.07  3.73  17.6    0.    0.    3.    3.\n",
       "5 Merc 450SLC  15.2    8.  276.  180.  3.07  3.78  18.0    0.    0.    3.    3.\n",
       "6 Cadillac F…  10.4    8.  472.  205.  2.93  5.25  18.0    0.    0.    3.    4."
      ]
     },
     "metadata": {},
     "output_type": "display_data"
    }
   ],
   "source": [
    "head(filter(sdf, mpg < 18))"
   ]
  },
  {
   "cell_type": "markdown",
   "metadata": {
    "deletable": true,
    "editable": true
   },
   "source": [
    "<a id='Aggregate_data_after_grouping_by_columns'></a>\n",
    "## 3. Aggregate data after grouping by columns\n",
    "Spark DataFrames support a number of common functions to aggregate data after grouping. For example, you can compute the average weight of cars as a function of the number of cylinders:"
   ]
  },
  {
   "cell_type": "code",
   "execution_count": 10,
   "metadata": {
    "collapsed": false,
    "deletable": true,
    "editable": true
   },
   "outputs": [
    {
     "data": {
      "text/plain": [
       "# Source:   lazy query [?? x 2]\n",
       "# Database: spark_connection\n",
       "    cyl wtavg\n",
       "  <dbl> <dbl>\n",
       "1    8.  4.00\n",
       "2    4.  2.29\n",
       "3    6.  3.12"
      ]
     },
     "metadata": {},
     "output_type": "display_data"
    }
   ],
   "source": [
    "head(summarize(group_by(sdf, cyl), wtavg = avg(wt)))"
   ]
  },
  {
   "cell_type": "markdown",
   "metadata": {
    "deletable": true,
    "editable": true
   },
   "source": [
    "You can also sort the output from the aggregation to determine the most popular cylinder configuration in the DataFrame:"
   ]
  },
  {
   "cell_type": "code",
   "execution_count": 11,
   "metadata": {
    "collapsed": true
   },
   "outputs": [],
   "source": [
    "car_counts <-summarize(group_by(sdf, cyl), count = n())"
   ]
  },
  {
   "cell_type": "code",
   "execution_count": 12,
   "metadata": {
    "collapsed": false,
    "deletable": true,
    "editable": true
   },
   "outputs": [
    {
     "data": {
      "text/plain": [
       "# Source:     lazy query [?? x 2]\n",
       "# Database:   spark_connection\n",
       "# Ordered by: desc(count)\n",
       "    cyl count\n",
       "  <dbl> <dbl>\n",
       "1    8.   14.\n",
       "2    4.   11.\n",
       "3    6.    7."
      ]
     },
     "metadata": {},
     "output_type": "display_data"
    }
   ],
   "source": [
    "head(arrange(car_counts, desc(count)))"
   ]
  },
  {
   "cell_type": "markdown",
   "metadata": {
    "deletable": true,
    "editable": true
   },
   "source": [
    "<a id='Operate_on_columns'></a>\n",
    "## 4. Operate on columns\n",
    "SparklyR provides a number of functions that you can apply directly to columns for data processing. In the following example, a basic arithmetic function converts lbs to metric tons:"
   ]
  },
  {
   "cell_type": "code",
   "execution_count": 13,
   "metadata": {
    "collapsed": false
   },
   "outputs": [],
   "source": [
    "sdf <- mutate(sdf, wtTon = wt * 60)"
   ]
  },
  {
   "cell_type": "code",
   "execution_count": 14,
   "metadata": {
    "collapsed": false,
    "deletable": true,
    "editable": true
   },
   "outputs": [
    {
     "data": {
      "text/plain": [
       "# Source:   lazy query [?? x 3]\n",
       "# Database: spark_connection\n",
       "  car                  wt wtTon\n",
       "  <chr>             <dbl> <dbl>\n",
       "1 Mazda RX4          2.62  157.\n",
       "2 Mazda RX4 Wag      2.88  172.\n",
       "3 Datsun 710         2.32  139.\n",
       "4 Hornet 4 Drive     3.22  193.\n",
       "5 Hornet Sportabout  3.44  206.\n",
       "6 Valiant            3.46  208."
      ]
     },
     "metadata": {},
     "output_type": "display_data"
    }
   ],
   "source": [
    "head(select(sdf, car, wt, wtTon),6)"
   ]
  },
  {
   "cell_type": "markdown",
   "metadata": {
    "deletable": true,
    "editable": true
   },
   "source": [
    "<a id='Run_SQL_queries_from_the_Spark_DataFrame'></a>\n",
    "## 5. Run SQL queries from the Spark DataFrame\n",
    "You can register a Spark DataFrame as a temporary table and then run SQL queries over the data. The `sql` function enables an application to run SQL queries programmatically and returns the result as a DataFrame:"
   ]
  },
  {
   "cell_type": "code",
   "execution_count": 15,
   "metadata": {
    "collapsed": false,
    "deletable": true,
    "editable": true
   },
   "outputs": [
    {
     "data": {
      "text/html": [
       "<table>\n",
       "<thead><tr><th scope=col>car</th><th scope=col>gear</th></tr></thead>\n",
       "<tbody>\n",
       "\t<tr><td>Porsche 914-2 </td><td>5             </td></tr>\n",
       "\t<tr><td>Lotus Europa  </td><td>5             </td></tr>\n",
       "\t<tr><td>Ford Pantera L</td><td>5             </td></tr>\n",
       "\t<tr><td>Ferrari Dino  </td><td>5             </td></tr>\n",
       "\t<tr><td>Maserati Bora </td><td>5             </td></tr>\n",
       "</tbody>\n",
       "</table>\n"
      ],
      "text/latex": [
       "\\begin{tabular}{r|ll}\n",
       " car & gear\\\\\n",
       "\\hline\n",
       "\t Porsche 914-2  & 5             \\\\\n",
       "\t Lotus Europa   & 5             \\\\\n",
       "\t Ford Pantera L & 5             \\\\\n",
       "\t Ferrari Dino   & 5             \\\\\n",
       "\t Maserati Bora  & 5             \\\\\n",
       "\\end{tabular}\n"
      ],
      "text/markdown": [
       "\n",
       "car | gear | \n",
       "|---|---|---|---|---|\n",
       "| Porsche 914-2  | 5              | \n",
       "| Lotus Europa   | 5              | \n",
       "| Ford Pantera L | 5              | \n",
       "| Ferrari Dino   | 5              | \n",
       "| Maserati Bora  | 5              | \n",
       "\n",
       "\n"
      ],
      "text/plain": [
       "  car            gear\n",
       "1 Porsche 914-2  5   \n",
       "2 Lotus Europa   5   \n",
       "3 Ford Pantera L 5   \n",
       "4 Ferrari Dino   5   \n",
       "5 Maserati Bora  5   "
      ]
     },
     "metadata": {},
     "output_type": "display_data"
    }
   ],
   "source": [
    "library(DBI)\n",
    "highgearcars <- dbGetQuery(sc, \"SELECT car, gear FROM cars WHERE gear >= 5\")\n",
    "head(highgearcars)"
   ]
  },
  {
   "cell_type": "markdown",
   "metadata": {
    "deletable": true,
    "editable": true
   },
   "source": [
    "## That's it!\n",
    "You successfully completed this notebook! You learned how to load a DataFrame, view and filter the data, aggregate the data, perform operations on the data in specific columns, and run SQL queries against the data. For more information about Spark, see the [Spark Quick Start Guide](http://spark.apache.org/docs/latest/quick-start.html)."
   ]
  },
  {
   "cell_type": "markdown",
   "metadata": {
    "deletable": true,
    "editable": true
   },
   "source": [
    "<hr>\n",
    "Copyright &copy; IBM Corp. 2017. Released as licensed Sample Materials."
   ]
  }
 ],
 "metadata": {
  "kernelspec": {
   "display_name": "R 3.4.3 with Watson Studio Spark 2.0.2",
   "language": "R",
   "name": "ir"
  },
  "language_info": {
   "codemirror_mode": "r",
   "file_extension": ".r",
   "mimetype": "text/x-r-source",
   "name": "R",
   "pygments_lexer": "r",
   "version": "3.4.3"
  }
 },
 "nbformat": 4,
 "nbformat_minor": 0
}
