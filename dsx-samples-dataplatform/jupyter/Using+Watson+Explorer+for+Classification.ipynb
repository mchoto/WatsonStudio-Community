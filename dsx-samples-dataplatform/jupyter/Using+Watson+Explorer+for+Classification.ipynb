{
 "cells": [
  {
   "cell_type": "markdown",
   "metadata": {
    "deletable": true,
    "editable": true
   },
   "source": [
    "# Using Watson Explorer for Text Analytics and Document Classification"
   ]
  },
  {
   "cell_type": "markdown",
   "metadata": {
    "deletable": true,
    "editable": true
   },
   "source": [
    "In this notebook, we are using customer reports about the products of a food retail company. Each report needs to be transferred to an appropriate department in the company. \n",
    "This notebook requires Watson Explorer add-on package installed on the cluster to execute.\n",
    "We are using Watson Explorer to extract the features from the text data in the reports. The features are used with other structured data in the reports by Watson Studio Machine Learning Service to classify the reports. Based on the classification, each report can be transferred to an appropriate department.\n",
    "\n",
    "To extract features by Watson Explorer, we need to create a Watson Explorer collection."
   ]
  },
  {
   "cell_type": "markdown",
   "metadata": {
    "deletable": true,
    "editable": true
   },
   "source": [
    "## Table of Contents\n",
    "- [Prepare emvironment](#Prepare_environment)\n",
    "- [List Watson Explorer Collections](#List-Watson-Explorer-Collections)\n",
    "- [Setup data](#Setup_data)\n",
    "- [Classification](#Classification)\n",
    "- [Evaluate](#Evaluate)\n",
    "- [Save model](#Save_model)\n",
    "- [Summary](#Summary)"
   ]
  },
  {
   "cell_type": "markdown",
   "metadata": {
    "deletable": true,
    "editable": true
   },
   "source": [
    "<a id='Prepare_environment'></a>\n",
    "## Prepare environment\n",
    "Import libraries for Watson Explorer and machine learning."
   ]
  },
  {
   "cell_type": "code",
   "execution_count": 1,
   "metadata": {
    "collapsed": false,
    "deletable": true,
    "editable": true
   },
   "outputs": [],
   "source": [
    "from ibmwex.ml import FeatureExtractor, OutputColumn, CollectionBrowser"
   ]
  },
  {
   "cell_type": "code",
   "execution_count": 2,
   "metadata": {
    "collapsed": true,
    "deletable": true,
    "editable": true
   },
   "outputs": [],
   "source": [
    "from pyspark.ml import Pipeline\n",
    "from pyspark.sql import SparkSession, SQLContext\n",
    "from pyspark.ml.feature import StringIndexer, IndexToString, OneHotEncoder, VectorAssembler\n",
    "from pyspark.ml.classification import NaiveBayes\n",
    "from pyspark.ml.evaluation import MulticlassClassificationEvaluator"
   ]
  },
  {
   "cell_type": "markdown",
   "metadata": {
    "deletable": true,
    "editable": true
   },
   "source": [
    "<a id='List-Watson-Explorer-Collections'></a>\n",
    "## List Watson Explorer Collections\n",
    "\n",
    "Show all Watson Explorer collections to choose a collection for feature extraction."
   ]
  },
  {
   "cell_type": "code",
   "execution_count": 3,
   "metadata": {
    "collapsed": false,
    "deletable": true,
    "editable": true
   },
   "outputs": [
    {
     "name": "stdout",
     "output_type": "stream",
     "text": [
      "cb29ea70-7665-4e14-0000-016467fcc487\n"
     ]
    }
   ],
   "source": [
    "browser = CollectionBrowser()\n",
    "collections = browser.list()\n",
    "for collection in collections:\n",
    "    print(collection)"
   ]
  },
  {
   "cell_type": "markdown",
   "metadata": {
    "deletable": true,
    "editable": true
   },
   "source": [
    "List the available feature path and the number of features for the collection."
   ]
  },
  {
   "cell_type": "code",
   "execution_count": 4,
   "metadata": {
    "collapsed": false,
    "deletable": true,
    "editable": true
   },
   "outputs": [
    {
     "name": "stdout",
     "output_type": "stream",
     "text": [
      "._phrase [420]\n",
      "._phrase.noun_phrase [330]\n",
      "._phrase.noun_phrase.adp_noun [158]\n",
      "._phrase.noun_phrase.mod_noun [92]\n",
      "._phrase.noun_phrase.nouns [82]\n",
      "._phrase.pred_phrase [90]\n",
      "._phrase.pred_phrase.noun_pred [41]\n",
      "._phrase.pred_phrase.verb_noun [49]\n",
      "._word [322]\n",
      "._word.adj [68]\n",
      "._word.adv [43]\n",
      "._word.conj [3]\n",
      "._word.intj [2]\n",
      "._word.noun [164]\n",
      "._word.noun.general [148]\n",
      "._word.noun.others [26]\n",
      "._word.num [17]\n",
      "._word.verb [64]\n"
     ]
    }
   ],
   "source": [
    "termFreqMap = browser.getTermFreqMap('cb29ea70-7665-4e14-0000-016467fcc487')\n",
    "for k,v in termFreqMap.items():\n",
    "    print('{0} [{1}]'.format(k, v.size()))"
   ]
  },
  {
   "cell_type": "markdown",
   "metadata": {
    "deletable": true,
    "editable": true
   },
   "source": [
    "<a id='Setup_data'></a>\n",
    "## Setup data\n",
    "Load the data from csv file and create a DataFrame\n",
    "\n",
    "This data has customer reports that have structured data ('claim_product_line' and 'claim_product') and unstructured data ('body'). 'label' column can be used for training to classify the reports. \n",
    "\n",
    "The file is already part of the Tutorial project. We can read the csv and create a DataFrame."
   ]
  },
  {
   "cell_type": "code",
   "execution_count": 5,
   "metadata": {
    "collapsed": false,
    "deletable": true,
    "editable": true
   },
   "outputs": [
    {
     "data": {
      "text/html": [
       "<div>\n",
       "<style>\n",
       "    .dataframe thead tr:only-child th {\n",
       "        text-align: right;\n",
       "    }\n",
       "\n",
       "    .dataframe thead th {\n",
       "        text-align: left;\n",
       "    }\n",
       "\n",
       "    .dataframe tbody tr th {\n",
       "        vertical-align: top;\n",
       "    }\n",
       "</style>\n",
       "<table border=\"1\" class=\"dataframe\">\n",
       "  <thead>\n",
       "    <tr style=\"text-align: right;\">\n",
       "      <th></th>\n",
       "      <th>claim_id</th>\n",
       "      <th>date</th>\n",
       "      <th>claim_product_line</th>\n",
       "      <th>claim_product</th>\n",
       "      <th>client_segment</th>\n",
       "      <th>client_location</th>\n",
       "      <th>client_sex</th>\n",
       "      <th>client_age</th>\n",
       "      <th>body</th>\n",
       "      <th>label</th>\n",
       "    </tr>\n",
       "  </thead>\n",
       "  <tbody>\n",
       "    <tr>\n",
       "      <th>0</th>\n",
       "      <td>0</td>\n",
       "      <td>2016/1/1</td>\n",
       "      <td>Tea</td>\n",
       "      <td>lemon tea</td>\n",
       "      <td>Not Member</td>\n",
       "      <td>Manhattan</td>\n",
       "      <td>Male</td>\n",
       "      <td>20</td>\n",
       "      <td>The straw was peeled off from the juice pack.</td>\n",
       "      <td>package_container</td>\n",
       "    </tr>\n",
       "    <tr>\n",
       "      <th>1</th>\n",
       "      <td>1</td>\n",
       "      <td>2016/1/2</td>\n",
       "      <td>Ice cream</td>\n",
       "      <td>vanilla ice cream</td>\n",
       "      <td>Silver Card Member</td>\n",
       "      <td>Queens</td>\n",
       "      <td>Female</td>\n",
       "      <td>20</td>\n",
       "      <td>I got some ice cream for my children, but ther...</td>\n",
       "      <td>contamination_tampering</td>\n",
       "    </tr>\n",
       "    <tr>\n",
       "      <th>2</th>\n",
       "      <td>2</td>\n",
       "      <td>2016/1/2</td>\n",
       "      <td>Jelly</td>\n",
       "      <td>apple jelly</td>\n",
       "      <td>Silver Card Member</td>\n",
       "      <td>Brooklyn</td>\n",
       "      <td>Male</td>\n",
       "      <td>40</td>\n",
       "      <td>I could only find 11 cups in the 12-pack.</td>\n",
       "      <td>amount.shortage</td>\n",
       "    </tr>\n",
       "    <tr>\n",
       "      <th>3</th>\n",
       "      <td>3</td>\n",
       "      <td>2016/1/2</td>\n",
       "      <td>Juice</td>\n",
       "      <td>orange juice</td>\n",
       "      <td>Silver Card Member</td>\n",
       "      <td>Bronx</td>\n",
       "      <td>Female</td>\n",
       "      <td>50</td>\n",
       "      <td>There was a stain on the package that seemed t...</td>\n",
       "      <td>package_container.leak</td>\n",
       "    </tr>\n",
       "    <tr>\n",
       "      <th>4</th>\n",
       "      <td>4</td>\n",
       "      <td>2016/1/3</td>\n",
       "      <td>Chocolate</td>\n",
       "      <td>milk chocolate</td>\n",
       "      <td>Silver Card Member</td>\n",
       "      <td>Manhattan</td>\n",
       "      <td>Male</td>\n",
       "      <td>30</td>\n",
       "      <td>I love the ads for the new milk chocolate. Cou...</td>\n",
       "      <td>ads</td>\n",
       "    </tr>\n",
       "  </tbody>\n",
       "</table>\n",
       "</div>"
      ],
      "text/plain": [
       "   claim_id      date claim_product_line      claim_product  \\\n",
       "0         0  2016/1/1                Tea          lemon tea   \n",
       "1         1  2016/1/2          Ice cream  vanilla ice cream   \n",
       "2         2  2016/1/2              Jelly        apple jelly   \n",
       "3         3  2016/1/2              Juice       orange juice   \n",
       "4         4  2016/1/3          Chocolate     milk chocolate   \n",
       "\n",
       "       client_segment client_location client_sex client_age  \\\n",
       "0          Not Member       Manhattan       Male         20   \n",
       "1  Silver Card Member          Queens     Female         20   \n",
       "2  Silver Card Member        Brooklyn       Male         40   \n",
       "3  Silver Card Member           Bronx     Female         50   \n",
       "4  Silver Card Member       Manhattan       Male         30   \n",
       "\n",
       "                                                body                    label  \n",
       "0      The straw was peeled off from the juice pack.        package_container  \n",
       "1  I got some ice cream for my children, but ther...  contamination_tampering  \n",
       "2          I could only find 11 cups in the 12-pack.          amount.shortage  \n",
       "3  There was a stain on the package that seemed t...   package_container.leak  \n",
       "4  I love the ads for the new milk chocolate. Cou...                      ads  "
      ]
     },
     "execution_count": 5,
     "metadata": {},
     "output_type": "execute_result"
    }
   ],
   "source": [
    "import os\n",
    "# Add asset from file system\n",
    "rows = SQLContext(sc).read.csv('../datasets/watson_explorer_sample_voc.csv', header='true', inferSchema = 'true')\n",
    "rows.toPandas()[0:5]"
   ]
  },
  {
   "cell_type": "markdown",
   "metadata": {
    "deletable": true,
    "editable": true
   },
   "source": [
    "In the model training process, the original dataset will be split into training dataset and testing dataset."
   ]
  },
  {
   "cell_type": "code",
   "execution_count": 6,
   "metadata": {
    "collapsed": false,
    "deletable": true,
    "editable": true
   },
   "outputs": [],
   "source": [
    "train, test = rows.randomSplit([0.8, 0.2], 12345)"
   ]
  },
  {
   "cell_type": "markdown",
   "metadata": {
    "deletable": true,
    "editable": true
   },
   "source": [
    "Transform 'body' column into 'words' and 'phrases' columns using the features ('.\\_word' and '.\\_phrase') in the collection. "
   ]
  },
  {
   "cell_type": "code",
   "execution_count": 7,
   "metadata": {
    "collapsed": false,
    "deletable": true,
    "editable": true
   },
   "outputs": [],
   "source": [
    "wordCol = OutputColumn(\"words\", \"._word\")\n",
    "phraseCol = OutputColumn(\"phrases\", \"._phrase\")\n",
    "extractor = FeatureExtractor() \\\n",
    "    .setCollectionId('cb29ea70-7665-4e14-0000-016467fcc487') \\\n",
    "    .setInputCol(\"body\") \\\n",
    "    .setOutputCols([wordCol, phraseCol])"
   ]
  },
  {
   "cell_type": "markdown",
   "metadata": {
    "deletable": true,
    "editable": true
   },
   "source": [
    "Transform 'claim_product' and 'claim_product_line' to binary vectors."
   ]
  },
  {
   "cell_type": "code",
   "execution_count": 8,
   "metadata": {
    "collapsed": true,
    "deletable": true,
    "editable": true
   },
   "outputs": [],
   "source": [
    "productIndexer = StringIndexer(inputCol=\"claim_product\", outputCol=\"claim_product_index\")\n",
    "productEncoder = OneHotEncoder(inputCol=productIndexer.getOutputCol(), outputCol=\"claim_product_vector\")\n",
    "productLineIndexer = StringIndexer(inputCol=\"claim_product_line\", outputCol=\"claim_product_line_index\")\n",
    "productLineEncoder = OneHotEncoder(inputCol=productIndexer.getOutputCol(), outputCol=\"claim_product_line_vector\")"
   ]
  },
  {
   "cell_type": "markdown",
   "metadata": {
    "deletable": true,
    "editable": true
   },
   "source": [
    "Combine 'words', 'phrases', 'claim_product_vector', and 'claim_product_line_vector' columns into 'features'."
   ]
  },
  {
   "cell_type": "code",
   "execution_count": 9,
   "metadata": {
    "collapsed": true,
    "deletable": true,
    "editable": true
   },
   "outputs": [],
   "source": [
    "assembler = VectorAssembler( \\\n",
    "    inputCols=[productEncoder.getOutputCol(), productLineEncoder.getOutputCol(), wordCol.getName(), phraseCol.getName()],\n",
    "    outputCol=\"features\"\n",
    ")"
   ]
  },
  {
   "cell_type": "markdown",
   "metadata": {
    "deletable": true,
    "editable": true
   },
   "source": [
    "Encode string 'label' column of labels into 'label_index' column of label indices. "
   ]
  },
  {
   "cell_type": "code",
   "execution_count": 10,
   "metadata": {
    "collapsed": false,
    "deletable": true,
    "editable": true
   },
   "outputs": [],
   "source": [
    "label = StringIndexer(inputCol=\"label\", outputCol=\"label_index\", handleInvalid=\"skip\")"
   ]
  },
  {
   "cell_type": "code",
   "execution_count": 11,
   "metadata": {
    "collapsed": true,
    "deletable": true,
    "editable": true
   },
   "outputs": [],
   "source": [
    "labelModel = label.fit(train)"
   ]
  },
  {
   "cell_type": "markdown",
   "metadata": {
    "deletable": true,
    "editable": true
   },
   "source": [
    "<a id='Classification'></a>\n",
    "## Classification\n",
    "Build a multiclass classification using Naive Bayes as a base classifier. The classifier can be changed to other methods."
   ]
  },
  {
   "cell_type": "code",
   "execution_count": 12,
   "metadata": {
    "collapsed": false,
    "deletable": true,
    "editable": true
   },
   "outputs": [],
   "source": [
    "classifier = NaiveBayes(labelCol=label.getOutputCol(), featuresCol=assembler.getOutputCol())"
   ]
  },
  {
   "cell_type": "code",
   "execution_count": 13,
   "metadata": {
    "collapsed": false,
    "deletable": true,
    "editable": true
   },
   "outputs": [],
   "source": [
    "labelDecoder = IndexToString(inputCol=classifier.getPredictionCol(), outputCol=\"prediction_label\", labels=labelModel.labels)"
   ]
  },
  {
   "cell_type": "markdown",
   "metadata": {
    "deletable": true,
    "editable": true
   },
   "source": [
    "Build a pipeline and train the multiclass model."
   ]
  },
  {
   "cell_type": "code",
   "execution_count": 14,
   "metadata": {
    "collapsed": false,
    "deletable": true,
    "editable": true
   },
   "outputs": [],
   "source": [
    "pipeline = Pipeline(stages=[extractor, label, productIndexer, productEncoder, productLineIndexer, productLineEncoder, assembler, classifier, labelDecoder])\n",
    "model = pipeline.fit(train)"
   ]
  },
  {
   "cell_type": "markdown",
   "metadata": {
    "deletable": true,
    "editable": true
   },
   "source": [
    "<a id='Evaluate'></a>\n",
    "## Evaluate\n",
    "\n",
    "Show the accuracy and the result."
   ]
  },
  {
   "cell_type": "code",
   "execution_count": 15,
   "metadata": {
    "collapsed": false,
    "deletable": true,
    "editable": true
   },
   "outputs": [
    {
     "name": "stdout",
     "output_type": "stream",
     "text": [
      "Accuracy:0.936508\n"
     ]
    }
   ],
   "source": [
    "predicted = model.transform(test)\n",
    "evaluator = MulticlassClassificationEvaluator(labelCol=classifier.getLabelCol(), predictionCol=classifier.getPredictionCol(), metricName=\"accuracy\")\n",
    "accuracy = evaluator.evaluate(predicted)\n",
    "print(\"Accuracy:%g\" % accuracy )"
   ]
  },
  {
   "cell_type": "code",
   "execution_count": 16,
   "metadata": {
    "collapsed": false,
    "deletable": true,
    "editable": true,
    "scrolled": true
   },
   "outputs": [
    {
     "data": {
      "text/html": [
       "<div>\n",
       "<style>\n",
       "    .dataframe thead tr:only-child th {\n",
       "        text-align: right;\n",
       "    }\n",
       "\n",
       "    .dataframe thead th {\n",
       "        text-align: left;\n",
       "    }\n",
       "\n",
       "    .dataframe tbody tr th {\n",
       "        vertical-align: top;\n",
       "    }\n",
       "</style>\n",
       "<table border=\"1\" class=\"dataframe\">\n",
       "  <thead>\n",
       "    <tr style=\"text-align: right;\">\n",
       "      <th></th>\n",
       "      <th>label</th>\n",
       "      <th>prediction_label</th>\n",
       "    </tr>\n",
       "  </thead>\n",
       "  <tbody>\n",
       "    <tr>\n",
       "      <th>0</th>\n",
       "      <td>ads</td>\n",
       "      <td>ads</td>\n",
       "    </tr>\n",
       "    <tr>\n",
       "      <th>1</th>\n",
       "      <td>amount.shortage</td>\n",
       "      <td>amount.shortage</td>\n",
       "    </tr>\n",
       "    <tr>\n",
       "      <th>2</th>\n",
       "      <td>package_container</td>\n",
       "      <td>package_container</td>\n",
       "    </tr>\n",
       "    <tr>\n",
       "      <th>3</th>\n",
       "      <td>package_container</td>\n",
       "      <td>package_container</td>\n",
       "    </tr>\n",
       "    <tr>\n",
       "      <th>4</th>\n",
       "      <td>other</td>\n",
       "      <td>other</td>\n",
       "    </tr>\n",
       "    <tr>\n",
       "      <th>5</th>\n",
       "      <td>ingredient.additives</td>\n",
       "      <td>ingredient.additives</td>\n",
       "    </tr>\n",
       "    <tr>\n",
       "      <th>6</th>\n",
       "      <td>package_container.leak</td>\n",
       "      <td>package_container.leak</td>\n",
       "    </tr>\n",
       "    <tr>\n",
       "      <th>7</th>\n",
       "      <td>contamination_tampering</td>\n",
       "      <td>contamination_tampering</td>\n",
       "    </tr>\n",
       "    <tr>\n",
       "      <th>8</th>\n",
       "      <td>contamination_tampering</td>\n",
       "      <td>contamination_tampering</td>\n",
       "    </tr>\n",
       "    <tr>\n",
       "      <th>9</th>\n",
       "      <td>contamination_tampering</td>\n",
       "      <td>contamination_tampering</td>\n",
       "    </tr>\n",
       "  </tbody>\n",
       "</table>\n",
       "</div>"
      ],
      "text/plain": [
       "                     label         prediction_label\n",
       "0                      ads                      ads\n",
       "1          amount.shortage          amount.shortage\n",
       "2        package_container        package_container\n",
       "3        package_container        package_container\n",
       "4                    other                    other\n",
       "5     ingredient.additives     ingredient.additives\n",
       "6   package_container.leak   package_container.leak\n",
       "7  contamination_tampering  contamination_tampering\n",
       "8  contamination_tampering  contamination_tampering\n",
       "9  contamination_tampering  contamination_tampering"
      ]
     },
     "execution_count": 16,
     "metadata": {},
     "output_type": "execute_result"
    }
   ],
   "source": [
    "predicted.select(label.getInputCol(), labelDecoder.getOutputCol()).toPandas()[0:10]"
   ]
  },
  {
   "cell_type": "markdown",
   "metadata": {
    "collapsed": true,
    "deletable": true,
    "editable": true
   },
   "source": [
    "<a id='Save_model'></a>\n",
    "## Save model\n",
    "Save the trained model"
   ]
  },
  {
   "cell_type": "code",
   "execution_count": 17,
   "metadata": {
    "collapsed": false,
    "deletable": true,
    "editable": true
   },
   "outputs": [
    {
     "name": "stderr",
     "output_type": "stream",
     "text": [
      "/opt/conda/lib/python2.7/site-packages/requests/__init__.py:80: RequestsDependencyWarning: urllib3 (1.23) or chardet (3.0.3) doesn't match a supported version!\n",
      "  RequestsDependencyWarning)\n",
      "Using TensorFlow backend.\n"
     ]
    },
    {
     "data": {
      "text/plain": [
       "{'path': '/user-home/999/DSX_Projects/dsx-samples/models/DocumentClassificationModel/1',\n",
       " 'scoring_endpoint': 'https://dsxl-api/v3/project/score/Python27/spark-2.0/dsx-samples/DocumentClassificationModel/1'}"
      ]
     },
     "execution_count": 17,
     "metadata": {},
     "output_type": "execute_result"
    }
   ],
   "source": [
    "from dsx_ml.ml import save\n",
    "\n",
    "save(name = 'DocumentClassificationModel',\n",
    "     model = model,\n",
    "     test_data = test,\n",
    "     algorithm_type = 'Classification',\n",
    "     source = 'Using+Watson+Explorer+for+Classification.ipynb',\n",
    "     description = 'Document classification using WEX Feature Extractor'\n",
    "    )"
   ]
  },
  {
   "cell_type": "markdown",
   "metadata": {
    "collapsed": true,
    "deletable": true,
    "editable": true
   },
   "source": [
    "<a id='Summaryl'></a>\n",
    "## Summary\n",
    "\n",
    "In this example, you learnded how to use Watson Explorer to extract the features from the text data. To extract the features from your own text data, you need to create a Watson Explorer collection."
   ]
  }
 ],
 "metadata": {
  "kernelspec": {
   "display_name": "Python2.7 with Watson Studio Spark 2.0.2",
   "language": "python",
   "name": "python2"
  },
  "language_info": {
   "codemirror_mode": {
    "name": "ipython",
    "version": 2
   },
   "file_extension": ".py",
   "mimetype": "text/x-python",
   "name": "python",
   "nbconvert_exporter": "python",
   "pygments_lexer": "ipython2",
   "version": "2.7.11"
  }
 },
 "nbformat": 4,
 "nbformat_minor": 2
}
