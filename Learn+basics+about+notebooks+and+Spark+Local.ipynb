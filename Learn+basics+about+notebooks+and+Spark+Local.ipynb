{
 "cells": [
  {
   "cell_type": "markdown",
   "metadata": {},
   "source": [
    "# Learn the basics about notebooks and Apache Spark\n",
    "\n",
    "This notebook introduces you to the basics of analytics notebooks and explains what Apache Spark is and how to use Spark in notebooks. The notebook shows you how to load data into the notebook, parse and explore the data, run queries on the data to extract information, plot your analysis results, and save your result in Object Storage.\n",
    "\n",
    "This notebooks runs on Python 2 with Spark 2.0.2\n",
    "\n",
    "## Table of contents\n",
    "- [What is Apache Spark](#apache_spark)\n",
    "- [Get data](#data_set)\n",
    "- [Load data](#load_data)\n",
    "- [Access data](#access_data)\n",
    "- [Add and parse header](#add_header)\n",
    "- [Explore data](#explore_data)\n",
    "- [Use Spark SQL](#use_spark_sql)\n",
    "- [Save results in Object Storage](#save)\n",
    "- [Summary](#summary)"
   ]
  },
  {
   "cell_type": "markdown",
   "metadata": {},
   "source": [
    "<a id=\"apache_spark\"></a>\n",
    "## What is Apache Spark\n",
    "\n",
    "[Spark](http://spark.apache.org/) is a fast open-source engine for large-scale data processing. It is built for speed and ease of use. Through the advanced DAG execution engine that supports cyclic data flow and in-memory computing, programs can run up to 100 times faster than Hadoop MapReduce in memory, or 10 times faster on disc.\n",
    "\n",
    "Spark consists of multiple components:\n",
    "\n",
    "* Spark Core is the underlying computation engine with the fundamental programming abstraction called resilient distributed datasets (RDDs)\n",
    "* Spark SQL provides a new data abstraction called DataFrames for structured data processing with SQL and domain-specific language\n",
    "* MLlib is a scalable machine learning framework for delivering fast distributed algorithms for mining big data\n",
    "* Streaming leverages Spark's fast scheduling capability to perform real-time analysis on streams of new data\n",
    "* GraphX is the graph processing framework for the analysis of graph structured data\n",
    "\n",
    "In this sample, you will focus on Spark Core and Spark SQL by using the Python API."
   ]
  },
  {
   "cell_type": "markdown",
   "metadata": {},
   "source": [
    "<a id=\"data_set\"></a>\n",
    "## Get data\n",
    "\n",
    "In the sample, you will use Apache Spark to analyze weather data collected from weather stations in 2015. This data is provided by the NOAA National Climatic Data Center (NCDC).\n",
    "\n",
    "To get at the raw data from the NOAA National Climatic Data Center (NCDC), run the following code cell:"
   ]
  },
  {
   "cell_type": "code",
   "execution_count": 1,
   "metadata": {
    "collapsed": false
   },
   "outputs": [
    {
     "name": "stdout",
     "output_type": "stream",
     "text": [
      "--2017-11-01 22:01:01--  ftp://ftp.ncdc.noaa.gov/pub/data/ghcn/daily/by_year/2015.csv.gz\n",
      "           => ‘2015.csv.gz’\n",
      "Resolving ftp.ncdc.noaa.gov (ftp.ncdc.noaa.gov)... 205.167.25.101, 2610:20:8040:2::101\n",
      "Connecting to ftp.ncdc.noaa.gov (ftp.ncdc.noaa.gov)|205.167.25.101|:21... connected.\n",
      "Logging in as anonymous ... Logged in!\n",
      "==> SYST ... done.    ==> PWD ... done.\n",
      "==> TYPE I ... done.  ==> CWD (1) /pub/data/ghcn/daily/by_year ... done.\n",
      "==> SIZE 2015.csv.gz ... 196294128\n",
      "==> PASV ... done.    ==> RETR 2015.csv.gz ... done.\n",
      "Length: 196294128 (187M) (unauthoritative)\n",
      "\n",
      "2015.csv.gz         100%[=====================>] 187.20M  1.65MB/s   in 1m 55s \n",
      "\n",
      "2017-11-01 22:03:00 (1.62 MB/s) - ‘2015.csv.gz’ saved [196294128]\n",
      "\n"
     ]
    }
   ],
   "source": [
    "!wget 'ftp://ftp.ncdc.noaa.gov/pub/data/ghcn/daily/by_year/2015.csv.gz'\n",
    "!gunzip -c '2015.csv.gz' > '../datasets/2015.csv'\n",
    "!rm '2015.csv.gz'"
   ]
  },
  {
   "cell_type": "markdown",
   "metadata": {},
   "source": [
    "\n",
    "The data in the base file has the following format:\n",
    "\n",
    "<table border=\"1\" style=\"width:90%\">\n",
    "  <tr>\n",
    "    <th>STATION</th><th>DATE</th><th>METRIC</th><th>VALUE</th><th>C5</th><th>C6</th><th>C7</th><th>C8</th>\n",
    "  </tr>\n",
    "  <tr>\n",
    "    <td>US1FLSL0019</td><td>20150101</td><td>PRCP</td><td>173</td><td></td><td></td><td>N</td>\n",
    "  </tr>\n",
    "  <tr>\n",
    "    <td>US1TXTV0133</td><td>20150101</td><td>PRCP</td><td>119</td><td></td><td></td><td>N</td>\n",
    "  </tr>\n",
    "  <tr>\n",
    "    <td>USC00178998</td><td>20150101</td><td>TMAX</td><td>-33</td><td></td><td></td><td>7</td><td>100</td>\n",
    "  </tr>\n",
    "  <tr>\n",
    "    <td>...</td><td>...</td><td>...</td><td>...</td><td>...</td><td>...</td><td>...</td>\n",
    "  </tr>\n",
    "</table>\n",
    "<p>\n",
    "\n",
    "Each row contains a weather station identifier, a date, a metric which is collected (like precipitation, daily maximum and minimum temperatures, temperature at the time of observation, snowfall, snow depth, and so on) and some additional values.\n",
    "\n",
    "**Note**: The header is not included in the CSV file and is documented in **ghcn-daily-by_year-format.rtf**. It was added to the table above for sake of vividness."
   ]
  },
  {
   "cell_type": "markdown",
   "metadata": {},
   "source": [
    "## Load data \n",
    "To load the data into a notebook\n",
    "\n",
    "1. Click the **Find Data** icon on the top right of the notebook screen. \n",
    "1. Click **Insert to Code** for the `2015.csv` file.\n",
    "1. You can skip this step for this notebook. The generated code to insert the data is included below.\n",
    "\n",
    "The data file is stored in the filesystem.\n",
    "\n",
    "**Note**: Because the CSV file is relatively large, it might take a few minutes to load the data file. "
   ]
  },
  {
   "cell_type": "markdown",
   "metadata": {},
   "source": [
    "<a id=\"access_data\"></a>\n",
    "## Access data"
   ]
  },
  {
   "cell_type": "markdown",
   "metadata": {},
   "source": [
    "To add the code to access the data file which is stored in the filesystem, run the next code cell.\n",
    "\n",
    "This function inserts the setup code for the preconfigured [`SparkContext`](https://spark.apache.org/docs/1.6.0/api/python/pyspark.html#pyspark.SparkContext). Then the data is loaded into a `Spark RDD` which is created by using the `SparkContext`.\n"
   ]
  },
  {
   "cell_type": "markdown",
   "metadata": {},
   "source": [
    "<div class=\"alert alert-block alert-info\">Note: The `Create DataFrame` will automatically add a cell at the top to import library and set up project context. Please run that cell first before loading data in the following cell.</div>"
   ]
  },
  {
   "cell_type": "code",
   "execution_count": 2,
   "metadata": {
    "collapsed": false
   },
   "outputs": [
    {
     "name": "stdout",
     "output_type": "stream",
     "text": [
      "+-----------+--------+----+---+----+----+---+----+\n",
      "|        _c0|     _c1| _c2|_c3| _c4| _c5|_c6| _c7|\n",
      "+-----------+--------+----+---+----+----+---+----+\n",
      "|US1MTMH0019|20150101|PRCP|  0|null|null|  N|null|\n",
      "|US1MTMH0019|20150101|SNOW|  0|null|null|  N|null|\n",
      "|US1MTMH0019|20150101|SNWD|127|null|null|  N|null|\n",
      "|US1MTMH0019|20150101|WESD|137|null|null|  N|null|\n",
      "|ASN00015643|20150101|TMAX|373|null|null|  a|null|\n",
      "|ASN00015643|20150101|TMIN|222|null|null|  a|null|\n",
      "|ASN00015643|20150101|PRCP|  0|null|null|  a|null|\n",
      "|ASN00085296|20150101|TMAX|254|null|null|  a|null|\n",
      "|ASN00085296|20150101|TMIN|110|null|null|  a|null|\n",
      "|ASN00085296|20150101|PRCP|  0|null|null|  a|null|\n",
      "|ASN00085280|20150101|TMAX|262|null|null|  a|null|\n",
      "|ASN00085280|20150101|TMIN| 88|null|null|  a|null|\n",
      "|ASN00085280|20150101|PRCP|  0|null|null|  a|null|\n",
      "|ASN00040209|20150101|PRCP|  0|null|null|  a|null|\n",
      "|US1MNCV0008|20150101|PRCP|  0|null|null|  N|null|\n",
      "|US1MNCV0008|20150101|SNOW|  0|null|null|  N|null|\n",
      "|US1MNCV0008|20150101|WESF|  0|null|null|  N|null|\n",
      "|US1MISW0005|20150101|PRCP|  0|   T|null|  N|null|\n",
      "|US1KSSG0097|20150101|PRCP|  0|null|null|  N|null|\n",
      "|US1KSSG0097|20150101|SNWD| 13|null|null|  N|null|\n",
      "+-----------+--------+----+---+----+----+---+----+\n",
      "only showing top 20 rows\n",
      "\n"
     ]
    }
   ],
   "source": [
    "from pyspark.sql import SQLContext\n",
    "# Add asset from file system\n",
    "df_data_1 = SQLContext(sc).read.csv('../datasets/2015.csv', header='false')\n",
    "df_data_1.show(20)"
   ]
  },
  {
   "cell_type": "markdown",
   "metadata": {},
   "source": [
    "<div class=\"alert alert-block alert-info\">Note: The code below creates an RDD from the dataframe loaded above. Please update the dataframe variable name of \"df_1\" to make it consist with the variable name in the cell above.</div>"
   ]
  },
  {
   "cell_type": "code",
   "execution_count": 3,
   "metadata": {
    "collapsed": false
   },
   "outputs": [
    {
     "data": {
      "text/plain": [
       "[Row(_c0=u'US1MTMH0019', _c1=u'20150101', _c2=u'PRCP', _c3=u'0', _c4=None, _c5=None, _c6=u'N', _c7=None),\n",
       " Row(_c0=u'US1MTMH0019', _c1=u'20150101', _c2=u'SNOW', _c3=u'0', _c4=None, _c5=None, _c6=u'N', _c7=None),\n",
       " Row(_c0=u'US1MTMH0019', _c1=u'20150101', _c2=u'SNWD', _c3=u'127', _c4=None, _c5=None, _c6=u'N', _c7=None),\n",
       " Row(_c0=u'US1MTMH0019', _c1=u'20150101', _c2=u'WESD', _c3=u'137', _c4=None, _c5=None, _c6=u'N', _c7=None),\n",
       " Row(_c0=u'ASN00015643', _c1=u'20150101', _c2=u'TMAX', _c3=u'373', _c4=None, _c5=None, _c6=u'a', _c7=None)]"
      ]
     },
     "execution_count": 3,
     "metadata": {},
     "output_type": "execute_result"
    }
   ],
   "source": [
    "weather = df_data_1.rdd\n",
    "weather.take(5)"
   ]
  },
  {
   "cell_type": "markdown",
   "metadata": {},
   "source": [
    "Now you can access the data by using the preconfigured `SparkContext` function in your notebook."
   ]
  },
  {
   "cell_type": "markdown",
   "metadata": {},
   "source": [
    "The RDD you created is a collection of strings corresponding to the individual lines in the raw data file. It is also important to remember that the RDD is defined but not instantiated. By applying an action like `count` to the RDD, you effectively instantiate the RDD."
   ]
  },
  {
   "cell_type": "code",
   "execution_count": 4,
   "metadata": {
    "collapsed": false
   },
   "outputs": [
    {
     "name": "stdout",
     "output_type": "stream",
     "text": [
      "Total records in the 2015.csv dataset: 34355109\n"
     ]
    }
   ],
   "source": [
    "print \"Total records in the 2015.csv dataset:\", weather.count()"
   ]
  },
  {
   "cell_type": "markdown",
   "metadata": {},
   "source": [
    "Apply another action to the same RDD that reads the first row of the data."
   ]
  },
  {
   "cell_type": "code",
   "execution_count": 5,
   "metadata": {
    "collapsed": false
   },
   "outputs": [
    {
     "name": "stdout",
     "output_type": "stream",
     "text": [
      "The first row in the 2015.csv dataset: Row(_c0=u'US1MTMH0019', _c1=u'20150101', _c2=u'PRCP', _c3=u'0', _c4=None, _c5=None, _c6=u'N', _c7=None)\n"
     ]
    }
   ],
   "source": [
    "print \"The first row in the 2015.csv dataset:\", weather.first()"
   ]
  },
  {
   "cell_type": "markdown",
   "metadata": {},
   "source": [
    "<a id=\"add_header\"></a>\n",
    "## Add and parse header"
   ]
  },
  {
   "cell_type": "markdown",
   "metadata": {},
   "source": [
    "Since the header is not included in the CSV file, it has to be added programmatically, as well be parsed into columns. You can do this by mapping each line in the RDD to a function that splits the line by commas.\n",
    "\n",
    "The lambda notation in Python is used to create anonymous functions, in other words, functions which are not bound to a name. This concept is used in the following code cell to pass a function as a parameter to the `map` function. The anonymous function receives the header as string RDD and splits it at comma boundaries. As a result, the new `weatherParse` RDD is a list of lists. Each list in `weatherParse` corresponds to a line in `weather`, and the strings in each list are the individual elements of the row."
   ]
  },
  {
   "cell_type": "code",
   "execution_count": 6,
   "metadata": {
    "collapsed": false
   },
   "outputs": [
    {
     "data": {
      "text/plain": [
       "[['STATION', 'DATE', 'METRIC', 'VALUE', 'C5', 'C6', 'C7', 'C8'],\n",
       " Row(_c0=u'US1MTMH0019', _c1=u'20150101', _c2=u'PRCP', _c3=u'0', _c4=None, _c5=None, _c6=u'N', _c7=None)]"
      ]
     },
     "execution_count": 6,
     "metadata": {},
     "output_type": "execute_result"
    }
   ],
   "source": [
    "header = sc.parallelize(['STATION,DATE,METRIC,VALUE,C5,C6,C7,C8']).map(lambda line : line.split(','))\n",
    "union = header.union(weather)\n",
    "weatherParse = union\n",
    "weatherParse.take(2)"
   ]
  },
  {
   "cell_type": "markdown",
   "metadata": {},
   "source": [
    "Run the next cell for a quick look at the first list:"
   ]
  },
  {
   "cell_type": "code",
   "execution_count": 7,
   "metadata": {
    "collapsed": false,
    "scrolled": true
   },
   "outputs": [
    {
     "data": {
      "text/plain": [
       "['STATION', 'DATE', 'METRIC', 'VALUE', 'C5', 'C6', 'C7', 'C8']"
      ]
     },
     "execution_count": 7,
     "metadata": {},
     "output_type": "execute_result"
    }
   ],
   "source": [
    "weatherParse.first()"
   ]
  },
  {
   "cell_type": "markdown",
   "metadata": {},
   "source": [
    "Now take a look at the individual elements of this first list where the first entry starts at offset zero."
   ]
  },
  {
   "cell_type": "code",
   "execution_count": 8,
   "metadata": {
    "collapsed": false,
    "scrolled": true
   },
   "outputs": [
    {
     "data": {
      "text/plain": [
       "'STATION'"
      ]
     },
     "execution_count": 8,
     "metadata": {},
     "output_type": "execute_result"
    }
   ],
   "source": [
    "weatherParse.first()[0]"
   ]
  },
  {
   "cell_type": "markdown",
   "metadata": {},
   "source": [
    "You can also pull elements by index."
   ]
  },
  {
   "cell_type": "code",
   "execution_count": 9,
   "metadata": {
    "collapsed": false
   },
   "outputs": [
    {
     "data": {
      "text/plain": [
       "'METRIC'"
      ]
     },
     "execution_count": 9,
     "metadata": {},
     "output_type": "execute_result"
    }
   ],
   "source": [
    "weatherParse.first()[2]"
   ]
  },
  {
   "cell_type": "markdown",
   "metadata": {},
   "source": [
    "<a id=\"explore_data\"></a>\n",
    "## Explore data\n",
    "To better consume the precipitation data, it has to be converted or mapped from one raw form into another format.\n"
   ]
  },
  {
   "cell_type": "markdown",
   "metadata": {},
   "source": [
    "### Calculate the average precipitation by weather station\n",
    "To calculate the average precipitation that was recorded at each weather station in the data set, reduce the data set by selecting only those rows with precipitation data values, in other words, those rows where the METRIC column equals `PRCP`."
   ]
  },
  {
   "cell_type": "code",
   "execution_count": 10,
   "metadata": {
    "collapsed": true
   },
   "outputs": [],
   "source": [
    "weatherPrecp = weatherParse.filter(lambda x: x[2] == \"PRCP\")"
   ]
  },
  {
   "cell_type": "markdown",
   "metadata": {},
   "source": [
    "The `weatherPrecp` RDD that you created contains a list of pairs (v1, v2), where v1 is a weather station identifier and v2 is one precipitation data point (one day) for that station. Table 1. depicts this structure."
   ]
  },
  {
   "cell_type": "markdown",
   "metadata": {},
   "source": [
    "#### Table 1.\n",
    "\n",
    "<table border=\"1\" style=\"width:80%\">\n",
    "  <tr>\n",
    "    <th>Key</th><th>Value</th>\n",
    "  </tr>\n",
    "  <tr>\n",
    "    <td>Station 1</td><td>Value 1</td>\n",
    "  </tr>\n",
    "  <tr>\n",
    "    <td>Station 2</td><td>Value 2</td>\n",
    "  </tr>\n",
    "    <tr>\n",
    "    <td>Station 1</td><td>Value 3</td>\n",
    "  </tr>\n",
    "    <tr>\n",
    "    <td>Station 2</td><td>Value 4</td>\n",
    "  </tr>\n",
    "    <tr>\n",
    "    <td>Station 3</td><td>Value 5</td>\n",
    "  </tr>\n",
    "  <tr>\n",
    "    <td>...</td><td>...</td>\n",
    "  </tr>\n",
    "</table>\n",
    "<p>"
   ]
  },
  {
   "cell_type": "markdown",
   "metadata": {},
   "source": [
    "Next, transform (map) this data set into a new one where each row (data pair) is augmented with the value `1`. Table 2. shows this new structure."
   ]
  },
  {
   "cell_type": "markdown",
   "metadata": {},
   "source": [
    "#### Table 2.\n",
    "\n",
    "<table border=\"1\" style=\"width:80%\">\n",
    "  <tr>\n",
    "    <th>Key</th><th>Value</th>\n",
    "  </tr>\n",
    "  <tr>\n",
    "    <td>Station 1</td><td>(Value 1,1)</td>\n",
    "  </tr>\n",
    "  <tr>\n",
    "    <td>Station 2</td><td>(Value 2,1)</td>\n",
    "  </tr>\n",
    "    <tr>\n",
    "    <td>Station 1</td><td>(Value 3,1)</td>\n",
    "  </tr>\n",
    "    <tr>\n",
    "    <td>Station 2</td><td>(Value 4,1)</td>\n",
    "  </tr>\n",
    "    <tr>\n",
    "    <td>Station 3</td><td>(Value 5,1)</td>\n",
    "  </tr>\n",
    "  <tr>\n",
    "    <td>...</td><td>...</td>\n",
    "  </tr>\n",
    "</table>\n",
    "<p>"
   ]
  },
  {
   "cell_type": "markdown",
   "metadata": {},
   "source": [
    "The reason for this mapping is to reduce the table into the form represented by Table 3."
   ]
  },
  {
   "cell_type": "markdown",
   "metadata": {},
   "source": [
    "#### Table 3.\n",
    "\n",
    "<table border=\"1\" style=\"width:80%\">\n",
    "  <tr>\n",
    "    <th>Key</th><th>Value</th>\n",
    "  </tr>\n",
    "  <tr>\n",
    "    <td>Station 1</td><td>(Value 1 + Value 3,2)</td>\n",
    "  </tr>\n",
    "  <tr>\n",
    "    <td>Station 2</td><td>(Value 2 + Value 4,2)</td>\n",
    "  </tr>\n",
    "    <tr>\n",
    "    <td>Station 3</td><td>(Value 5,1)</td>\n",
    "  </tr>\n",
    "  <tr>\n",
    "    <td>...</td><td>...</td>\n",
    "  </tr>\n",
    "</table>\n",
    "<p>"
   ]
  },
  {
   "cell_type": "markdown",
   "metadata": {},
   "source": [
    "Using this table, you can compute the average precipitation for each station by dividing the summation of the values by the corresponding count.\n",
    "\n",
    "Run the next code cell to create `weatherPrecpCountByKey`. The outcome is the equivalent to what you see in Table 2."
   ]
  },
  {
   "cell_type": "code",
   "execution_count": 11,
   "metadata": {
    "collapsed": true
   },
   "outputs": [],
   "source": [
    "# x[0] is the station\n",
    "# x[3] is the precipitation value\n",
    "weatherPrecpCountByKey = weatherPrecp.map(lambda x : (x[0], (int(x[3]), 1)))"
   ]
  },
  {
   "cell_type": "markdown",
   "metadata": {},
   "source": [
    "The same Python lambda function notation is used to pass a function into the mapping function which transforms `weatherPrecp` into the new RDD. \n",
    "\n",
    "To confirm that the mapping produced the expected results, run the next cell:"
   ]
  },
  {
   "cell_type": "code",
   "execution_count": 12,
   "metadata": {
    "collapsed": false
   },
   "outputs": [
    {
     "data": {
      "text/plain": [
       "(u'US1MTMH0019', (0, 1))"
      ]
     },
     "execution_count": 12,
     "metadata": {},
     "output_type": "execute_result"
    }
   ],
   "source": [
    "weatherPrecpCountByKey.first()"
   ]
  },
  {
   "cell_type": "markdown",
   "metadata": {},
   "source": [
    "### Calculate the total precipitation by weather station\n",
    "\n",
    "To calculate the total precipitation by weather station, sum (reduce) the precipitation amounts and total readings for every station. Use the `reduceByKey` function for this purpose."
   ]
  },
  {
   "cell_type": "code",
   "execution_count": 13,
   "metadata": {
    "collapsed": true
   },
   "outputs": [],
   "source": [
    "weatherPrecpAddByKey = weatherPrecpCountByKey.reduceByKey(lambda v1,v2 : (v1[0]+v2[0], v1[1]+v2[1]))"
   ]
  },
  {
   "cell_type": "markdown",
   "metadata": {},
   "source": [
    "Using the `first` function, you can inspect the precipitation values and read the totals for the first station ID. Note that this operation might take some time to complete as the whole chain of RDDs that you created are reinstantiated."
   ]
  },
  {
   "cell_type": "code",
   "execution_count": 14,
   "metadata": {
    "collapsed": false
   },
   "outputs": [
    {
     "data": {
      "text/plain": [
       "(u'USC00477015', (10129, 309))"
      ]
     },
     "execution_count": 14,
     "metadata": {},
     "output_type": "execute_result"
    }
   ],
   "source": [
    "weatherPrecpAddByKey.first()"
   ]
  },
  {
   "cell_type": "markdown",
   "metadata": {},
   "source": [
    "### Compute the average values per station\n",
    "\n",
    "Now that you have transformed the data into the format you need it in, you can finally compute the average precipitation values per weather station. You create the `weatherAverages` RDD by mapping the `weatherPrecpAddByKey` RDD through a function that divides the precipitation total by the total number of readings."
   ]
  },
  {
   "cell_type": "code",
   "execution_count": 15,
   "metadata": {
    "collapsed": true
   },
   "outputs": [],
   "source": [
    "weatherAverages = weatherPrecpAddByKey.map(lambda k: (k[0], k[1][0] / float(k[1][1] ) ) )"
   ]
  },
  {
   "cell_type": "code",
   "execution_count": 16,
   "metadata": {
    "collapsed": false
   },
   "outputs": [
    {
     "data": {
      "text/plain": [
       "(u'USC00477015', 32.77993527508091)"
      ]
     },
     "execution_count": 16,
     "metadata": {},
     "output_type": "execute_result"
    }
   ],
   "source": [
    "weatherAverages.first()"
   ]
  },
  {
   "cell_type": "markdown",
   "metadata": {},
   "source": [
    "Now print the first ten stations and their average precipitation values. The station ID is the sort order in the `top` function because it appears first in the tuple (station ID, average precipitation) in the RDD."
   ]
  },
  {
   "cell_type": "code",
   "execution_count": 17,
   "metadata": {
    "collapsed": false
   },
   "outputs": [
    {
     "name": "stdout",
     "output_type": "stream",
     "text": [
      "Station ZI000067983 had average precipitations of 43.362637\n",
      "Station ZI000067975 had average precipitations of 42.397260\n",
      "Station ZI000067775 had average precipitations of 98.833333\n",
      "Station ZA000067743 had average precipitations of 170.142857\n",
      "Station WZ004455110 had average precipitations of 57.678899\n",
      "Station WQW00041606 had average precipitations of 29.680628\n",
      "Station WFM00091754 had average precipitations of 70.784768\n",
      "Station WF000917530 had average precipitations of 87.988669\n",
      "Station WA012084750 had average precipitations of 81.787879\n",
      "Station WA010517310 had average precipitations of 14.275862\n"
     ]
    }
   ],
   "source": [
    "for pair in weatherAverages.top(10):\n",
    "    print \"Station %s had average precipitations of %f\" % (pair[0],pair[1])"
   ]
  },
  {
   "cell_type": "markdown",
   "metadata": {},
   "source": [
    "If you want to output the ten weather stations with the highest average precipitation, you need to reverse the order of the tuple to (average precipitation, station ID). You can do this with a `map` function that switches the pair order."
   ]
  },
  {
   "cell_type": "code",
   "execution_count": 18,
   "metadata": {
    "collapsed": false,
    "scrolled": true
   },
   "outputs": [
    {
     "name": "stdout",
     "output_type": "stream",
     "text": [
      "Station US1TXLR0005 had average precipitations of 1996.000000\n",
      "Station US1TXHND002 had average precipitations of 1842.000000\n",
      "Station US1TXWM0106 had average precipitations of 1768.000000\n",
      "Station US1TXCMR017 had average precipitations of 1765.000000\n",
      "Station US1FLBW0047 had average precipitations of 1740.000000\n",
      "Station US1TXBND040 had average precipitations of 1715.000000\n",
      "Station US1SDMH0043 had average precipitations of 1702.000000\n",
      "Station US1INJN0014 had average precipitations of 1402.000000\n",
      "Station US1IAPK0065 had average precipitations of 1394.000000\n",
      "Station IDM00096237 had average precipitations of 1161.000000\n"
     ]
    }
   ],
   "source": [
    "precTop10=[]\n",
    "stationsTop10=[]\n",
    "for pair in weatherAverages.map(lambda (x,y) : (y,x)).top(10):\n",
    "    precTop10.append(pair[0])\n",
    "    stationsTop10.append(pair[1])\n",
    "    print \"Station %s had average precipitations of %f\" % (pair[1],pair[0])"
   ]
  },
  {
   "cell_type": "markdown",
   "metadata": {},
   "source": [
    "Plot your results."
   ]
  },
  {
   "cell_type": "code",
   "execution_count": 19,
   "metadata": {
    "collapsed": false
   },
   "outputs": [
    {
     "data": {
      "image/png": "[encoded data removed]",
      "text/plain": [
       "<matplotlib.figure.Figure at 0x7f2908c90190>"
      ]
     },
     "metadata": {},
     "output_type": "display_data"
    }
   ],
   "source": [
    "%matplotlib inline\n",
    "import numpy as np\n",
    "import matplotlib.pyplot as plt\n",
    "\n",
    "N = 10\n",
    "index = np.arange(N)  \n",
    "bar_width = 0.5\n",
    "\n",
    "plt.bar(index, precTop10, bar_width,\n",
    "                 color='b')\n",
    "plt.xlabel('Stations')\n",
    "plt.ylabel('Precipitations')\n",
    "plt.title('10 stations with the highest average precipitation')\n",
    "plt.xticks(index + bar_width, stationsTop10, rotation=90)\n",
    "plt.show()"
   ]
  },
  {
   "cell_type": "markdown",
   "metadata": {},
   "source": [
    "<a id=\"use_spark_sql\"></a>\n",
    "## Use Spark SQL\n",
    "\n",
    "`Spark SQL` lets you query structured data, for example, data in a relational table and can be a very powerful tool for performing complex aggregations.\n",
    "\n",
    "To create a relational table that you can query using `Spark SQL` and fill it with snowfall data, you'll use the `Row` class from the `pyspark.sql` package. You will use every line in the `weatherSnow` RDD to create a row object. Each of the row's attributes will be used to access the value of each column."
   ]
  },
  {
   "cell_type": "markdown",
   "metadata": {},
   "source": [
    "To filter the weather data to show only those weather stations that contain the keyword SNOW, you need to reduce the data set to lines with SNOW in the third column. To do this, run the following commands:"
   ]
  },
  {
   "cell_type": "code",
   "execution_count": 20,
   "metadata": {
    "collapsed": false
   },
   "outputs": [
    {
     "data": {
      "text/plain": [
       "4271464"
      ]
     },
     "execution_count": 20,
     "metadata": {},
     "output_type": "execute_result"
    }
   ],
   "source": [
    "weatherSnow = weatherParse.filter(lambda x: x[2]==\"SNOW\")\n",
    "weatherSnow.count()"
   ]
  },
  {
   "cell_type": "markdown",
   "metadata": {},
   "source": [
    "The next commands convert each line of the `weatherSnow` RDD into a row object, infer and apply a schema to an RDD of row objects, and register the table name `snow2015`."
   ]
  },
  {
   "cell_type": "code",
   "execution_count": 21,
   "metadata": {
    "collapsed": true
   },
   "outputs": [],
   "source": [
    "from pyspark.sql import SQLContext, Row\n",
    "from datetime import datetime\n",
    "\n",
    "# instantiate SQLContext object\n",
    "sqlContext = SQLContext(sc)\n",
    "# Convert each line of snowWeather RDD into a Row object\n",
    "snowRows= weatherSnow.map(lambda p: Row(station=p[0], month=datetime.strptime(str(p[1]), '%Y%m%d').month, date=datetime.strptime(str(p[1]), '%Y%m%d').day,metric=p[2], value=int(p[3])))\n",
    "# Apply Row schema\n",
    "snowSchema = sqlContext.createDataFrame(snowRows)\n",
    "# Register 'snow2015' table with 5 columns: station, month, date, metric, and value\n",
    "snowSchema.registerTempTable(\"snow2015\")\n",
    "sqlContext.cacheTable(\"snow2015\")"
   ]
  },
  {
   "cell_type": "markdown",
   "metadata": {},
   "source": [
    "### Compare the number of snow days between two stations\n",
    "\n",
    "In this section, you'll calculate the number of snow days for each month of the year at the `US10chey021` \n",
    "and `USW00094985` weather stations. With that information, you'll plot a bar chart to compare the number of snow days for each month at the two stations."
   ]
  },
  {
   "cell_type": "markdown",
   "metadata": {},
   "source": [
    "First, find out on how many days of every month it snowed at the `US10chey021` weather station:"
   ]
  },
  {
   "cell_type": "code",
   "execution_count": 22,
   "metadata": {
    "collapsed": true
   },
   "outputs": [],
   "source": [
    "snow_US10chey021 = sqlContext.sql(\"SELECT month, COUNT(*) AS snowdays FROM snow2015 WHERE station='US10chey021' GROUP BY month ORDER BY month\").collect()"
   ]
  },
  {
   "cell_type": "code",
   "execution_count": 23,
   "metadata": {
    "collapsed": false
   },
   "outputs": [
    {
     "name": "stdout",
     "output_type": "stream",
     "text": [
      "[31, 27, 31, 30, 31, 30, 31, 31, 30, 31, 27, 25]\n"
     ]
    }
   ],
   "source": [
    "US10chey021_snowdays_y=[0] * 12\n",
    "for row in snow_US10chey021:\n",
    "    US10chey021_snowdays_y[row.month - 1]=row.snowdays\n",
    "    \n",
    "print US10chey021_snowdays_y"
   ]
  },
  {
   "cell_type": "markdown",
   "metadata": {},
   "source": [
    "Next, find out how many days of every month it snowed at the `USW00094985` weather station and plot the results:"
   ]
  },
  {
   "cell_type": "code",
   "execution_count": 24,
   "metadata": {
    "collapsed": true
   },
   "outputs": [],
   "source": [
    "snow_USW00094985 = sqlContext.sql(\"SELECT  month, COUNT(*) AS snowdays FROM snow2015 WHERE station='USW00094985' GROUP BY month ORDER BY month\").collect()"
   ]
  },
  {
   "cell_type": "code",
   "execution_count": 25,
   "metadata": {
    "collapsed": false
   },
   "outputs": [
    {
     "name": "stdout",
     "output_type": "stream",
     "text": [
      "[31, 28, 31, 30, 30, 30, 31, 30, 30, 31, 30, 31]\n"
     ]
    }
   ],
   "source": [
    "USW00094985_snowdays_y=[0] * 12\n",
    "for row in snow_USW00094985:\n",
    "    USW00094985_snowdays_y[row.month -1]=row.snowdays\n",
    "    \n",
    "print USW00094985_snowdays_y"
   ]
  },
  {
   "cell_type": "code",
   "execution_count": 26,
   "metadata": {
    "collapsed": false
   },
   "outputs": [
    {
     "data": {
      "image/png": "[encoded data removed]",
      "text/plain": [
       "<matplotlib.figure.Figure at 0x7f2902f6acd0>"
      ]
     },
     "metadata": {},
     "output_type": "display_data"
    }
   ],
   "source": [
    "%matplotlib inline\n",
    "import matplotlib\n",
    "import numpy as np\n",
    "import matplotlib.pyplot as plt\n",
    "\n",
    "N=12\n",
    "ind=np.arange(N)\n",
    "width = 0.35\n",
    "pUS10chey021 = plt.bar(ind, US10chey021_snowdays_y, width, color='g', label='US10chey021')\n",
    "pUSW00094985 = plt.bar(ind+width, USW00094985_snowdays_y, width, color='y', label='USW00094985')\n",
    "\n",
    "plt.ylabel('SNOW DAYS')\n",
    "plt.xlabel('MONTH')\n",
    "plt.title('Snow Days in 2015 at Stations US10chey021 vs. USW00094985')\n",
    "plt.xticks(ind+width, ('Jan', 'Feb', 'Mar', 'Apr', 'May', 'Jun', 'Jul', 'Aug', 'Sep', 'Oct', 'Nov', 'Dec'))\n",
    "plt.legend()\n",
    "\n",
    "plt.show()"
   ]
  },
  {
   "cell_type": "markdown",
   "metadata": {},
   "source": [
    "### Determine the number of snow days at each US weather station\n",
    "To determine how many snow days there were at each of the US weather stations in 2015, run the following command to query the `snow2015` table, using the `COUNT(*)` function to get the total snow days. The table is sorted by station name and limited to only 100 stations."
   ]
  },
  {
   "cell_type": "code",
   "execution_count": 27,
   "metadata": {
    "collapsed": true
   },
   "outputs": [],
   "source": [
    "snowStations = sqlContext.sql(\"SELECT  station, COUNT(*) AS snowdays FROM snow2015 WHERE station LIKE 'US%' GROUP BY station ORDER BY station LIMIT 100\")"
   ]
  },
  {
   "cell_type": "markdown",
   "metadata": {},
   "source": [
    "Now print the first 5 rows of the `snowStations` table, including the station name and number of snow days at that station:"
   ]
  },
  {
   "cell_type": "code",
   "execution_count": 28,
   "metadata": {
    "collapsed": false
   },
   "outputs": [
    {
     "data": {
      "text/plain": [
       "[Row(station=u'US10adam001', snowdays=79),\n",
       " Row(station=u'US10adam002', snowdays=192),\n",
       " Row(station=u'US10adam004', snowdays=353),\n",
       " Row(station=u'US10adam006', snowdays=58),\n",
       " Row(station=u'US10adam007', snowdays=36)]"
      ]
     },
     "execution_count": 28,
     "metadata": {},
     "output_type": "execute_result"
    }
   ],
   "source": [
    "snowStations.head(5)"
   ]
  },
  {
   "cell_type": "markdown",
   "metadata": {},
   "source": [
    "### Save the query results into a new table"
   ]
  },
  {
   "cell_type": "markdown",
   "metadata": {},
   "source": [
    "In this step, you will save the query result of the above `SELECT` query in a new table called `snowdays_2015`. The new table has two columns: STATION (name of station) and SNOWDAYS (number of snow days at the station). "
   ]
  },
  {
   "cell_type": "code",
   "execution_count": 29,
   "metadata": {
    "collapsed": true
   },
   "outputs": [],
   "source": [
    "sqlContext.registerDataFrameAsTable(snowStations, \"snowdays_2015\")"
   ]
  },
  {
   "cell_type": "markdown",
   "metadata": {},
   "source": [
    "Output the five stations with the highest number of snow days in 2015:"
   ]
  },
  {
   "cell_type": "code",
   "execution_count": 30,
   "metadata": {
    "collapsed": false
   },
   "outputs": [
    {
     "name": "stdout",
     "output_type": "stream",
     "text": [
      "Row(station=u'US10adam056', snowdays=361)\n",
      "Row(station=u'US10buff036', snowdays=360)\n",
      "Row(station=u'US10adam051', snowdays=355)\n",
      "Row(station=u'US10adam004', snowdays=353)\n",
      "Row(station=u'US10adam032', snowdays=352)\n"
     ]
    }
   ],
   "source": [
    "snowStations_new = sqlContext.sql(\"SELECT station, snowdays FROM snowdays_2015 ORDER BY snowdays DESC LIMIT 5\").collect()\n",
    "for row in snowStations_new:\n",
    "    print row"
   ]
  },
  {
   "cell_type": "markdown",
   "metadata": {},
   "source": [
    "### Identify the stations with the same number of snow days in 2015\n",
    "\n",
    "In this section, you'll identify the stations that had the same number of snow days in 2015. First, you need to query the table `snowdays_2015` again. \n",
    "\n",
    "Then, by using the `map` function, you'll transform each row into a key-value pair where the key is the number of snow days and the value is the station name.\n",
    "\n",
    "Next, you'll apply the `reduceByKey` function to each pair, and the value of those pairs that have the same key are concatenated. As a result, the RDD contains the number of snow days, and the list of all stations that have the same number of snow days.\n",
    "\n",
    "The `for` loop prints the number of snow days, and the list of stations that have that number of snow days in 2015."
   ]
  },
  {
   "cell_type": "code",
   "execution_count": 31,
   "metadata": {
    "collapsed": false
   },
   "outputs": [
    {
     "name": "stdout",
     "output_type": "stream",
     "text": [
      "Snow days:128 Stations:US10butl008\n",
      "Snow days:64 Stations:US10chas025,US10cher016\n",
      "Snow days:3 Stations:US10cher019\n",
      "Snow days:135 Stations:US10chas034\n",
      "Snow days:8 Stations:US10chas009\n",
      "Snow days:300 Stations:US10buff008\n",
      "Snow days:141 Stations:US10cass011\n",
      "Snow days:15 Stations:US10bann007\n",
      "Snow days:17 Stations:US10chas027\n",
      "Snow days:147 Stations:US10ceda006\n",
      "Snow days:90 Stations:US10boon010\n",
      "Snow days:69 Stations:US10buff007,US10chas023\n",
      "Snow days:26 Stations:US10chas032\n",
      "Snow days:28 Stations:US10adam057\n",
      "Snow days:29 Stations:US10adam013\n",
      "Snow days:30 Stations:US10box_007\n",
      "Snow days:31 Stations:US10box_020,US10buff039,US10chas021,US10chas035\n",
      "Snow days:32 Stations:US10chas019\n",
      "Snow days:161 Stations:US10buff004,US10chas001\n",
      "Snow days:34 Stations:US10chas013\n",
      "Snow days:36 Stations:US10adam007,US10box_009\n",
      "Snow days:37 Stations:US10chas033,US10cher013\n",
      "Snow days:66 Stations:US10cher018\n",
      "Snow days:40 Stations:US10adam012\n",
      "Snow days:41 Stations:US10adam017,US10adam024,US10ceda015\n",
      "Snow days:42 Stations:US10buff025\n",
      "Snow days:43 Stations:US10ceda026\n",
      "Snow days:44 Stations:US10ceda001\n",
      "Snow days:45 Stations:US10cher009\n",
      "Snow days:49 Stations:US10adam035\n",
      "Snow days:306 Stations:US10butl011\n",
      "Snow days:115 Stations:US10box_023\n",
      "Snow days:52 Stations:US10box_008\n",
      "Snow days:54 Stations:US10adam046,US10cher005\n",
      "Snow days:56 Stations:US10bann009\n",
      "Snow days:180 Stations:US10box_024\n",
      "Snow days:58 Stations:US10adam006\n",
      "Snow days:287 Stations:US10buff006\n",
      "Snow days:60 Stations:US10brow008\n",
      "Snow days:61 Stations:US10boon002\n",
      "Snow days:63 Stations:US10chas029\n",
      "Snow days:192 Stations:US10adam002\n",
      "Snow days:83 Stations:US10adam034,US10ceda017\n",
      "Snow days:71 Stations:US10ante003\n",
      "Snow days:324 Stations:US10boon005\n",
      "Snow days:325 Stations:US10ceda013\n",
      "Snow days:33 Stations:US10bann005\n",
      "Snow days:328 Stations:US10chas002\n",
      "Snow days:73 Stations:US10adam010\n",
      "Snow days:75 Stations:US10adam008\n",
      "Snow days:333 Stations:US10adam022\n",
      "Snow days:79 Stations:US10adam001,US10blai004\n",
      "Snow days:81 Stations:US10blai012,US10burt002,US10chas011\n",
      "Snow days:82 Stations:US10chas016\n",
      "Snow days:339 Stations:US10ceda002\n",
      "Snow days:84 Stations:US10box_004\n",
      "Snow days:85 Stations:US10adam036\n",
      "Snow days:343 Stations:US10cass001\n",
      "Snow days:88 Stations:US10chas012\n",
      "Snow days:89 Stations:US10butl005\n",
      "Snow days:346 Stations:US10ceda005\n",
      "Snow days:335 Stations:US10box_013,US10buff002\n",
      "Snow days:314 Stations:US10box_001\n",
      "Snow days:222 Stations:US10box_014\n",
      "Snow days:182 Stations:US10cass005\n",
      "Snow days:352 Stations:US10adam032\n",
      "Snow days:353 Stations:US10adam004\n",
      "Snow days:50 Stations:US10adam029,US10chas017\n",
      "Snow days:101 Stations:US10buff034,US10ceda009\n",
      "Snow days:360 Stations:US10buff036\n",
      "Snow days:194 Stations:US10chas003\n",
      "Snow days:111 Stations:US10butl020\n",
      "Snow days:229 Stations:US10adam019\n",
      "Snow days:59 Stations:US10adam045\n",
      "Snow days:19 Stations:US10cher004\n",
      "Snow days:355 Stations:US10adam051\n",
      "Snow days:361 Stations:US10adam056\n",
      "Snow days:72 Stations:US10ceda020\n",
      "Snow days:212 Stations:US10box_030,US10cass010,US10chas036\n",
      "Snow days:351 Stations:US10chas028\n"
     ]
    }
   ],
   "source": [
    "snowdays_100 = sqlContext.sql(\"SELECT station, snowdays FROM snowdays_2015\")\n",
    "snowday_stations=snowdays_100.rdd.map(lambda x:  (x.snowdays,x.station)).reduceByKey(lambda x, y: x + ',' + y)\n",
    "for snowday in snowday_stations.collect():\n",
    "    print 'Snow days:' + str(snowday[0]) + ' Stations:' + str(snowday[1])"
   ]
  },
  {
   "cell_type": "markdown",
   "metadata": {},
   "source": [
    "<a id=\"save\"></a>\n",
    "## Save results in Filesystem\n",
    "\n",
    "In this section, you'll save the `snowStations` DataFrame, which is the query result of the `snow2015` table for 100 US weather stations in the filesystem. Each row contains the name of the weather station and the number of snow days at that station.\n",
    "\n",
    "The data will be saved in CSV file format. "
   ]
  },
  {
   "cell_type": "code",
   "execution_count": 36,
   "metadata": {
    "collapsed": false
   },
   "outputs": [],
   "source": [
    "from os import listdir\n",
    "\n",
    "# Save as csv file, requires spark 2.0+\n",
    "if 'snowStations.csv' not in listdir('../datasets'):\n",
    "    snowStations.write.csv(\"../datasets/snowStations.csv\")"
   ]
  },
  {
   "cell_type": "markdown",
   "metadata": {},
   "source": [
    "After the DataFrame has been saved to the filesystem, you will see a new data source called `snowStations.csv` in the `Data Sets` pane. "
   ]
  },
  {
   "cell_type": "markdown",
   "metadata": {},
   "source": [
    "<a id=\"summary\"></a>\n",
    "## Summary\n",
    "\n",
    "In this sample, you learned how to use Apache Spark, how to use PySpark, the Python API for Spark and the matplotlib plotting library. You also learned how to load data from Object Storage as an RDD, how to define Spark data schemas, and how to save intermediate results in parquet format."
   ]
  },
  {
   "cell_type": "markdown",
   "metadata": {
    "collapsed": true
   },
   "source": [
    "<a id=\"resources\"></a>\n",
    "### Resources\n",
    "[Apache Spark 2.0.2 Programming Guide](https://spark.apache.org/docs/2.0.2/programming-guide.html)\n",
    "\n",
    "[Apache Spark 2.0.2 SQL and DataFrames](https://spark.apache.org/docs/2.0.2/sql-programming-guide.html)\n",
    "\n",
    "[PySpark 2.0.2 - Python API for Spark](https://spark.apache.org/docs/2.0.2/api/python/)\n",
    "\n"
   ]
  },
  {
   "cell_type": "markdown",
   "metadata": {},
   "source": [
    "### Author\n",
    "Sven Hafeneger is a member of the Watson Studio development team at IBM Analytics in Germany. He holds a M.Sc. in Bioinformatics and is passionate about data analysis, machine learning and the Python ecosystem for data science. \n",
    "\n"
   ]
  },
  {
   "cell_type": "markdown",
   "metadata": {
    "collapsed": true
   },
   "source": [
    "<div class=\"alert alert-block alert-info\"> Note: To save resources and get the best performance please use the code below to stop the kernel before exiting your notebook.</div>"
   ]
  },
  {
   "cell_type": "code",
   "execution_count": null,
   "metadata": {
    "collapsed": false
   },
   "outputs": [],
   "source": [
    "%%javascript\n",
    "Jupyter.notebook.session.delete();"
   ]
  },
  {
   "cell_type": "markdown",
   "metadata": {},
   "source": [
    "<hr>\n",
    "Copyright &copy; IBM Corp. 2017. Released as licensed Sample Materials."
   ]
  }
 ],
 "metadata": {
  "kernelspec": {
   "display_name": "Python2 with Watson Studio Spark",
   "language": "python",
   "name": "python2"
  },
  "language_info": {
   "codemirror_mode": {
    "name": "ipython",
    "version": 2
   },
   "file_extension": ".py",
   "mimetype": "text/x-python",
   "name": "python",
   "nbconvert_exporter": "python",
   "pygments_lexer": "ipython2",
   "version": "2.7.13"
  },
  "name": "cds_ax_spark.ipynb"
 },
 "nbformat": 4,
 "nbformat_minor": 1
}
